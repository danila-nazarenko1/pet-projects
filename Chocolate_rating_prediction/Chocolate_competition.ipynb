{
  "cells": [
    {
      "cell_type": "markdown",
      "source": [
        "## Соревнование \"Шоколад\""
      ],
      "metadata": {
        "id": "BVdijVCamdSj"
      }
    },
    {
      "cell_type": "markdown",
      "metadata": {
        "id": "GdKG8CAewXIs"
      },
      "source": [
        "## Описание данных"
      ]
    },
    {
      "cell_type": "markdown",
      "metadata": {
        "id": "aeBg7o8Nwjuu"
      },
      "source": [
        "*   Company - компания производитель\n",
        "*   Specific Bean Origin - географический регион происхождения\n",
        "*   REF - параметр, определяющий момент внесения записи в базу данных (чем выше *   значение, тем \"свежее\" запись)\n",
        "*   Review - дата публикации отзыва\n",
        "*   Cocoa Percent - процентное содержание какао\n",
        "*   Company Location - страна производитель\n",
        "*   Rating - экспертный рейтинг (целевая переменная)\n",
        "*   Bean Type - используемый сорт какао-бобов, если таковой имеется\n",
        "*   Broad Bean Origin - географический регион происхождения какао-бобов"
      ]
    },
    {
      "cell_type": "markdown",
      "metadata": {
        "id": "odXEC1R5w1hA"
      },
      "source": [
        "В датасете содержится информация о более чем 1700 шоколадках. В датасете представлена информация о темном шоколаде.\n",
        "\n",
        "Система рейтинга шоколада:\n",
        "\n",
        "*   5 = Elite\n",
        "*   4 = Premium\n",
        "*   3 = Satisfactory(3.0) to praiseworthy(3.75)\n",
        "*   2 = Disappointing\n",
        "*   1 = Unpleasant\n",
        "\n",
        "Для получения рейтинга каждой шоколадки оцениваются все ее характеристики.\n",
        "\n",
        "**По характеристикам шоколадки необходимо научиться предсказывать ее рейтинг без округлений** (то есть если рейтинг 3.75 - хорошая модель должна предсказать 3.75).\n",
        "\n",
        "Рейтинги были собраны Brady Brelinski, Founding Member of the Manhattan Chocolate Society."
      ]
    },
    {
      "cell_type": "markdown",
      "metadata": {
        "id": "PqJfFxWo3NAh"
      },
      "source": [
        "## Импорт библиотек, загрузка данных"
      ]
    },
    {
      "cell_type": "code",
      "execution_count": 1,
      "metadata": {
        "id": "oNOE5fKQ2_GY",
        "colab": {
          "base_uri": "https://localhost:8080/"
        },
        "outputId": "9dd553e9-288a-4b9a-ca79-1a2b8119caec"
      },
      "outputs": [
        {
          "output_type": "stream",
          "name": "stdout",
          "text": [
            "\u001b[?25l   \u001b[90m━━━━━━━━━━━━━━━━━━━━━━━━━━━━━━━━━━━━━━━━\u001b[0m \u001b[32m0.0/362.8 kB\u001b[0m \u001b[31m?\u001b[0m eta \u001b[36m-:--:--\u001b[0m\r\u001b[2K   \u001b[90m━━━━━━━━━━━━━━━━━━━━━━━━━━━━━━━━━━━━━━━━\u001b[0m \u001b[32m362.8/362.8 kB\u001b[0m \u001b[31m15.6 MB/s\u001b[0m eta \u001b[36m0:00:00\u001b[0m\n",
            "\u001b[?25h\u001b[?25l   \u001b[90m━━━━━━━━━━━━━━━━━━━━━━━━━━━━━━━━━━━━━━━━\u001b[0m \u001b[32m0.0/233.0 kB\u001b[0m \u001b[31m?\u001b[0m eta \u001b[36m-:--:--\u001b[0m\r\u001b[2K   \u001b[90m━━━━━━━━━━━━━━━━━━━━━━━━━━━━━━━━━━━━━━━━\u001b[0m \u001b[32m233.0/233.0 kB\u001b[0m \u001b[31m13.8 MB/s\u001b[0m eta \u001b[36m0:00:00\u001b[0m\n",
            "\u001b[?25h\u001b[?25l   \u001b[90m━━━━━━━━━━━━━━━━━━━━━━━━━━━━━━━━━━━━━━━━\u001b[0m \u001b[32m0.0/78.6 kB\u001b[0m \u001b[31m?\u001b[0m eta \u001b[36m-:--:--\u001b[0m\r\u001b[2K   \u001b[90m━━━━━━━━━━━━━━━━━━━━━━━━━━━━━━━━━━━━━━━━\u001b[0m \u001b[32m78.6/78.6 kB\u001b[0m \u001b[31m5.0 MB/s\u001b[0m eta \u001b[36m0:00:00\u001b[0m\n",
            "\u001b[?25h"
          ]
        }
      ],
      "source": [
        "!pip install optuna -q"
      ]
    },
    {
      "cell_type": "code",
      "source": [
        "!pip install lightgbm -q"
      ],
      "metadata": {
        "id": "2trdTCIwDB-x"
      },
      "execution_count": 2,
      "outputs": []
    },
    {
      "cell_type": "code",
      "execution_count": 3,
      "metadata": {
        "id": "x6Cp6NxwWKBP",
        "colab": {
          "base_uri": "https://localhost:8080/"
        },
        "outputId": "951a467e-bc4b-4b5b-d441-9e89195c5562"
      },
      "outputs": [
        {
          "output_type": "stream",
          "name": "stdout",
          "text": [
            "\u001b[?25l   \u001b[90m━━━━━━━━━━━━━━━━━━━━━━━━━━━━━━━━━━━━━━━━\u001b[0m \u001b[32m0.0/81.9 kB\u001b[0m \u001b[31m?\u001b[0m eta \u001b[36m-:--:--\u001b[0m\r\u001b[2K   \u001b[90m━━━━━━━━━━━━━━━━━━━━━━━━━━━━━━━━━━━━━━━━\u001b[0m \u001b[32m81.9/81.9 kB\u001b[0m \u001b[31m5.6 MB/s\u001b[0m eta \u001b[36m0:00:00\u001b[0m\n",
            "\u001b[?25h"
          ]
        }
      ],
      "source": [
        "!pip install category_encoders -q"
      ]
    },
    {
      "cell_type": "code",
      "execution_count": 4,
      "metadata": {
        "id": "Z5sW1lTBVVFt",
        "colab": {
          "base_uri": "https://localhost:8080/"
        },
        "outputId": "14f9ca11-e9f4-4e19-b8c8-7126786057ce"
      },
      "outputs": [
        {
          "output_type": "stream",
          "name": "stdout",
          "text": [
            "\u001b[2K   \u001b[90m━━━━━━━━━━━━━━━━━━━━━━━━━━━━━━━━━━━━━━━━\u001b[0m \u001b[32m98.7/98.7 MB\u001b[0m \u001b[31m7.5 MB/s\u001b[0m eta \u001b[36m0:00:00\u001b[0m\n",
            "\u001b[?25h"
          ]
        }
      ],
      "source": [
        "!pip install catboost -q"
      ]
    },
    {
      "cell_type": "code",
      "execution_count": 5,
      "metadata": {
        "colab": {
          "base_uri": "https://localhost:8080/"
        },
        "id": "D85EGRkC4d_7",
        "outputId": "471b04b6-58ce-4afe-beb1-e3db9849898f"
      },
      "outputs": [
        {
          "output_type": "stream",
          "name": "stdout",
          "text": [
            "Collecting association-metrics\n",
            "  Downloading association-metrics-0.0.1.tar.gz (3.2 kB)\n",
            "  Preparing metadata (setup.py) ... \u001b[?25l\u001b[?25hdone\n",
            "Building wheels for collected packages: association-metrics\n",
            "  Building wheel for association-metrics (setup.py) ... \u001b[?25l\u001b[?25hdone\n",
            "  Created wheel for association-metrics: filename=association_metrics-0.0.1-py3-none-any.whl size=3929 sha256=a67790bd87dfb93fc9a6d458cf692dc1f6775d602f644b6ee132ac4cd06b8de3\n",
            "  Stored in directory: /root/.cache/pip/wheels/01/47/5f/4360ef6988df6f1b0c1857cab43334269110160bd97b716936\n",
            "Successfully built association-metrics\n",
            "Installing collected packages: association-metrics\n",
            "Successfully installed association-metrics-0.0.1\n"
          ]
        }
      ],
      "source": [
        "!pip install association-metrics"
      ]
    },
    {
      "cell_type": "code",
      "execution_count": 6,
      "metadata": {
        "id": "XBVPSLy-3Gqt",
        "colab": {
          "base_uri": "https://localhost:8080/"
        },
        "outputId": "0f2b6adb-f859-4857-fcca-2570b528680b"
      },
      "outputs": [
        {
          "output_type": "stream",
          "name": "stderr",
          "text": [
            "/usr/local/lib/python3.10/dist-packages/dask/dataframe/__init__.py:42: FutureWarning: \n",
            "Dask dataframe query planning is disabled because dask-expr is not installed.\n",
            "\n",
            "You can install it with `pip install dask[dataframe]` or `conda install dask`.\n",
            "This will raise in a future version.\n",
            "\n",
            "  warnings.warn(msg, FutureWarning)\n"
          ]
        }
      ],
      "source": [
        "import pandas as pd\n",
        "import numpy as np\n",
        "import association_metrics as am\n",
        "import seaborn as sb\n",
        "import matplotlib.pyplot as plt\n",
        "import optuna\n",
        "from sklearn.pipeline import Pipeline\n",
        "from sklearn.ensemble import RandomForestRegressor\n",
        "from catboost import CatBoostRegressor\n",
        "from xgboost import XGBRegressor\n",
        "from lightgbm import LGBMRegressor\n",
        "from sklearn.preprocessing import MinMaxScaler\n",
        "from sklearn.preprocessing import StandardScaler\n",
        "from sklearn.preprocessing import PolynomialFeatures\n",
        "from category_encoders.target_encoder import TargetEncoder\n",
        "from category_encoders.leave_one_out import LeaveOneOutEncoder\n",
        "from sklearn.model_selection import train_test_split\n",
        "from sklearn.metrics import r2_score\n",
        "from sklearn.model_selection import cross_val_score\n",
        "from sklearn.ensemble import StackingRegressor\n"
      ]
    },
    {
      "cell_type": "code",
      "execution_count": 7,
      "metadata": {
        "id": "-_2mzgiX3USQ"
      },
      "outputs": [],
      "source": [
        "TRAIN = \"https://raw.githubusercontent.com/evgpat/edu_stepik_practical_ml/main/datasets/chocolate_train.csv\"\n",
        "TEST = \"https://raw.githubusercontent.com/evgpat/edu_stepik_practical_ml/main/datasets/chocolate_test_new.csv\""
      ]
    },
    {
      "cell_type": "code",
      "execution_count": 8,
      "metadata": {
        "id": "-RR6A-W_3D_C"
      },
      "outputs": [],
      "source": [
        "train_df = pd.read_csv(TRAIN)"
      ]
    },
    {
      "cell_type": "markdown",
      "metadata": {
        "id": "YVMPYr0mxnCk"
      },
      "source": [
        "## Обзор и обработка данных"
      ]
    },
    {
      "cell_type": "code",
      "execution_count": 9,
      "metadata": {
        "colab": {
          "base_uri": "https://localhost:8080/",
          "height": 919
        },
        "id": "_qamowdcuIsd",
        "outputId": "3d92fcbd-0cd9-4f27-bf43-1196c5bc0401"
      },
      "outputs": [
        {
          "output_type": "execute_result",
          "data": {
            "text/plain": [
              "                         Company                  Specific Bean Origin   REF  \\\n",
              "0                 Willie's Cacao                            Rio Caribe   457   \n",
              "1             Beschle (Felchlin)    Ocumare, Premier Cru, Quizas No. 2   508   \n",
              "2                    Dark Forest                              Tanzania  1554   \n",
              "3   Brasstown aka It's Chocolate                            Cooproagro  1125   \n",
              "4                         Pralus                       Java, Indonesie    32   \n",
              "5                     Pitch Dark                                 Chuno  1510   \n",
              "6                    Letterpress                               Beniamo  1562   \n",
              "7                 Shark Mountain                               Cuyagua  1466   \n",
              "8             Laia aka Chat-Noir                   Lam Dong, Batch 153  1642   \n",
              "9                        Duffy's                       Star of Ecuador   523   \n",
              "10            Aequare (Gianduja)             Los Rios, Quevedo, Arriba   370   \n",
              "11            Beschle (Felchlin)  Indigena Amazonia, Grand Cru, Quizas   636   \n",
              "12                 Map Chocolate         Tumbes, Dear Mr. Finley, 2014  1606   \n",
              "13                          Kyya                            Madagascar  1363   \n",
              "14                      Fruition          Coto Brus, Heirloom, Batch 1  1780   \n",
              "15         Hoja Verde (Tulicorp)                                Arriba   414   \n",
              "16                 Cacao Hunters                              Arhuacos  1662   \n",
              "17                   Dark Forest                               Ocumare  1550   \n",
              "18                      Habitual                      Papua New Guinea  1197   \n",
              "19                        Vicuna                  Palos Blancos + nibs  1470   \n",
              "\n",
              "    Review Cocoa Percent Company Location  Rating               Bean Type  \\\n",
              "0     2009           72%             U.K.    3.25              Trinitario   \n",
              "1     2010           72%      Switzerland    3.50                           \n",
              "2     2015           70%           U.S.A.    3.00                           \n",
              "3     2013           72%           U.S.A.    3.00              Trinitario   \n",
              "4     2006           75%           France    3.50                 Criollo   \n",
              "5     2015           80%           U.S.A.    2.75     Criollo, Trinitario   \n",
              "6     2015           70%           U.S.A.    3.25                           \n",
              "7     2015           77%           U.S.A.    2.75                 Criollo   \n",
              "8     2015           75%           France    3.75              Trinitario   \n",
              "9     2010           70%             U.K.    2.50                           \n",
              "10    2009           70%          Ecuador    3.00      Forastero (Arriba)   \n",
              "11    2011           72%      Switzerland    3.50                           \n",
              "12    2015           68%           U.S.A.    3.50                 Criollo   \n",
              "13    2014         72.5%           U.S.A.    3.00              Trinitario   \n",
              "14    2016           74%           U.S.A.    4.00              Amazon mix   \n",
              "15    2009           58%          Ecuador    3.25  Forastero (Arriba) ASS   \n",
              "16    2015           72%         Colombia    3.75                           \n",
              "17    2015           70%           U.S.A.    3.25                           \n",
              "18    2014           80%           Canada    2.75                           \n",
              "19    2015           70%           U.S.A.    3.25                           \n",
              "\n",
              "     Broad Bean Origin  \n",
              "0            Venezuela  \n",
              "1            Venezuela  \n",
              "2             Tanzania  \n",
              "3   Dominican Republic  \n",
              "4            Indonesia  \n",
              "5            Nicaragua  \n",
              "6              Bolivia  \n",
              "7            Venezuela  \n",
              "8              Vietnam  \n",
              "9              Ecuador  \n",
              "10             Ecuador  \n",
              "11           Venezuela  \n",
              "12                Peru  \n",
              "13          Madagascar  \n",
              "14          Costa Rica  \n",
              "15             Ecuador  \n",
              "16            Colombia  \n",
              "17           Venezuela  \n",
              "18    Papua New Guinea  \n",
              "19             Bolivia  "
            ],
            "text/html": [
              "\n",
              "  <div id=\"df-fb186a0d-50d8-4fa7-979f-c2a3b03401aa\" class=\"colab-df-container\">\n",
              "    <div>\n",
              "<style scoped>\n",
              "    .dataframe tbody tr th:only-of-type {\n",
              "        vertical-align: middle;\n",
              "    }\n",
              "\n",
              "    .dataframe tbody tr th {\n",
              "        vertical-align: top;\n",
              "    }\n",
              "\n",
              "    .dataframe thead th {\n",
              "        text-align: right;\n",
              "    }\n",
              "</style>\n",
              "<table border=\"1\" class=\"dataframe\">\n",
              "  <thead>\n",
              "    <tr style=\"text-align: right;\">\n",
              "      <th></th>\n",
              "      <th>Company</th>\n",
              "      <th>Specific Bean Origin</th>\n",
              "      <th>REF</th>\n",
              "      <th>Review</th>\n",
              "      <th>Cocoa Percent</th>\n",
              "      <th>Company Location</th>\n",
              "      <th>Rating</th>\n",
              "      <th>Bean Type</th>\n",
              "      <th>Broad Bean Origin</th>\n",
              "    </tr>\n",
              "  </thead>\n",
              "  <tbody>\n",
              "    <tr>\n",
              "      <th>0</th>\n",
              "      <td>Willie's Cacao</td>\n",
              "      <td>Rio Caribe</td>\n",
              "      <td>457</td>\n",
              "      <td>2009</td>\n",
              "      <td>72%</td>\n",
              "      <td>U.K.</td>\n",
              "      <td>3.25</td>\n",
              "      <td>Trinitario</td>\n",
              "      <td>Venezuela</td>\n",
              "    </tr>\n",
              "    <tr>\n",
              "      <th>1</th>\n",
              "      <td>Beschle (Felchlin)</td>\n",
              "      <td>Ocumare, Premier Cru, Quizas No. 2</td>\n",
              "      <td>508</td>\n",
              "      <td>2010</td>\n",
              "      <td>72%</td>\n",
              "      <td>Switzerland</td>\n",
              "      <td>3.50</td>\n",
              "      <td></td>\n",
              "      <td>Venezuela</td>\n",
              "    </tr>\n",
              "    <tr>\n",
              "      <th>2</th>\n",
              "      <td>Dark Forest</td>\n",
              "      <td>Tanzania</td>\n",
              "      <td>1554</td>\n",
              "      <td>2015</td>\n",
              "      <td>70%</td>\n",
              "      <td>U.S.A.</td>\n",
              "      <td>3.00</td>\n",
              "      <td></td>\n",
              "      <td>Tanzania</td>\n",
              "    </tr>\n",
              "    <tr>\n",
              "      <th>3</th>\n",
              "      <td>Brasstown aka It's Chocolate</td>\n",
              "      <td>Cooproagro</td>\n",
              "      <td>1125</td>\n",
              "      <td>2013</td>\n",
              "      <td>72%</td>\n",
              "      <td>U.S.A.</td>\n",
              "      <td>3.00</td>\n",
              "      <td>Trinitario</td>\n",
              "      <td>Dominican Republic</td>\n",
              "    </tr>\n",
              "    <tr>\n",
              "      <th>4</th>\n",
              "      <td>Pralus</td>\n",
              "      <td>Java, Indonesie</td>\n",
              "      <td>32</td>\n",
              "      <td>2006</td>\n",
              "      <td>75%</td>\n",
              "      <td>France</td>\n",
              "      <td>3.50</td>\n",
              "      <td>Criollo</td>\n",
              "      <td>Indonesia</td>\n",
              "    </tr>\n",
              "    <tr>\n",
              "      <th>5</th>\n",
              "      <td>Pitch Dark</td>\n",
              "      <td>Chuno</td>\n",
              "      <td>1510</td>\n",
              "      <td>2015</td>\n",
              "      <td>80%</td>\n",
              "      <td>U.S.A.</td>\n",
              "      <td>2.75</td>\n",
              "      <td>Criollo, Trinitario</td>\n",
              "      <td>Nicaragua</td>\n",
              "    </tr>\n",
              "    <tr>\n",
              "      <th>6</th>\n",
              "      <td>Letterpress</td>\n",
              "      <td>Beniamo</td>\n",
              "      <td>1562</td>\n",
              "      <td>2015</td>\n",
              "      <td>70%</td>\n",
              "      <td>U.S.A.</td>\n",
              "      <td>3.25</td>\n",
              "      <td></td>\n",
              "      <td>Bolivia</td>\n",
              "    </tr>\n",
              "    <tr>\n",
              "      <th>7</th>\n",
              "      <td>Shark Mountain</td>\n",
              "      <td>Cuyagua</td>\n",
              "      <td>1466</td>\n",
              "      <td>2015</td>\n",
              "      <td>77%</td>\n",
              "      <td>U.S.A.</td>\n",
              "      <td>2.75</td>\n",
              "      <td>Criollo</td>\n",
              "      <td>Venezuela</td>\n",
              "    </tr>\n",
              "    <tr>\n",
              "      <th>8</th>\n",
              "      <td>Laia aka Chat-Noir</td>\n",
              "      <td>Lam Dong, Batch 153</td>\n",
              "      <td>1642</td>\n",
              "      <td>2015</td>\n",
              "      <td>75%</td>\n",
              "      <td>France</td>\n",
              "      <td>3.75</td>\n",
              "      <td>Trinitario</td>\n",
              "      <td>Vietnam</td>\n",
              "    </tr>\n",
              "    <tr>\n",
              "      <th>9</th>\n",
              "      <td>Duffy's</td>\n",
              "      <td>Star of Ecuador</td>\n",
              "      <td>523</td>\n",
              "      <td>2010</td>\n",
              "      <td>70%</td>\n",
              "      <td>U.K.</td>\n",
              "      <td>2.50</td>\n",
              "      <td></td>\n",
              "      <td>Ecuador</td>\n",
              "    </tr>\n",
              "    <tr>\n",
              "      <th>10</th>\n",
              "      <td>Aequare (Gianduja)</td>\n",
              "      <td>Los Rios, Quevedo, Arriba</td>\n",
              "      <td>370</td>\n",
              "      <td>2009</td>\n",
              "      <td>70%</td>\n",
              "      <td>Ecuador</td>\n",
              "      <td>3.00</td>\n",
              "      <td>Forastero (Arriba)</td>\n",
              "      <td>Ecuador</td>\n",
              "    </tr>\n",
              "    <tr>\n",
              "      <th>11</th>\n",
              "      <td>Beschle (Felchlin)</td>\n",
              "      <td>Indigena Amazonia, Grand Cru, Quizas</td>\n",
              "      <td>636</td>\n",
              "      <td>2011</td>\n",
              "      <td>72%</td>\n",
              "      <td>Switzerland</td>\n",
              "      <td>3.50</td>\n",
              "      <td></td>\n",
              "      <td>Venezuela</td>\n",
              "    </tr>\n",
              "    <tr>\n",
              "      <th>12</th>\n",
              "      <td>Map Chocolate</td>\n",
              "      <td>Tumbes, Dear Mr. Finley, 2014</td>\n",
              "      <td>1606</td>\n",
              "      <td>2015</td>\n",
              "      <td>68%</td>\n",
              "      <td>U.S.A.</td>\n",
              "      <td>3.50</td>\n",
              "      <td>Criollo</td>\n",
              "      <td>Peru</td>\n",
              "    </tr>\n",
              "    <tr>\n",
              "      <th>13</th>\n",
              "      <td>Kyya</td>\n",
              "      <td>Madagascar</td>\n",
              "      <td>1363</td>\n",
              "      <td>2014</td>\n",
              "      <td>72.5%</td>\n",
              "      <td>U.S.A.</td>\n",
              "      <td>3.00</td>\n",
              "      <td>Trinitario</td>\n",
              "      <td>Madagascar</td>\n",
              "    </tr>\n",
              "    <tr>\n",
              "      <th>14</th>\n",
              "      <td>Fruition</td>\n",
              "      <td>Coto Brus, Heirloom, Batch 1</td>\n",
              "      <td>1780</td>\n",
              "      <td>2016</td>\n",
              "      <td>74%</td>\n",
              "      <td>U.S.A.</td>\n",
              "      <td>4.00</td>\n",
              "      <td>Amazon mix</td>\n",
              "      <td>Costa Rica</td>\n",
              "    </tr>\n",
              "    <tr>\n",
              "      <th>15</th>\n",
              "      <td>Hoja Verde (Tulicorp)</td>\n",
              "      <td>Arriba</td>\n",
              "      <td>414</td>\n",
              "      <td>2009</td>\n",
              "      <td>58%</td>\n",
              "      <td>Ecuador</td>\n",
              "      <td>3.25</td>\n",
              "      <td>Forastero (Arriba) ASS</td>\n",
              "      <td>Ecuador</td>\n",
              "    </tr>\n",
              "    <tr>\n",
              "      <th>16</th>\n",
              "      <td>Cacao Hunters</td>\n",
              "      <td>Arhuacos</td>\n",
              "      <td>1662</td>\n",
              "      <td>2015</td>\n",
              "      <td>72%</td>\n",
              "      <td>Colombia</td>\n",
              "      <td>3.75</td>\n",
              "      <td></td>\n",
              "      <td>Colombia</td>\n",
              "    </tr>\n",
              "    <tr>\n",
              "      <th>17</th>\n",
              "      <td>Dark Forest</td>\n",
              "      <td>Ocumare</td>\n",
              "      <td>1550</td>\n",
              "      <td>2015</td>\n",
              "      <td>70%</td>\n",
              "      <td>U.S.A.</td>\n",
              "      <td>3.25</td>\n",
              "      <td></td>\n",
              "      <td>Venezuela</td>\n",
              "    </tr>\n",
              "    <tr>\n",
              "      <th>18</th>\n",
              "      <td>Habitual</td>\n",
              "      <td>Papua New Guinea</td>\n",
              "      <td>1197</td>\n",
              "      <td>2014</td>\n",
              "      <td>80%</td>\n",
              "      <td>Canada</td>\n",
              "      <td>2.75</td>\n",
              "      <td></td>\n",
              "      <td>Papua New Guinea</td>\n",
              "    </tr>\n",
              "    <tr>\n",
              "      <th>19</th>\n",
              "      <td>Vicuna</td>\n",
              "      <td>Palos Blancos + nibs</td>\n",
              "      <td>1470</td>\n",
              "      <td>2015</td>\n",
              "      <td>70%</td>\n",
              "      <td>U.S.A.</td>\n",
              "      <td>3.25</td>\n",
              "      <td></td>\n",
              "      <td>Bolivia</td>\n",
              "    </tr>\n",
              "  </tbody>\n",
              "</table>\n",
              "</div>\n",
              "    <div class=\"colab-df-buttons\">\n",
              "\n",
              "  <div class=\"colab-df-container\">\n",
              "    <button class=\"colab-df-convert\" onclick=\"convertToInteractive('df-fb186a0d-50d8-4fa7-979f-c2a3b03401aa')\"\n",
              "            title=\"Convert this dataframe to an interactive table.\"\n",
              "            style=\"display:none;\">\n",
              "\n",
              "  <svg xmlns=\"http://www.w3.org/2000/svg\" height=\"24px\" viewBox=\"0 -960 960 960\">\n",
              "    <path d=\"M120-120v-720h720v720H120Zm60-500h600v-160H180v160Zm220 220h160v-160H400v160Zm0 220h160v-160H400v160ZM180-400h160v-160H180v160Zm440 0h160v-160H620v160ZM180-180h160v-160H180v160Zm440 0h160v-160H620v160Z\"/>\n",
              "  </svg>\n",
              "    </button>\n",
              "\n",
              "  <style>\n",
              "    .colab-df-container {\n",
              "      display:flex;\n",
              "      gap: 12px;\n",
              "    }\n",
              "\n",
              "    .colab-df-convert {\n",
              "      background-color: #E8F0FE;\n",
              "      border: none;\n",
              "      border-radius: 50%;\n",
              "      cursor: pointer;\n",
              "      display: none;\n",
              "      fill: #1967D2;\n",
              "      height: 32px;\n",
              "      padding: 0 0 0 0;\n",
              "      width: 32px;\n",
              "    }\n",
              "\n",
              "    .colab-df-convert:hover {\n",
              "      background-color: #E2EBFA;\n",
              "      box-shadow: 0px 1px 2px rgba(60, 64, 67, 0.3), 0px 1px 3px 1px rgba(60, 64, 67, 0.15);\n",
              "      fill: #174EA6;\n",
              "    }\n",
              "\n",
              "    .colab-df-buttons div {\n",
              "      margin-bottom: 4px;\n",
              "    }\n",
              "\n",
              "    [theme=dark] .colab-df-convert {\n",
              "      background-color: #3B4455;\n",
              "      fill: #D2E3FC;\n",
              "    }\n",
              "\n",
              "    [theme=dark] .colab-df-convert:hover {\n",
              "      background-color: #434B5C;\n",
              "      box-shadow: 0px 1px 3px 1px rgba(0, 0, 0, 0.15);\n",
              "      filter: drop-shadow(0px 1px 2px rgba(0, 0, 0, 0.3));\n",
              "      fill: #FFFFFF;\n",
              "    }\n",
              "  </style>\n",
              "\n",
              "    <script>\n",
              "      const buttonEl =\n",
              "        document.querySelector('#df-fb186a0d-50d8-4fa7-979f-c2a3b03401aa button.colab-df-convert');\n",
              "      buttonEl.style.display =\n",
              "        google.colab.kernel.accessAllowed ? 'block' : 'none';\n",
              "\n",
              "      async function convertToInteractive(key) {\n",
              "        const element = document.querySelector('#df-fb186a0d-50d8-4fa7-979f-c2a3b03401aa');\n",
              "        const dataTable =\n",
              "          await google.colab.kernel.invokeFunction('convertToInteractive',\n",
              "                                                    [key], {});\n",
              "        if (!dataTable) return;\n",
              "\n",
              "        const docLinkHtml = 'Like what you see? Visit the ' +\n",
              "          '<a target=\"_blank\" href=https://colab.research.google.com/notebooks/data_table.ipynb>data table notebook</a>'\n",
              "          + ' to learn more about interactive tables.';\n",
              "        element.innerHTML = '';\n",
              "        dataTable['output_type'] = 'display_data';\n",
              "        await google.colab.output.renderOutput(dataTable, element);\n",
              "        const docLink = document.createElement('div');\n",
              "        docLink.innerHTML = docLinkHtml;\n",
              "        element.appendChild(docLink);\n",
              "      }\n",
              "    </script>\n",
              "  </div>\n",
              "\n",
              "\n",
              "<div id=\"df-b66d5275-e312-42ff-a5b7-331b21a565fc\">\n",
              "  <button class=\"colab-df-quickchart\" onclick=\"quickchart('df-b66d5275-e312-42ff-a5b7-331b21a565fc')\"\n",
              "            title=\"Suggest charts\"\n",
              "            style=\"display:none;\">\n",
              "\n",
              "<svg xmlns=\"http://www.w3.org/2000/svg\" height=\"24px\"viewBox=\"0 0 24 24\"\n",
              "     width=\"24px\">\n",
              "    <g>\n",
              "        <path d=\"M19 3H5c-1.1 0-2 .9-2 2v14c0 1.1.9 2 2 2h14c1.1 0 2-.9 2-2V5c0-1.1-.9-2-2-2zM9 17H7v-7h2v7zm4 0h-2V7h2v10zm4 0h-2v-4h2v4z\"/>\n",
              "    </g>\n",
              "</svg>\n",
              "  </button>\n",
              "\n",
              "<style>\n",
              "  .colab-df-quickchart {\n",
              "      --bg-color: #E8F0FE;\n",
              "      --fill-color: #1967D2;\n",
              "      --hover-bg-color: #E2EBFA;\n",
              "      --hover-fill-color: #174EA6;\n",
              "      --disabled-fill-color: #AAA;\n",
              "      --disabled-bg-color: #DDD;\n",
              "  }\n",
              "\n",
              "  [theme=dark] .colab-df-quickchart {\n",
              "      --bg-color: #3B4455;\n",
              "      --fill-color: #D2E3FC;\n",
              "      --hover-bg-color: #434B5C;\n",
              "      --hover-fill-color: #FFFFFF;\n",
              "      --disabled-bg-color: #3B4455;\n",
              "      --disabled-fill-color: #666;\n",
              "  }\n",
              "\n",
              "  .colab-df-quickchart {\n",
              "    background-color: var(--bg-color);\n",
              "    border: none;\n",
              "    border-radius: 50%;\n",
              "    cursor: pointer;\n",
              "    display: none;\n",
              "    fill: var(--fill-color);\n",
              "    height: 32px;\n",
              "    padding: 0;\n",
              "    width: 32px;\n",
              "  }\n",
              "\n",
              "  .colab-df-quickchart:hover {\n",
              "    background-color: var(--hover-bg-color);\n",
              "    box-shadow: 0 1px 2px rgba(60, 64, 67, 0.3), 0 1px 3px 1px rgba(60, 64, 67, 0.15);\n",
              "    fill: var(--button-hover-fill-color);\n",
              "  }\n",
              "\n",
              "  .colab-df-quickchart-complete:disabled,\n",
              "  .colab-df-quickchart-complete:disabled:hover {\n",
              "    background-color: var(--disabled-bg-color);\n",
              "    fill: var(--disabled-fill-color);\n",
              "    box-shadow: none;\n",
              "  }\n",
              "\n",
              "  .colab-df-spinner {\n",
              "    border: 2px solid var(--fill-color);\n",
              "    border-color: transparent;\n",
              "    border-bottom-color: var(--fill-color);\n",
              "    animation:\n",
              "      spin 1s steps(1) infinite;\n",
              "  }\n",
              "\n",
              "  @keyframes spin {\n",
              "    0% {\n",
              "      border-color: transparent;\n",
              "      border-bottom-color: var(--fill-color);\n",
              "      border-left-color: var(--fill-color);\n",
              "    }\n",
              "    20% {\n",
              "      border-color: transparent;\n",
              "      border-left-color: var(--fill-color);\n",
              "      border-top-color: var(--fill-color);\n",
              "    }\n",
              "    30% {\n",
              "      border-color: transparent;\n",
              "      border-left-color: var(--fill-color);\n",
              "      border-top-color: var(--fill-color);\n",
              "      border-right-color: var(--fill-color);\n",
              "    }\n",
              "    40% {\n",
              "      border-color: transparent;\n",
              "      border-right-color: var(--fill-color);\n",
              "      border-top-color: var(--fill-color);\n",
              "    }\n",
              "    60% {\n",
              "      border-color: transparent;\n",
              "      border-right-color: var(--fill-color);\n",
              "    }\n",
              "    80% {\n",
              "      border-color: transparent;\n",
              "      border-right-color: var(--fill-color);\n",
              "      border-bottom-color: var(--fill-color);\n",
              "    }\n",
              "    90% {\n",
              "      border-color: transparent;\n",
              "      border-bottom-color: var(--fill-color);\n",
              "    }\n",
              "  }\n",
              "</style>\n",
              "\n",
              "  <script>\n",
              "    async function quickchart(key) {\n",
              "      const quickchartButtonEl =\n",
              "        document.querySelector('#' + key + ' button');\n",
              "      quickchartButtonEl.disabled = true;  // To prevent multiple clicks.\n",
              "      quickchartButtonEl.classList.add('colab-df-spinner');\n",
              "      try {\n",
              "        const charts = await google.colab.kernel.invokeFunction(\n",
              "            'suggestCharts', [key], {});\n",
              "      } catch (error) {\n",
              "        console.error('Error during call to suggestCharts:', error);\n",
              "      }\n",
              "      quickchartButtonEl.classList.remove('colab-df-spinner');\n",
              "      quickchartButtonEl.classList.add('colab-df-quickchart-complete');\n",
              "    }\n",
              "    (() => {\n",
              "      let quickchartButtonEl =\n",
              "        document.querySelector('#df-b66d5275-e312-42ff-a5b7-331b21a565fc button');\n",
              "      quickchartButtonEl.style.display =\n",
              "        google.colab.kernel.accessAllowed ? 'block' : 'none';\n",
              "    })();\n",
              "  </script>\n",
              "</div>\n",
              "\n",
              "    </div>\n",
              "  </div>\n"
            ],
            "application/vnd.google.colaboratory.intrinsic+json": {
              "type": "dataframe",
              "variable_name": "train_df",
              "summary": "{\n  \"name\": \"train_df\",\n  \"rows\": 1255,\n  \"fields\": [\n    {\n      \"column\": \"Company\",\n      \"properties\": {\n        \"dtype\": \"category\",\n        \"num_unique_values\": 376,\n        \"samples\": [\n          \"Malmo\",\n          \"Whittakers\",\n          \"El Rey\"\n        ],\n        \"semantic_type\": \"\",\n        \"description\": \"\"\n      }\n    },\n    {\n      \"column\": \"Specific Bean Origin\",\n      \"properties\": {\n        \"dtype\": \"string\",\n        \"num_unique_values\": 762,\n        \"samples\": [\n          \"Venezuela; Barinos, Merida, Tachron\",\n          \"Akesson's, batch 4411\",\n          \"Ambanja, Sambirano Valley\"\n        ],\n        \"semantic_type\": \"\",\n        \"description\": \"\"\n      }\n    },\n    {\n      \"column\": \"REF\",\n      \"properties\": {\n        \"dtype\": \"number\",\n        \"std\": 551,\n        \"min\": 5,\n        \"max\": 1952,\n        \"num_unique_values\": 433,\n        \"samples\": [\n          1383,\n          1478,\n          56\n        ],\n        \"semantic_type\": \"\",\n        \"description\": \"\"\n      }\n    },\n    {\n      \"column\": \"Review\",\n      \"properties\": {\n        \"dtype\": \"number\",\n        \"std\": 2,\n        \"min\": 2006,\n        \"max\": 2017,\n        \"num_unique_values\": 12,\n        \"samples\": [\n          2007,\n          2012,\n          2009\n        ],\n        \"semantic_type\": \"\",\n        \"description\": \"\"\n      }\n    },\n    {\n      \"column\": \"Cocoa Percent\",\n      \"properties\": {\n        \"dtype\": \"category\",\n        \"num_unique_values\": 40,\n        \"samples\": [\n          \"91%\",\n          \"81%\",\n          \"76%\"\n        ],\n        \"semantic_type\": \"\",\n        \"description\": \"\"\n      }\n    },\n    {\n      \"column\": \"Company Location\",\n      \"properties\": {\n        \"dtype\": \"category\",\n        \"num_unique_values\": 58,\n        \"samples\": [\n          \"U.K.\",\n          \"Colombia\",\n          \"Scotland\"\n        ],\n        \"semantic_type\": \"\",\n        \"description\": \"\"\n      }\n    },\n    {\n      \"column\": \"Rating\",\n      \"properties\": {\n        \"dtype\": \"number\",\n        \"std\": 0.4789480212939801,\n        \"min\": 1.0,\n        \"max\": 5.0,\n        \"num_unique_values\": 13,\n        \"samples\": [\n          1.75,\n          2.0,\n          3.25\n        ],\n        \"semantic_type\": \"\",\n        \"description\": \"\"\n      }\n    },\n    {\n      \"column\": \"Bean Type\",\n      \"properties\": {\n        \"dtype\": \"category\",\n        \"num_unique_values\": 38,\n        \"samples\": [\n          \"Blend-Forastero,Criollo\",\n          \"Trinitario, Nacional\",\n          \"Forastero (Arriba)\"\n        ],\n        \"semantic_type\": \"\",\n        \"description\": \"\"\n      }\n    },\n    {\n      \"column\": \"Broad Bean Origin\",\n      \"properties\": {\n        \"dtype\": \"category\",\n        \"num_unique_values\": 84,\n        \"samples\": [\n          \"Indonesia, Ghana\",\n          \"Venezuela\",\n          \"Gabon\"\n        ],\n        \"semantic_type\": \"\",\n        \"description\": \"\"\n      }\n    }\n  ]\n}"
            }
          },
          "metadata": {},
          "execution_count": 9
        }
      ],
      "source": [
        "train_df.head(20)"
      ]
    },
    {
      "cell_type": "code",
      "execution_count": 10,
      "metadata": {
        "colab": {
          "base_uri": "https://localhost:8080/"
        },
        "id": "R7Ekx8Ixvf8D",
        "outputId": "c67f4365-9ca8-4d81-dce0-471bfa0a2c4a"
      },
      "outputs": [
        {
          "output_type": "stream",
          "name": "stdout",
          "text": [
            "<class 'pandas.core.frame.DataFrame'>\n",
            "RangeIndex: 1255 entries, 0 to 1254\n",
            "Data columns (total 9 columns):\n",
            " #   Column                Non-Null Count  Dtype  \n",
            "---  ------                --------------  -----  \n",
            " 0   Company               1255 non-null   object \n",
            " 1   Specific Bean Origin  1255 non-null   object \n",
            " 2   REF                   1255 non-null   int64  \n",
            " 3   Review                1255 non-null   int64  \n",
            " 4   Cocoa Percent         1255 non-null   object \n",
            " 5   Company Location      1255 non-null   object \n",
            " 6   Rating                1255 non-null   float64\n",
            " 7   Bean Type             1254 non-null   object \n",
            " 8   Broad Bean Origin     1254 non-null   object \n",
            "dtypes: float64(1), int64(2), object(6)\n",
            "memory usage: 88.4+ KB\n"
          ]
        }
      ],
      "source": [
        "train_df.info()"
      ]
    },
    {
      "cell_type": "markdown",
      "metadata": {
        "id": "Oeb5O97ux9X4"
      },
      "source": [
        "Заметим, что пропуски обозначаются пробелом. Заменим пропуски, чтобы с ними было удобно работать."
      ]
    },
    {
      "cell_type": "code",
      "execution_count": 11,
      "metadata": {
        "id": "7fVOH6F4yXi7"
      },
      "outputs": [],
      "source": [
        "train_df = train_df.replace(\"\\xa0\", np.NAN)"
      ]
    },
    {
      "cell_type": "code",
      "execution_count": 12,
      "metadata": {
        "colab": {
          "base_uri": "https://localhost:8080/"
        },
        "id": "WYGwTq2WzKLo",
        "outputId": "1f67187e-d753-4e9d-d289-e4c88e706b69"
      },
      "outputs": [
        {
          "output_type": "stream",
          "name": "stdout",
          "text": [
            "<class 'pandas.core.frame.DataFrame'>\n",
            "RangeIndex: 1255 entries, 0 to 1254\n",
            "Data columns (total 9 columns):\n",
            " #   Column                Non-Null Count  Dtype  \n",
            "---  ------                --------------  -----  \n",
            " 0   Company               1255 non-null   object \n",
            " 1   Specific Bean Origin  1255 non-null   object \n",
            " 2   REF                   1255 non-null   int64  \n",
            " 3   Review                1255 non-null   int64  \n",
            " 4   Cocoa Percent         1255 non-null   object \n",
            " 5   Company Location      1255 non-null   object \n",
            " 6   Rating                1255 non-null   float64\n",
            " 7   Bean Type             626 non-null    object \n",
            " 8   Broad Bean Origin     1199 non-null   object \n",
            "dtypes: float64(1), int64(2), object(6)\n",
            "memory usage: 88.4+ KB\n"
          ]
        }
      ],
      "source": [
        "train_df.info()"
      ]
    },
    {
      "cell_type": "markdown",
      "metadata": {
        "id": "jXuMmGSs3nYt"
      },
      "source": [
        "Так как колонки REF и Review несут в себе одну и ту же информацию, удалим колонку \"Review\", как менее информативную."
      ]
    },
    {
      "cell_type": "code",
      "execution_count": 13,
      "metadata": {
        "id": "sYHACE7J1kJp"
      },
      "outputs": [],
      "source": [
        "del train_df[\"Review\"]"
      ]
    },
    {
      "cell_type": "markdown",
      "metadata": {
        "id": "c6MimZJm5q9c"
      },
      "source": [
        "Посмотрим на V-меру Крамера категориальных признаков"
      ]
    },
    {
      "cell_type": "code",
      "execution_count": 14,
      "metadata": {
        "colab": {
          "base_uri": "https://localhost:8080/",
          "height": 289
        },
        "id": "wgJWmQbW4Km7",
        "outputId": "c914b7f9-b0b1-4f68-fa7f-0326bcc38769"
      },
      "outputs": [
        {
          "output_type": "execute_result",
          "data": {
            "text/plain": [
              "                       Company  Specific Bean Origin  Cocoa Percent  \\\n",
              "Company               1.000000              0.771074       0.631564   \n",
              "Specific Bean Origin  0.771074              1.000000       0.772975   \n",
              "Cocoa Percent         0.631564              0.772975       1.000000   \n",
              "Company Location      0.999651              0.808500       0.243803   \n",
              "Bean Type             0.699234              0.945435       0.209584   \n",
              "Broad Bean Origin     0.606780              0.986510       0.273609   \n",
              "\n",
              "                      Company Location  Bean Type  Broad Bean Origin  \n",
              "Company                       0.999651   0.699234           0.606780  \n",
              "Specific Bean Origin          0.808500   0.945435           0.986510  \n",
              "Cocoa Percent                 0.243803   0.209584           0.273609  \n",
              "Company Location              1.000000   0.335082           0.384231  \n",
              "Bean Type                     0.335082   1.000000           0.460058  \n",
              "Broad Bean Origin             0.384231   0.460058           1.000000  "
            ],
            "text/html": [
              "\n",
              "  <div id=\"df-e64d4fda-daa4-482e-9748-9125c095b5ed\" class=\"colab-df-container\">\n",
              "    <div>\n",
              "<style scoped>\n",
              "    .dataframe tbody tr th:only-of-type {\n",
              "        vertical-align: middle;\n",
              "    }\n",
              "\n",
              "    .dataframe tbody tr th {\n",
              "        vertical-align: top;\n",
              "    }\n",
              "\n",
              "    .dataframe thead th {\n",
              "        text-align: right;\n",
              "    }\n",
              "</style>\n",
              "<table border=\"1\" class=\"dataframe\">\n",
              "  <thead>\n",
              "    <tr style=\"text-align: right;\">\n",
              "      <th></th>\n",
              "      <th>Company</th>\n",
              "      <th>Specific Bean Origin</th>\n",
              "      <th>Cocoa Percent</th>\n",
              "      <th>Company Location</th>\n",
              "      <th>Bean Type</th>\n",
              "      <th>Broad Bean Origin</th>\n",
              "    </tr>\n",
              "  </thead>\n",
              "  <tbody>\n",
              "    <tr>\n",
              "      <th>Company</th>\n",
              "      <td>1.000000</td>\n",
              "      <td>0.771074</td>\n",
              "      <td>0.631564</td>\n",
              "      <td>0.999651</td>\n",
              "      <td>0.699234</td>\n",
              "      <td>0.606780</td>\n",
              "    </tr>\n",
              "    <tr>\n",
              "      <th>Specific Bean Origin</th>\n",
              "      <td>0.771074</td>\n",
              "      <td>1.000000</td>\n",
              "      <td>0.772975</td>\n",
              "      <td>0.808500</td>\n",
              "      <td>0.945435</td>\n",
              "      <td>0.986510</td>\n",
              "    </tr>\n",
              "    <tr>\n",
              "      <th>Cocoa Percent</th>\n",
              "      <td>0.631564</td>\n",
              "      <td>0.772975</td>\n",
              "      <td>1.000000</td>\n",
              "      <td>0.243803</td>\n",
              "      <td>0.209584</td>\n",
              "      <td>0.273609</td>\n",
              "    </tr>\n",
              "    <tr>\n",
              "      <th>Company Location</th>\n",
              "      <td>0.999651</td>\n",
              "      <td>0.808500</td>\n",
              "      <td>0.243803</td>\n",
              "      <td>1.000000</td>\n",
              "      <td>0.335082</td>\n",
              "      <td>0.384231</td>\n",
              "    </tr>\n",
              "    <tr>\n",
              "      <th>Bean Type</th>\n",
              "      <td>0.699234</td>\n",
              "      <td>0.945435</td>\n",
              "      <td>0.209584</td>\n",
              "      <td>0.335082</td>\n",
              "      <td>1.000000</td>\n",
              "      <td>0.460058</td>\n",
              "    </tr>\n",
              "    <tr>\n",
              "      <th>Broad Bean Origin</th>\n",
              "      <td>0.606780</td>\n",
              "      <td>0.986510</td>\n",
              "      <td>0.273609</td>\n",
              "      <td>0.384231</td>\n",
              "      <td>0.460058</td>\n",
              "      <td>1.000000</td>\n",
              "    </tr>\n",
              "  </tbody>\n",
              "</table>\n",
              "</div>\n",
              "    <div class=\"colab-df-buttons\">\n",
              "\n",
              "  <div class=\"colab-df-container\">\n",
              "    <button class=\"colab-df-convert\" onclick=\"convertToInteractive('df-e64d4fda-daa4-482e-9748-9125c095b5ed')\"\n",
              "            title=\"Convert this dataframe to an interactive table.\"\n",
              "            style=\"display:none;\">\n",
              "\n",
              "  <svg xmlns=\"http://www.w3.org/2000/svg\" height=\"24px\" viewBox=\"0 -960 960 960\">\n",
              "    <path d=\"M120-120v-720h720v720H120Zm60-500h600v-160H180v160Zm220 220h160v-160H400v160Zm0 220h160v-160H400v160ZM180-400h160v-160H180v160Zm440 0h160v-160H620v160ZM180-180h160v-160H180v160Zm440 0h160v-160H620v160Z\"/>\n",
              "  </svg>\n",
              "    </button>\n",
              "\n",
              "  <style>\n",
              "    .colab-df-container {\n",
              "      display:flex;\n",
              "      gap: 12px;\n",
              "    }\n",
              "\n",
              "    .colab-df-convert {\n",
              "      background-color: #E8F0FE;\n",
              "      border: none;\n",
              "      border-radius: 50%;\n",
              "      cursor: pointer;\n",
              "      display: none;\n",
              "      fill: #1967D2;\n",
              "      height: 32px;\n",
              "      padding: 0 0 0 0;\n",
              "      width: 32px;\n",
              "    }\n",
              "\n",
              "    .colab-df-convert:hover {\n",
              "      background-color: #E2EBFA;\n",
              "      box-shadow: 0px 1px 2px rgba(60, 64, 67, 0.3), 0px 1px 3px 1px rgba(60, 64, 67, 0.15);\n",
              "      fill: #174EA6;\n",
              "    }\n",
              "\n",
              "    .colab-df-buttons div {\n",
              "      margin-bottom: 4px;\n",
              "    }\n",
              "\n",
              "    [theme=dark] .colab-df-convert {\n",
              "      background-color: #3B4455;\n",
              "      fill: #D2E3FC;\n",
              "    }\n",
              "\n",
              "    [theme=dark] .colab-df-convert:hover {\n",
              "      background-color: #434B5C;\n",
              "      box-shadow: 0px 1px 3px 1px rgba(0, 0, 0, 0.15);\n",
              "      filter: drop-shadow(0px 1px 2px rgba(0, 0, 0, 0.3));\n",
              "      fill: #FFFFFF;\n",
              "    }\n",
              "  </style>\n",
              "\n",
              "    <script>\n",
              "      const buttonEl =\n",
              "        document.querySelector('#df-e64d4fda-daa4-482e-9748-9125c095b5ed button.colab-df-convert');\n",
              "      buttonEl.style.display =\n",
              "        google.colab.kernel.accessAllowed ? 'block' : 'none';\n",
              "\n",
              "      async function convertToInteractive(key) {\n",
              "        const element = document.querySelector('#df-e64d4fda-daa4-482e-9748-9125c095b5ed');\n",
              "        const dataTable =\n",
              "          await google.colab.kernel.invokeFunction('convertToInteractive',\n",
              "                                                    [key], {});\n",
              "        if (!dataTable) return;\n",
              "\n",
              "        const docLinkHtml = 'Like what you see? Visit the ' +\n",
              "          '<a target=\"_blank\" href=https://colab.research.google.com/notebooks/data_table.ipynb>data table notebook</a>'\n",
              "          + ' to learn more about interactive tables.';\n",
              "        element.innerHTML = '';\n",
              "        dataTable['output_type'] = 'display_data';\n",
              "        await google.colab.output.renderOutput(dataTable, element);\n",
              "        const docLink = document.createElement('div');\n",
              "        docLink.innerHTML = docLinkHtml;\n",
              "        element.appendChild(docLink);\n",
              "      }\n",
              "    </script>\n",
              "  </div>\n",
              "\n",
              "\n",
              "<div id=\"df-faf9aaca-1813-4fc0-856a-716c3a7561d0\">\n",
              "  <button class=\"colab-df-quickchart\" onclick=\"quickchart('df-faf9aaca-1813-4fc0-856a-716c3a7561d0')\"\n",
              "            title=\"Suggest charts\"\n",
              "            style=\"display:none;\">\n",
              "\n",
              "<svg xmlns=\"http://www.w3.org/2000/svg\" height=\"24px\"viewBox=\"0 0 24 24\"\n",
              "     width=\"24px\">\n",
              "    <g>\n",
              "        <path d=\"M19 3H5c-1.1 0-2 .9-2 2v14c0 1.1.9 2 2 2h14c1.1 0 2-.9 2-2V5c0-1.1-.9-2-2-2zM9 17H7v-7h2v7zm4 0h-2V7h2v10zm4 0h-2v-4h2v4z\"/>\n",
              "    </g>\n",
              "</svg>\n",
              "  </button>\n",
              "\n",
              "<style>\n",
              "  .colab-df-quickchart {\n",
              "      --bg-color: #E8F0FE;\n",
              "      --fill-color: #1967D2;\n",
              "      --hover-bg-color: #E2EBFA;\n",
              "      --hover-fill-color: #174EA6;\n",
              "      --disabled-fill-color: #AAA;\n",
              "      --disabled-bg-color: #DDD;\n",
              "  }\n",
              "\n",
              "  [theme=dark] .colab-df-quickchart {\n",
              "      --bg-color: #3B4455;\n",
              "      --fill-color: #D2E3FC;\n",
              "      --hover-bg-color: #434B5C;\n",
              "      --hover-fill-color: #FFFFFF;\n",
              "      --disabled-bg-color: #3B4455;\n",
              "      --disabled-fill-color: #666;\n",
              "  }\n",
              "\n",
              "  .colab-df-quickchart {\n",
              "    background-color: var(--bg-color);\n",
              "    border: none;\n",
              "    border-radius: 50%;\n",
              "    cursor: pointer;\n",
              "    display: none;\n",
              "    fill: var(--fill-color);\n",
              "    height: 32px;\n",
              "    padding: 0;\n",
              "    width: 32px;\n",
              "  }\n",
              "\n",
              "  .colab-df-quickchart:hover {\n",
              "    background-color: var(--hover-bg-color);\n",
              "    box-shadow: 0 1px 2px rgba(60, 64, 67, 0.3), 0 1px 3px 1px rgba(60, 64, 67, 0.15);\n",
              "    fill: var(--button-hover-fill-color);\n",
              "  }\n",
              "\n",
              "  .colab-df-quickchart-complete:disabled,\n",
              "  .colab-df-quickchart-complete:disabled:hover {\n",
              "    background-color: var(--disabled-bg-color);\n",
              "    fill: var(--disabled-fill-color);\n",
              "    box-shadow: none;\n",
              "  }\n",
              "\n",
              "  .colab-df-spinner {\n",
              "    border: 2px solid var(--fill-color);\n",
              "    border-color: transparent;\n",
              "    border-bottom-color: var(--fill-color);\n",
              "    animation:\n",
              "      spin 1s steps(1) infinite;\n",
              "  }\n",
              "\n",
              "  @keyframes spin {\n",
              "    0% {\n",
              "      border-color: transparent;\n",
              "      border-bottom-color: var(--fill-color);\n",
              "      border-left-color: var(--fill-color);\n",
              "    }\n",
              "    20% {\n",
              "      border-color: transparent;\n",
              "      border-left-color: var(--fill-color);\n",
              "      border-top-color: var(--fill-color);\n",
              "    }\n",
              "    30% {\n",
              "      border-color: transparent;\n",
              "      border-left-color: var(--fill-color);\n",
              "      border-top-color: var(--fill-color);\n",
              "      border-right-color: var(--fill-color);\n",
              "    }\n",
              "    40% {\n",
              "      border-color: transparent;\n",
              "      border-right-color: var(--fill-color);\n",
              "      border-top-color: var(--fill-color);\n",
              "    }\n",
              "    60% {\n",
              "      border-color: transparent;\n",
              "      border-right-color: var(--fill-color);\n",
              "    }\n",
              "    80% {\n",
              "      border-color: transparent;\n",
              "      border-right-color: var(--fill-color);\n",
              "      border-bottom-color: var(--fill-color);\n",
              "    }\n",
              "    90% {\n",
              "      border-color: transparent;\n",
              "      border-bottom-color: var(--fill-color);\n",
              "    }\n",
              "  }\n",
              "</style>\n",
              "\n",
              "  <script>\n",
              "    async function quickchart(key) {\n",
              "      const quickchartButtonEl =\n",
              "        document.querySelector('#' + key + ' button');\n",
              "      quickchartButtonEl.disabled = true;  // To prevent multiple clicks.\n",
              "      quickchartButtonEl.classList.add('colab-df-spinner');\n",
              "      try {\n",
              "        const charts = await google.colab.kernel.invokeFunction(\n",
              "            'suggestCharts', [key], {});\n",
              "      } catch (error) {\n",
              "        console.error('Error during call to suggestCharts:', error);\n",
              "      }\n",
              "      quickchartButtonEl.classList.remove('colab-df-spinner');\n",
              "      quickchartButtonEl.classList.add('colab-df-quickchart-complete');\n",
              "    }\n",
              "    (() => {\n",
              "      let quickchartButtonEl =\n",
              "        document.querySelector('#df-faf9aaca-1813-4fc0-856a-716c3a7561d0 button');\n",
              "      quickchartButtonEl.style.display =\n",
              "        google.colab.kernel.accessAllowed ? 'block' : 'none';\n",
              "    })();\n",
              "  </script>\n",
              "</div>\n",
              "\n",
              "    </div>\n",
              "  </div>\n"
            ],
            "application/vnd.google.colaboratory.intrinsic+json": {
              "type": "dataframe",
              "summary": "{\n  \"name\": \"cramersv\",\n  \"rows\": 6,\n  \"fields\": [\n    {\n      \"column\": \"Company\",\n      \"properties\": {\n        \"dtype\": \"number\",\n        \"std\": 0.17615576741159644,\n        \"min\": 0.6067800976709063,\n        \"max\": 1.0,\n        \"num_unique_values\": 6,\n        \"samples\": [\n          1.0,\n          0.7710742919647465,\n          0.6067800976709063\n        ],\n        \"semantic_type\": \"\",\n        \"description\": \"\"\n      }\n    },\n    {\n      \"column\": \"Specific Bean Origin\",\n      \"properties\": {\n        \"dtype\": \"number\",\n        \"std\": 0.10812423455125882,\n        \"min\": 0.7710742919647465,\n        \"max\": 1.0,\n        \"num_unique_values\": 6,\n        \"samples\": [\n          0.7710742919647465,\n          1.0,\n          0.9865100534725314\n        ],\n        \"semantic_type\": \"\",\n        \"description\": \"\"\n      }\n    },\n    {\n      \"column\": \"Cocoa Percent\",\n      \"properties\": {\n        \"dtype\": \"number\",\n        \"std\": 0.3286858951216969,\n        \"min\": 0.20958354805678614,\n        \"max\": 1.0,\n        \"num_unique_values\": 6,\n        \"samples\": [\n          0.6315638492217547,\n          0.7729747736401082,\n          0.273609472277943\n        ],\n        \"semantic_type\": \"\",\n        \"description\": \"\"\n      }\n    },\n    {\n      \"column\": \"Company Location\",\n      \"properties\": {\n        \"dtype\": \"number\",\n        \"std\": 0.3469636852817283,\n        \"min\": 0.24380284579153833,\n        \"max\": 1.0,\n        \"num_unique_values\": 6,\n        \"samples\": [\n          0.9996507875959112,\n          0.8085001293651074,\n          0.38423054314286736\n        ],\n        \"semantic_type\": \"\",\n        \"description\": \"\"\n      }\n    },\n    {\n      \"column\": \"Bean Type\",\n      \"properties\": {\n        \"dtype\": \"number\",\n        \"std\": 0.32587011612202926,\n        \"min\": 0.20958354805678614,\n        \"max\": 1.0,\n        \"num_unique_values\": 6,\n        \"samples\": [\n          0.6992335715693087,\n          0.945435353242474,\n          0.46005844755547076\n        ],\n        \"semantic_type\": \"\",\n        \"description\": \"\"\n      }\n    },\n    {\n      \"column\": \"Broad Bean Origin\",\n      \"properties\": {\n        \"dtype\": \"number\",\n        \"std\": 0.3098536363213483,\n        \"min\": 0.273609472277943,\n        \"max\": 1.0,\n        \"num_unique_values\": 6,\n        \"samples\": [\n          0.6067800976709063,\n          0.9865100534725314,\n          1.0\n        ],\n        \"semantic_type\": \"\",\n        \"description\": \"\"\n      }\n    }\n  ]\n}"
            }
          },
          "metadata": {},
          "execution_count": 14
        }
      ],
      "source": [
        "df_cat = train_df.apply(\n",
        "        lambda x: x.astype(\"category\") if x.dtype == \"object\" else x)\n",
        "cramersv = am.CramersV(df_cat)\n",
        "\n",
        "cramersv.fit()"
      ]
    },
    {
      "cell_type": "markdown",
      "metadata": {
        "id": "LqodKTeq553L"
      },
      "source": [
        "Можно заметить, что Bean Type сильно связан с Specific Bean Origin. При этом в колонке Bean Type пропущено около половины значений. Удалим колонку Bean Type, так как она содержит много пропусков.\n",
        "\n",
        "\n",
        "Также колонки Company Location и Company, очевидно, очень связаны. Но так как признаков в датасете немного, попробуем совместить два предиктора, вместо удаления одного из них.\n",
        "\n"
      ]
    },
    {
      "cell_type": "code",
      "execution_count": 15,
      "metadata": {
        "id": "0fy-M04m4vRs"
      },
      "outputs": [],
      "source": [
        "del train_df[\"Bean Type\"]"
      ]
    },
    {
      "cell_type": "code",
      "execution_count": 16,
      "metadata": {
        "id": "AdcEqzHVJQQj"
      },
      "outputs": [],
      "source": [
        "train_df[\"Company Location\"] = train_df[\"Company\"] + \"_\" + train_df[\"Company Location\"]\n",
        "del train_df[\"Company\"]"
      ]
    },
    {
      "cell_type": "markdown",
      "metadata": {
        "id": "8kMw0GIEJQQj"
      },
      "source": [
        "Пропуски в колонке Broad Bean Origin заполним модой по столбцу, предварительно сгруппировав данные по колонке Specific Bean Origin."
      ]
    },
    {
      "cell_type": "code",
      "execution_count": 17,
      "metadata": {
        "id": "bHf2ZfvEJQQj"
      },
      "outputs": [],
      "source": [
        "def fill_broad_bean_missing(x):\n",
        "    try:\n",
        "        return x.fillna(x.mode()[0])\n",
        "    except: #Если не получилось найти моду в группе, заполняем пропуск глобальной модой\n",
        "        return x.fillna(train_df[\"Broad Bean Origin\"].mode()[0])\n"
      ]
    },
    {
      "cell_type": "code",
      "execution_count": 18,
      "metadata": {
        "id": "vLcthxxuJQQj"
      },
      "outputs": [],
      "source": [
        "train_df[\"Broad Bean Origin\"] = train_df.groupby([\"Specific Bean Origin\"])[\"Broad Bean Origin\"].transform(fill_broad_bean_missing)"
      ]
    },
    {
      "cell_type": "markdown",
      "metadata": {
        "id": "DAjLdIvCCEUp"
      },
      "source": [
        "Посмотрим на количество уникальных значений в каждом столбце"
      ]
    },
    {
      "cell_type": "code",
      "execution_count": 19,
      "metadata": {
        "id": "2etHFONTBFk9",
        "colab": {
          "base_uri": "https://localhost:8080/"
        },
        "outputId": "9f301fa3-a16e-43e7-b196-afbbb09bf635"
      },
      "outputs": [
        {
          "output_type": "stream",
          "name": "stdout",
          "text": [
            "Specific Bean Origin 762\n",
            "REF 433\n",
            "Cocoa Percent 40\n",
            "Company Location 377\n",
            "Rating 13\n",
            "Broad Bean Origin 83\n"
          ]
        }
      ],
      "source": [
        "for col in train_df.columns:\n",
        "    print(col, len(train_df[col].unique()))"
      ]
    },
    {
      "cell_type": "markdown",
      "metadata": {
        "id": "dXib7h1rbPsF"
      },
      "source": [
        "Так как категориальный признак Cocoa Percent имеет естественную числовую интерпретацию(например, 85% больше 75%), логично будет ее сохранить. Превратим категориальный признак Cocoa Percent в числовой, удалив значок % и поделив на 100. Остальные категориальные признаки придется кодировать хитрее."
      ]
    },
    {
      "cell_type": "code",
      "execution_count": 20,
      "metadata": {
        "id": "W4tU2JvkWQXy"
      },
      "outputs": [],
      "source": [
        "train_df[\"Cocoa Percent\"] = train_df[\"Cocoa Percent\"].apply(lambda x: float(x.replace(\"%\",\"\"))/100)"
      ]
    },
    {
      "cell_type": "code",
      "execution_count": 21,
      "metadata": {
        "id": "ppDiVjDCcFkn",
        "colab": {
          "base_uri": "https://localhost:8080/",
          "height": 493
        },
        "outputId": "87b2e772-a6f2-4f36-b229-47ba13155c36"
      },
      "outputs": [
        {
          "output_type": "execute_result",
          "data": {
            "text/plain": [
              "                    Specific Bean Origin   REF  Cocoa Percent  \\\n",
              "0                             Rio Caribe   457           0.72   \n",
              "1     Ocumare, Premier Cru, Quizas No. 2   508           0.72   \n",
              "2                               Tanzania  1554           0.70   \n",
              "3                             Cooproagro  1125           0.72   \n",
              "4                        Java, Indonesie    32           0.75   \n",
              "...                                  ...   ...            ...   \n",
              "1250                          Madagascar   363           0.80   \n",
              "1251                               Cusco  1884           0.70   \n",
              "1252                            Nacional  1534           0.68   \n",
              "1253              Conacado, #212, LR, SC   642           0.72   \n",
              "1254                 Madagascar, Batch 2  1578           0.70   \n",
              "\n",
              "                         Company Location  Rating   Broad Bean Origin  \n",
              "0                     Willie's Cacao_U.K.    3.25           Venezuela  \n",
              "1          Beschle (Felchlin)_Switzerland    3.50           Venezuela  \n",
              "2                      Dark Forest_U.S.A.    3.00            Tanzania  \n",
              "3     Brasstown aka It's Chocolate_U.S.A.    3.00  Dominican Republic  \n",
              "4                           Pralus_France    3.50           Indonesia  \n",
              "...                                   ...     ...                 ...  \n",
              "1250             Artisan du Chocolat_U.K.    3.00          Madagascar  \n",
              "1251                          Marana_Peru    2.75                Peru  \n",
              "1252                         Arete_U.S.A.    3.50                Peru  \n",
              "1253                        Fresco_U.S.A.    3.50  Dominican Republic  \n",
              "1254                         Zak's_U.S.A.    3.25          Madagascar  \n",
              "\n",
              "[1255 rows x 6 columns]"
            ],
            "text/html": [
              "\n",
              "  <div id=\"df-fe63d677-34c7-4b50-ac4f-cb872fa31680\" class=\"colab-df-container\">\n",
              "    <div>\n",
              "<style scoped>\n",
              "    .dataframe tbody tr th:only-of-type {\n",
              "        vertical-align: middle;\n",
              "    }\n",
              "\n",
              "    .dataframe tbody tr th {\n",
              "        vertical-align: top;\n",
              "    }\n",
              "\n",
              "    .dataframe thead th {\n",
              "        text-align: right;\n",
              "    }\n",
              "</style>\n",
              "<table border=\"1\" class=\"dataframe\">\n",
              "  <thead>\n",
              "    <tr style=\"text-align: right;\">\n",
              "      <th></th>\n",
              "      <th>Specific Bean Origin</th>\n",
              "      <th>REF</th>\n",
              "      <th>Cocoa Percent</th>\n",
              "      <th>Company Location</th>\n",
              "      <th>Rating</th>\n",
              "      <th>Broad Bean Origin</th>\n",
              "    </tr>\n",
              "  </thead>\n",
              "  <tbody>\n",
              "    <tr>\n",
              "      <th>0</th>\n",
              "      <td>Rio Caribe</td>\n",
              "      <td>457</td>\n",
              "      <td>0.72</td>\n",
              "      <td>Willie's Cacao_U.K.</td>\n",
              "      <td>3.25</td>\n",
              "      <td>Venezuela</td>\n",
              "    </tr>\n",
              "    <tr>\n",
              "      <th>1</th>\n",
              "      <td>Ocumare, Premier Cru, Quizas No. 2</td>\n",
              "      <td>508</td>\n",
              "      <td>0.72</td>\n",
              "      <td>Beschle (Felchlin)_Switzerland</td>\n",
              "      <td>3.50</td>\n",
              "      <td>Venezuela</td>\n",
              "    </tr>\n",
              "    <tr>\n",
              "      <th>2</th>\n",
              "      <td>Tanzania</td>\n",
              "      <td>1554</td>\n",
              "      <td>0.70</td>\n",
              "      <td>Dark Forest_U.S.A.</td>\n",
              "      <td>3.00</td>\n",
              "      <td>Tanzania</td>\n",
              "    </tr>\n",
              "    <tr>\n",
              "      <th>3</th>\n",
              "      <td>Cooproagro</td>\n",
              "      <td>1125</td>\n",
              "      <td>0.72</td>\n",
              "      <td>Brasstown aka It's Chocolate_U.S.A.</td>\n",
              "      <td>3.00</td>\n",
              "      <td>Dominican Republic</td>\n",
              "    </tr>\n",
              "    <tr>\n",
              "      <th>4</th>\n",
              "      <td>Java, Indonesie</td>\n",
              "      <td>32</td>\n",
              "      <td>0.75</td>\n",
              "      <td>Pralus_France</td>\n",
              "      <td>3.50</td>\n",
              "      <td>Indonesia</td>\n",
              "    </tr>\n",
              "    <tr>\n",
              "      <th>...</th>\n",
              "      <td>...</td>\n",
              "      <td>...</td>\n",
              "      <td>...</td>\n",
              "      <td>...</td>\n",
              "      <td>...</td>\n",
              "      <td>...</td>\n",
              "    </tr>\n",
              "    <tr>\n",
              "      <th>1250</th>\n",
              "      <td>Madagascar</td>\n",
              "      <td>363</td>\n",
              "      <td>0.80</td>\n",
              "      <td>Artisan du Chocolat_U.K.</td>\n",
              "      <td>3.00</td>\n",
              "      <td>Madagascar</td>\n",
              "    </tr>\n",
              "    <tr>\n",
              "      <th>1251</th>\n",
              "      <td>Cusco</td>\n",
              "      <td>1884</td>\n",
              "      <td>0.70</td>\n",
              "      <td>Marana_Peru</td>\n",
              "      <td>2.75</td>\n",
              "      <td>Peru</td>\n",
              "    </tr>\n",
              "    <tr>\n",
              "      <th>1252</th>\n",
              "      <td>Nacional</td>\n",
              "      <td>1534</td>\n",
              "      <td>0.68</td>\n",
              "      <td>Arete_U.S.A.</td>\n",
              "      <td>3.50</td>\n",
              "      <td>Peru</td>\n",
              "    </tr>\n",
              "    <tr>\n",
              "      <th>1253</th>\n",
              "      <td>Conacado, #212, LR, SC</td>\n",
              "      <td>642</td>\n",
              "      <td>0.72</td>\n",
              "      <td>Fresco_U.S.A.</td>\n",
              "      <td>3.50</td>\n",
              "      <td>Dominican Republic</td>\n",
              "    </tr>\n",
              "    <tr>\n",
              "      <th>1254</th>\n",
              "      <td>Madagascar, Batch 2</td>\n",
              "      <td>1578</td>\n",
              "      <td>0.70</td>\n",
              "      <td>Zak's_U.S.A.</td>\n",
              "      <td>3.25</td>\n",
              "      <td>Madagascar</td>\n",
              "    </tr>\n",
              "  </tbody>\n",
              "</table>\n",
              "<p>1255 rows × 6 columns</p>\n",
              "</div>\n",
              "    <div class=\"colab-df-buttons\">\n",
              "\n",
              "  <div class=\"colab-df-container\">\n",
              "    <button class=\"colab-df-convert\" onclick=\"convertToInteractive('df-fe63d677-34c7-4b50-ac4f-cb872fa31680')\"\n",
              "            title=\"Convert this dataframe to an interactive table.\"\n",
              "            style=\"display:none;\">\n",
              "\n",
              "  <svg xmlns=\"http://www.w3.org/2000/svg\" height=\"24px\" viewBox=\"0 -960 960 960\">\n",
              "    <path d=\"M120-120v-720h720v720H120Zm60-500h600v-160H180v160Zm220 220h160v-160H400v160Zm0 220h160v-160H400v160ZM180-400h160v-160H180v160Zm440 0h160v-160H620v160ZM180-180h160v-160H180v160Zm440 0h160v-160H620v160Z\"/>\n",
              "  </svg>\n",
              "    </button>\n",
              "\n",
              "  <style>\n",
              "    .colab-df-container {\n",
              "      display:flex;\n",
              "      gap: 12px;\n",
              "    }\n",
              "\n",
              "    .colab-df-convert {\n",
              "      background-color: #E8F0FE;\n",
              "      border: none;\n",
              "      border-radius: 50%;\n",
              "      cursor: pointer;\n",
              "      display: none;\n",
              "      fill: #1967D2;\n",
              "      height: 32px;\n",
              "      padding: 0 0 0 0;\n",
              "      width: 32px;\n",
              "    }\n",
              "\n",
              "    .colab-df-convert:hover {\n",
              "      background-color: #E2EBFA;\n",
              "      box-shadow: 0px 1px 2px rgba(60, 64, 67, 0.3), 0px 1px 3px 1px rgba(60, 64, 67, 0.15);\n",
              "      fill: #174EA6;\n",
              "    }\n",
              "\n",
              "    .colab-df-buttons div {\n",
              "      margin-bottom: 4px;\n",
              "    }\n",
              "\n",
              "    [theme=dark] .colab-df-convert {\n",
              "      background-color: #3B4455;\n",
              "      fill: #D2E3FC;\n",
              "    }\n",
              "\n",
              "    [theme=dark] .colab-df-convert:hover {\n",
              "      background-color: #434B5C;\n",
              "      box-shadow: 0px 1px 3px 1px rgba(0, 0, 0, 0.15);\n",
              "      filter: drop-shadow(0px 1px 2px rgba(0, 0, 0, 0.3));\n",
              "      fill: #FFFFFF;\n",
              "    }\n",
              "  </style>\n",
              "\n",
              "    <script>\n",
              "      const buttonEl =\n",
              "        document.querySelector('#df-fe63d677-34c7-4b50-ac4f-cb872fa31680 button.colab-df-convert');\n",
              "      buttonEl.style.display =\n",
              "        google.colab.kernel.accessAllowed ? 'block' : 'none';\n",
              "\n",
              "      async function convertToInteractive(key) {\n",
              "        const element = document.querySelector('#df-fe63d677-34c7-4b50-ac4f-cb872fa31680');\n",
              "        const dataTable =\n",
              "          await google.colab.kernel.invokeFunction('convertToInteractive',\n",
              "                                                    [key], {});\n",
              "        if (!dataTable) return;\n",
              "\n",
              "        const docLinkHtml = 'Like what you see? Visit the ' +\n",
              "          '<a target=\"_blank\" href=https://colab.research.google.com/notebooks/data_table.ipynb>data table notebook</a>'\n",
              "          + ' to learn more about interactive tables.';\n",
              "        element.innerHTML = '';\n",
              "        dataTable['output_type'] = 'display_data';\n",
              "        await google.colab.output.renderOutput(dataTable, element);\n",
              "        const docLink = document.createElement('div');\n",
              "        docLink.innerHTML = docLinkHtml;\n",
              "        element.appendChild(docLink);\n",
              "      }\n",
              "    </script>\n",
              "  </div>\n",
              "\n",
              "\n",
              "<div id=\"df-268d388d-0c5e-436e-b16b-dc15d0c9eb39\">\n",
              "  <button class=\"colab-df-quickchart\" onclick=\"quickchart('df-268d388d-0c5e-436e-b16b-dc15d0c9eb39')\"\n",
              "            title=\"Suggest charts\"\n",
              "            style=\"display:none;\">\n",
              "\n",
              "<svg xmlns=\"http://www.w3.org/2000/svg\" height=\"24px\"viewBox=\"0 0 24 24\"\n",
              "     width=\"24px\">\n",
              "    <g>\n",
              "        <path d=\"M19 3H5c-1.1 0-2 .9-2 2v14c0 1.1.9 2 2 2h14c1.1 0 2-.9 2-2V5c0-1.1-.9-2-2-2zM9 17H7v-7h2v7zm4 0h-2V7h2v10zm4 0h-2v-4h2v4z\"/>\n",
              "    </g>\n",
              "</svg>\n",
              "  </button>\n",
              "\n",
              "<style>\n",
              "  .colab-df-quickchart {\n",
              "      --bg-color: #E8F0FE;\n",
              "      --fill-color: #1967D2;\n",
              "      --hover-bg-color: #E2EBFA;\n",
              "      --hover-fill-color: #174EA6;\n",
              "      --disabled-fill-color: #AAA;\n",
              "      --disabled-bg-color: #DDD;\n",
              "  }\n",
              "\n",
              "  [theme=dark] .colab-df-quickchart {\n",
              "      --bg-color: #3B4455;\n",
              "      --fill-color: #D2E3FC;\n",
              "      --hover-bg-color: #434B5C;\n",
              "      --hover-fill-color: #FFFFFF;\n",
              "      --disabled-bg-color: #3B4455;\n",
              "      --disabled-fill-color: #666;\n",
              "  }\n",
              "\n",
              "  .colab-df-quickchart {\n",
              "    background-color: var(--bg-color);\n",
              "    border: none;\n",
              "    border-radius: 50%;\n",
              "    cursor: pointer;\n",
              "    display: none;\n",
              "    fill: var(--fill-color);\n",
              "    height: 32px;\n",
              "    padding: 0;\n",
              "    width: 32px;\n",
              "  }\n",
              "\n",
              "  .colab-df-quickchart:hover {\n",
              "    background-color: var(--hover-bg-color);\n",
              "    box-shadow: 0 1px 2px rgba(60, 64, 67, 0.3), 0 1px 3px 1px rgba(60, 64, 67, 0.15);\n",
              "    fill: var(--button-hover-fill-color);\n",
              "  }\n",
              "\n",
              "  .colab-df-quickchart-complete:disabled,\n",
              "  .colab-df-quickchart-complete:disabled:hover {\n",
              "    background-color: var(--disabled-bg-color);\n",
              "    fill: var(--disabled-fill-color);\n",
              "    box-shadow: none;\n",
              "  }\n",
              "\n",
              "  .colab-df-spinner {\n",
              "    border: 2px solid var(--fill-color);\n",
              "    border-color: transparent;\n",
              "    border-bottom-color: var(--fill-color);\n",
              "    animation:\n",
              "      spin 1s steps(1) infinite;\n",
              "  }\n",
              "\n",
              "  @keyframes spin {\n",
              "    0% {\n",
              "      border-color: transparent;\n",
              "      border-bottom-color: var(--fill-color);\n",
              "      border-left-color: var(--fill-color);\n",
              "    }\n",
              "    20% {\n",
              "      border-color: transparent;\n",
              "      border-left-color: var(--fill-color);\n",
              "      border-top-color: var(--fill-color);\n",
              "    }\n",
              "    30% {\n",
              "      border-color: transparent;\n",
              "      border-left-color: var(--fill-color);\n",
              "      border-top-color: var(--fill-color);\n",
              "      border-right-color: var(--fill-color);\n",
              "    }\n",
              "    40% {\n",
              "      border-color: transparent;\n",
              "      border-right-color: var(--fill-color);\n",
              "      border-top-color: var(--fill-color);\n",
              "    }\n",
              "    60% {\n",
              "      border-color: transparent;\n",
              "      border-right-color: var(--fill-color);\n",
              "    }\n",
              "    80% {\n",
              "      border-color: transparent;\n",
              "      border-right-color: var(--fill-color);\n",
              "      border-bottom-color: var(--fill-color);\n",
              "    }\n",
              "    90% {\n",
              "      border-color: transparent;\n",
              "      border-bottom-color: var(--fill-color);\n",
              "    }\n",
              "  }\n",
              "</style>\n",
              "\n",
              "  <script>\n",
              "    async function quickchart(key) {\n",
              "      const quickchartButtonEl =\n",
              "        document.querySelector('#' + key + ' button');\n",
              "      quickchartButtonEl.disabled = true;  // To prevent multiple clicks.\n",
              "      quickchartButtonEl.classList.add('colab-df-spinner');\n",
              "      try {\n",
              "        const charts = await google.colab.kernel.invokeFunction(\n",
              "            'suggestCharts', [key], {});\n",
              "      } catch (error) {\n",
              "        console.error('Error during call to suggestCharts:', error);\n",
              "      }\n",
              "      quickchartButtonEl.classList.remove('colab-df-spinner');\n",
              "      quickchartButtonEl.classList.add('colab-df-quickchart-complete');\n",
              "    }\n",
              "    (() => {\n",
              "      let quickchartButtonEl =\n",
              "        document.querySelector('#df-268d388d-0c5e-436e-b16b-dc15d0c9eb39 button');\n",
              "      quickchartButtonEl.style.display =\n",
              "        google.colab.kernel.accessAllowed ? 'block' : 'none';\n",
              "    })();\n",
              "  </script>\n",
              "</div>\n",
              "\n",
              "  <div id=\"id_724bfb6c-fdba-4189-bc42-d28a6b084113\">\n",
              "    <style>\n",
              "      .colab-df-generate {\n",
              "        background-color: #E8F0FE;\n",
              "        border: none;\n",
              "        border-radius: 50%;\n",
              "        cursor: pointer;\n",
              "        display: none;\n",
              "        fill: #1967D2;\n",
              "        height: 32px;\n",
              "        padding: 0 0 0 0;\n",
              "        width: 32px;\n",
              "      }\n",
              "\n",
              "      .colab-df-generate:hover {\n",
              "        background-color: #E2EBFA;\n",
              "        box-shadow: 0px 1px 2px rgba(60, 64, 67, 0.3), 0px 1px 3px 1px rgba(60, 64, 67, 0.15);\n",
              "        fill: #174EA6;\n",
              "      }\n",
              "\n",
              "      [theme=dark] .colab-df-generate {\n",
              "        background-color: #3B4455;\n",
              "        fill: #D2E3FC;\n",
              "      }\n",
              "\n",
              "      [theme=dark] .colab-df-generate:hover {\n",
              "        background-color: #434B5C;\n",
              "        box-shadow: 0px 1px 3px 1px rgba(0, 0, 0, 0.15);\n",
              "        filter: drop-shadow(0px 1px 2px rgba(0, 0, 0, 0.3));\n",
              "        fill: #FFFFFF;\n",
              "      }\n",
              "    </style>\n",
              "    <button class=\"colab-df-generate\" onclick=\"generateWithVariable('train_df')\"\n",
              "            title=\"Generate code using this dataframe.\"\n",
              "            style=\"display:none;\">\n",
              "\n",
              "  <svg xmlns=\"http://www.w3.org/2000/svg\" height=\"24px\"viewBox=\"0 0 24 24\"\n",
              "       width=\"24px\">\n",
              "    <path d=\"M7,19H8.4L18.45,9,17,7.55,7,17.6ZM5,21V16.75L18.45,3.32a2,2,0,0,1,2.83,0l1.4,1.43a1.91,1.91,0,0,1,.58,1.4,1.91,1.91,0,0,1-.58,1.4L9.25,21ZM18.45,9,17,7.55Zm-12,3A5.31,5.31,0,0,0,4.9,8.1,5.31,5.31,0,0,0,1,6.5,5.31,5.31,0,0,0,4.9,4.9,5.31,5.31,0,0,0,6.5,1,5.31,5.31,0,0,0,8.1,4.9,5.31,5.31,0,0,0,12,6.5,5.46,5.46,0,0,0,6.5,12Z\"/>\n",
              "  </svg>\n",
              "    </button>\n",
              "    <script>\n",
              "      (() => {\n",
              "      const buttonEl =\n",
              "        document.querySelector('#id_724bfb6c-fdba-4189-bc42-d28a6b084113 button.colab-df-generate');\n",
              "      buttonEl.style.display =\n",
              "        google.colab.kernel.accessAllowed ? 'block' : 'none';\n",
              "\n",
              "      buttonEl.onclick = () => {\n",
              "        google.colab.notebook.generateWithVariable('train_df');\n",
              "      }\n",
              "      })();\n",
              "    </script>\n",
              "  </div>\n",
              "\n",
              "    </div>\n",
              "  </div>\n"
            ],
            "application/vnd.google.colaboratory.intrinsic+json": {
              "type": "dataframe",
              "variable_name": "train_df",
              "summary": "{\n  \"name\": \"train_df\",\n  \"rows\": 1255,\n  \"fields\": [\n    {\n      \"column\": \"Specific Bean Origin\",\n      \"properties\": {\n        \"dtype\": \"string\",\n        \"num_unique_values\": 762,\n        \"samples\": [\n          \"Venezuela; Barinos, Merida, Tachron\",\n          \"Akesson's, batch 4411\",\n          \"Ambanja, Sambirano Valley\"\n        ],\n        \"semantic_type\": \"\",\n        \"description\": \"\"\n      }\n    },\n    {\n      \"column\": \"REF\",\n      \"properties\": {\n        \"dtype\": \"number\",\n        \"std\": 551,\n        \"min\": 5,\n        \"max\": 1952,\n        \"num_unique_values\": 433,\n        \"samples\": [\n          1383,\n          1478,\n          56\n        ],\n        \"semantic_type\": \"\",\n        \"description\": \"\"\n      }\n    },\n    {\n      \"column\": \"Cocoa Percent\",\n      \"properties\": {\n        \"dtype\": \"number\",\n        \"std\": 0.06397447984694937,\n        \"min\": 0.46,\n        \"max\": 1.0,\n        \"num_unique_values\": 40,\n        \"samples\": [\n          0.91,\n          0.81,\n          0.76\n        ],\n        \"semantic_type\": \"\",\n        \"description\": \"\"\n      }\n    },\n    {\n      \"column\": \"Company Location\",\n      \"properties\": {\n        \"dtype\": \"category\",\n        \"num_unique_values\": 377,\n        \"samples\": [\n          \"Jacque Torres_U.S.A.\",\n          \"Doble & Bignall_U.K.\",\n          \"El Rey_Venezuela\"\n        ],\n        \"semantic_type\": \"\",\n        \"description\": \"\"\n      }\n    },\n    {\n      \"column\": \"Rating\",\n      \"properties\": {\n        \"dtype\": \"number\",\n        \"std\": 0.4789480212939801,\n        \"min\": 1.0,\n        \"max\": 5.0,\n        \"num_unique_values\": 13,\n        \"samples\": [\n          1.75,\n          2.0,\n          3.25\n        ],\n        \"semantic_type\": \"\",\n        \"description\": \"\"\n      }\n    },\n    {\n      \"column\": \"Broad Bean Origin\",\n      \"properties\": {\n        \"dtype\": \"category\",\n        \"num_unique_values\": 83,\n        \"samples\": [\n          \"Belize\",\n          \"Venezuela\",\n          \"Jamaica\"\n        ],\n        \"semantic_type\": \"\",\n        \"description\": \"\"\n      }\n    }\n  ]\n}"
            }
          },
          "metadata": {},
          "execution_count": 21
        }
      ],
      "source": [
        "train_df"
      ]
    },
    {
      "cell_type": "markdown",
      "metadata": {
        "id": "lscl8WCZdU_K"
      },
      "source": [
        "Посмотрим на гистограмму целевой переменной. Распределение напоминает нормальное, поэтому нет необходимости преобразовывать целевую переменную."
      ]
    },
    {
      "cell_type": "code",
      "execution_count": 23,
      "metadata": {
        "id": "JrRJvG-78a63",
        "colab": {
          "base_uri": "https://localhost:8080/",
          "height": 560
        },
        "outputId": "e7212dda-2dc3-423d-e416-09af4f304516"
      },
      "outputs": [
        {
          "output_type": "display_data",
          "data": {
            "text/plain": [
              "<Figure size 1000x600 with 1 Axes>"
            ],
            "image/png": "[encoded data removed]"
          },
          "metadata": {}
        }
      ],
      "source": [
        "\n",
        "plt.figure(figsize=(10, 6))\n",
        "plt.hist(train_df[\"Rating\"], bins=15, color='skyblue', edgecolor='black')\n",
        "\n",
        "\n",
        "plt.title(\"Распределение рейтингов\", fontsize=16)\n",
        "plt.xlabel(\"Рейтинг\", fontsize=14)\n",
        "plt.ylabel(\"Частота\", fontsize=14)\n",
        "plt.grid(True, alpha=0.3)\n",
        "\n",
        "\n",
        "plt.show()"
      ]
    },
    {
      "cell_type": "markdown",
      "metadata": {
        "id": "YSe9hifwe0JJ"
      },
      "source": [
        "Исследуем числовые признаки на выбросы с помощью боксплота. В колонках Cocao Percent и Rating нашлись экстремальные значения, но при более детальном рассмотрении можно понять, что выбросами эти значения не являются. Удалять ничего не будем."
      ]
    },
    {
      "cell_type": "code",
      "execution_count": 26,
      "metadata": {
        "id": "lFPHNXgsdFOp",
        "colab": {
          "base_uri": "https://localhost:8080/",
          "height": 1000
        },
        "outputId": "7e69d99a-7ce5-4fea-ca67-9990c09ab544"
      },
      "outputs": [
        {
          "output_type": "display_data",
          "data": {
            "text/plain": [
              "<Figure size 1200x800 with 0 Axes>"
            ]
          },
          "metadata": {}
        },
        {
          "output_type": "display_data",
          "data": {
            "text/plain": [
              "<Figure size 1000x600 with 1 Axes>"
            ],
            "image/png": "[encoded data removed]"
          },
          "metadata": {}
        },
        {
          "output_type": "display_data",
          "data": {
            "text/plain": [
              "<Figure size 1000x600 with 1 Axes>"
            ],
            "image/png": "[encoded data removed]"
          },
          "metadata": {}
        },
        {
          "output_type": "display_data",
          "data": {
            "text/plain": [
              "<Figure size 1000x600 with 1 Axes>"
            ],
            "image/png": "[encoded data removed]"
          },
          "metadata": {}
        }
      ],
      "source": [
        "plt.figure(figsize=(12, 8))\n",
        "\n",
        "for col in train_df.columns[train_df.dtypes != 'object']:\n",
        "    plt.figure(figsize=(10, 6))\n",
        "    sb.boxplot(train_df[col], fliersize=6)\n",
        "\n",
        "    plt.title(f'Ящик с усами для {col}', fontsize=16)\n",
        "    plt.xlabel(col, fontsize=14)\n",
        "    plt.grid(True, alpha=0.3)\n",
        "\n",
        "    plt.show()"
      ]
    },
    {
      "cell_type": "markdown",
      "metadata": {
        "id": "kPA3HLNAWhxR"
      },
      "source": [
        "## Построение baseline модели"
      ]
    },
    {
      "cell_type": "markdown",
      "metadata": {
        "id": "FQmV6D81V_qm"
      },
      "source": [
        "Разобъем данные на тренировочную и тестовую части"
      ]
    },
    {
      "cell_type": "code",
      "execution_count": null,
      "metadata": {
        "id": "F19Ryz-NXMLx"
      },
      "outputs": [],
      "source": [
        "X = train_df.drop(\"Rating\",axis = 1)\n",
        "y = train_df[\"Rating\"]"
      ]
    },
    {
      "cell_type": "code",
      "execution_count": null,
      "metadata": {
        "id": "rluBQ5t7WkCK"
      },
      "outputs": [],
      "source": [
        "X_train, X_test, y_train, y_test = train_test_split(X, y, test_size=0.25)"
      ]
    },
    {
      "cell_type": "markdown",
      "metadata": {
        "id": "1j4cezNYZpCW"
      },
      "source": [
        "В качестве базовых моделей будем использовать RandomForestRegressor, CatBoostRegressor, LGBMRegressor.\n",
        "\n",
        "Подберем оптимальные кодировщики и скалеры."
      ]
    },
    {
      "cell_type": "code",
      "execution_count": null,
      "metadata": {
        "id": "sVowCt_lXdu6"
      },
      "outputs": [],
      "source": [
        "p1 = Pipeline([\n",
        "    ('encoder_',TargetEncoder(cols=[\"Company Location\", \"Specific Bean Origin\", \"Broad Bean Origin\"])),\n",
        "    ('scaler_', StandardScaler()),\n",
        "    ('model_', RandomForestRegressor(n_jobs=-1))\n",
        "    ])\n",
        "p2 = Pipeline([\n",
        "    ('encoder_',TargetEncoder(cols=[\"Company Location\", \"Specific Bean Origin\", \"Broad Bean Origin\"], smoothing= 1)),\n",
        "    ('scaler_', StandardScaler()),\n",
        "    ('model_', RandomForestRegressor(n_jobs=-1))\n",
        "    ])\n",
        "p3 = Pipeline([\n",
        "    ('encoder_',TargetEncoder(cols=[\"Company Location\", \"Specific Bean Origin\", \"Broad Bean Origin\"] , smoothing= 100)),\n",
        "    ('scaler_', StandardScaler()),\n",
        "    ('model_', RandomForestRegressor(n_jobs=-1))\n",
        "    ])\n",
        "p4 = Pipeline([\n",
        "    ('encoder_',TargetEncoder(cols=[\"Company Location\", \"Specific Bean Origin\", \"Broad Bean Origin\"])),\n",
        "    ('scaler_', MinMaxScaler()),\n",
        "    ('model_', RandomForestRegressor(n_jobs=-1))\n",
        "    ])\n",
        "p5 = Pipeline([\n",
        "    ('encoder_',TargetEncoder(cols=[\"Company Location\", \"Specific Bean Origin\", \"Broad Bean Origin\"], smoothing= 1)),\n",
        "    ('scaler_', MinMaxScaler()),\n",
        "    ('model_', RandomForestRegressor(n_jobs=-1))\n",
        "    ])\n",
        "p6 = Pipeline([\n",
        "    ('encoder_',TargetEncoder(cols=[\"Company Location\", \"Specific Bean Origin\", \"Broad Bean Origin\"] , smoothing= 100)),\n",
        "    ('scaler_', MinMaxScaler()),\n",
        "    ('model_', RandomForestRegressor(n_jobs=-1))\n",
        "    ])\n",
        "p7 = Pipeline([\n",
        "    ('encoder_',LeaveOneOutEncoder(cols=[\"Company Location\", \"Specific Bean Origin\", \"Broad Bean Origin\"])),\n",
        "    ('scaler_', StandardScaler()),\n",
        "    ('model_', RandomForestRegressor(n_jobs=-1))\n",
        "    ])\n",
        "p8 = Pipeline([\n",
        "    ('encoder_',LeaveOneOutEncoder(cols=[\"Company Location\", \"Specific Bean Origin\", \"Broad Bean Origin\"])),\n",
        "    ('scaler_', MinMaxScaler()),\n",
        "    ('model_', RandomForestRegressor(n_jobs=-1))\n",
        "    ])\n",
        "\n",
        "\n",
        "p9 = Pipeline([\n",
        "    ('encoder_',TargetEncoder(cols=[\"Company Location\", \"Specific Bean Origin\", \"Broad Bean Origin\"])),\n",
        "    ('scaler_', StandardScaler()),\n",
        "    ('model_', CatBoostRegressor(verbose = 0))\n",
        "    ])\n",
        "p10 = Pipeline([\n",
        "    ('encoder_',TargetEncoder(cols=[\"Company Location\", \"Specific Bean Origin\", \"Broad Bean Origin\"], smoothing= 1)),\n",
        "    ('scaler_', StandardScaler()),\n",
        "    ('model_', CatBoostRegressor(verbose = 0))\n",
        "    ])\n",
        "p11 = Pipeline([\n",
        "    ('encoder_',TargetEncoder(cols=[\"Company Location\", \"Specific Bean Origin\", \"Broad Bean Origin\"] , smoothing= 100)),\n",
        "    ('scaler_', StandardScaler()),\n",
        "    ('model_', CatBoostRegressor(verbose = 0))\n",
        "    ])\n",
        "p12 = Pipeline([\n",
        "    ('encoder_',TargetEncoder(cols=[\"Company Location\", \"Specific Bean Origin\", \"Broad Bean Origin\"])),\n",
        "    ('scaler_', MinMaxScaler()),\n",
        "    ('model_',CatBoostRegressor(verbose = 0))\n",
        "    ])\n",
        "p13 = Pipeline([\n",
        "    ('encoder_',TargetEncoder(cols=[\"Company Location\", \"Specific Bean Origin\", \"Broad Bean Origin\"], smoothing= 1)),\n",
        "    ('scaler_', MinMaxScaler()),\n",
        "    ('model_', CatBoostRegressor(verbose = 0))\n",
        "    ])\n",
        "p14 = Pipeline([\n",
        "    ('encoder_',TargetEncoder(cols=[\"Company Location\", \"Specific Bean Origin\", \"Broad Bean Origin\"] , smoothing= 100)),\n",
        "    ('scaler_', MinMaxScaler()),\n",
        "    ('model_', CatBoostRegressor(verbose = 0))\n",
        "    ])\n",
        "p15 = Pipeline([\n",
        "    ('encoder_',LeaveOneOutEncoder(cols=[\"Company Location\", \"Specific Bean Origin\", \"Broad Bean Origin\"])),\n",
        "    ('scaler_', StandardScaler()),\n",
        "    ('model_', CatBoostRegressor(verbose = 0))\n",
        "    ])\n",
        "p16 = Pipeline([\n",
        "    ('encoder_',LeaveOneOutEncoder(cols=[\"Company Location\", \"Specific Bean Origin\", \"Broad Bean Origin\"])),\n",
        "    ('scaler_', MinMaxScaler()),\n",
        "    ('model_', CatBoostRegressor(verbose = 0))\n",
        "    ])\n",
        "\n",
        "\n",
        "p17 = Pipeline([\n",
        "    ('encoder_',TargetEncoder(cols=[\"Company Location\", \"Specific Bean Origin\", \"Broad Bean Origin\"])),\n",
        "    ('scaler_', StandardScaler()),\n",
        "    ('model_', LGBMRegressor())\n",
        "    ])\n",
        "p18= Pipeline([\n",
        "    ('encoder_',TargetEncoder(cols=[\"Company Location\", \"Specific Bean Origin\", \"Broad Bean Origin\"], smoothing= 1)),\n",
        "    ('scaler_', StandardScaler()),\n",
        "    ('model_', LGBMRegressor())\n",
        "    ])\n",
        "p19 = Pipeline([\n",
        "    ('encoder_',TargetEncoder(cols=[\"Company Location\", \"Specific Bean Origin\", \"Broad Bean Origin\"] , smoothing= 100)),\n",
        "    ('scaler_', StandardScaler()),\n",
        "    ('model_', LGBMRegressor())\n",
        "    ])\n",
        "p20 = Pipeline([\n",
        "    ('encoder_',TargetEncoder(cols=[\"Company Location\", \"Specific Bean Origin\", \"Broad Bean Origin\"])),\n",
        "    ('scaler_', MinMaxScaler()),\n",
        "    ('model_',LGBMRegressor())\n",
        "    ])\n",
        "p21 = Pipeline([\n",
        "    ('encoder_',TargetEncoder(cols=[\"Company Location\", \"Specific Bean Origin\", \"Broad Bean Origin\"], smoothing= 1)),\n",
        "    ('scaler_', MinMaxScaler()),\n",
        "    ('model_', LGBMRegressor())\n",
        "    ])\n",
        "p22 = Pipeline([\n",
        "    ('encoder_',TargetEncoder(cols=[\"Company Location\", \"Specific Bean Origin\", \"Broad Bean Origin\"] , smoothing= 100)),\n",
        "    ('scaler_', MinMaxScaler()),\n",
        "    ('model_', LGBMRegressor())\n",
        "    ])\n",
        "p23 = Pipeline([\n",
        "    ('encoder_',LeaveOneOutEncoder(cols=[\"Company Location\", \"Specific Bean Origin\", \"Broad Bean Origin\"])),\n",
        "    ('scaler_', StandardScaler()),\n",
        "    ('model_', LGBMRegressor())\n",
        "    ])\n",
        "p24 = Pipeline([\n",
        "    ('encoder_',LeaveOneOutEncoder(cols=[\"Company Location\", \"Specific Bean Origin\", \"Broad Bean Origin\"])),\n",
        "    ('scaler_', MinMaxScaler()),\n",
        "    ('model_',LGBMRegressor())\n",
        "    ])"
      ]
    },
    {
      "cell_type": "code",
      "execution_count": null,
      "metadata": {
        "id": "oz-sO4MWccFK"
      },
      "outputs": [],
      "source": [
        "for i,p in enumerate([p1,p2,p3,p4,p5,p6,p7,p8,p9,p10,p11,p12,p13,p14,p15,p16,p17,p18,p19,p20,p21,p22,p23,p24]):\n",
        "    print(i+1, cross_val_score(p, X, y, cv=3, scoring='r2', n_jobs=-1).mean())"
      ]
    },
    {
      "cell_type": "markdown",
      "source": [
        "Трудно сказать, какой кодировщик и скалер лучше. Выберем LeaveOneOut и StandartScaler."
      ],
      "metadata": {
        "id": "TQbNsMwWHfDM"
      }
    },
    {
      "cell_type": "markdown",
      "metadata": {
        "id": "l1jyawcu0jxU"
      },
      "source": [
        "Лучше всех себя показал CatBoost. Посмотрим, что будет, если дать ему самому закодировать категориальные признаки."
      ]
    },
    {
      "cell_type": "code",
      "execution_count": null,
      "metadata": {
        "id": "qn6U934azeg4"
      },
      "outputs": [],
      "source": [
        "cross_val_score(CatBoostRegressor(cat_features=[0,3,4]), X, y, cv=3, scoring='r2', n_jobs=-1).mean()"
      ]
    },
    {
      "cell_type": "markdown",
      "metadata": {
        "id": "0VydcZ4716su"
      },
      "source": [
        "Получилось улучшить метрику."
      ]
    },
    {
      "cell_type": "markdown",
      "metadata": {
        "id": "6u-NVc83IPN4"
      },
      "source": [
        "Теперь посмотрим, что будет, если добавить полиномиальные признаки."
      ]
    },
    {
      "cell_type": "code",
      "execution_count": null,
      "metadata": {
        "id": "eFbHFhHiIU6r"
      },
      "outputs": [],
      "source": [
        "p25 = Pipeline([\n",
        "    ('encoder_',LeaveOneOutEncoder(cols=[\"Company Location\", \"Specific Bean Origin\", \"Broad Bean Origin\"])),\n",
        "    ('features', PolynomialFeatures()),\n",
        "    ('scaler_', StandardScaler()),\n",
        "    ('model_', RandomForestRegressor(n_jobs=-1))])\n",
        "p26 = Pipeline([\n",
        "    ('encoder_',LeaveOneOutEncoder(cols=[\"Company Location\", \"Specific Bean Origin\", \"Broad Bean Origin\"])),\n",
        "    ('features', PolynomialFeatures()),\n",
        "    ('scaler_', StandardScaler()),\n",
        "    ('model_', CatBoostRegressor(verbose = 0))])\n",
        "p27 = Pipeline([\n",
        "    ('encoder_',LeaveOneOutEncoder(cols=[\"Company Location\", \"Specific Bean Origin\", \"Broad Bean Origin\"])),\n",
        "    ('features', PolynomialFeatures()),\n",
        "    ('scaler_', StandardScaler()),\n",
        "    ('model_', LGBMRegressor())])\n",
        "\n",
        "p28 = Pipeline([\n",
        "    ('encoder_',LeaveOneOutEncoder(cols=[\"Company Location\", \"Specific Bean Origin\", \"Broad Bean Origin\"])),\n",
        "    ('features', PolynomialFeatures(degree = 3)),\n",
        "    ('scaler_', StandardScaler()),\n",
        "    ('model_', RandomForestRegressor(n_jobs=-1))])\n",
        "p29 = Pipeline([\n",
        "    ('encoder_',LeaveOneOutEncoder(cols=[\"Company Location\", \"Specific Bean Origin\", \"Broad Bean Origin\"])),\n",
        "    ('features', PolynomialFeatures(degree = 3)),\n",
        "    ('scaler_', StandardScaler()),\n",
        "    ('model_', CatBoostRegressor(verbose = 0))])\n",
        "p30 = Pipeline([\n",
        "    ('encoder_',LeaveOneOutEncoder(cols=[\"Company Location\", \"Specific Bean Origin\", \"Broad Bean Origin\"])),\n",
        "    ('features', PolynomialFeatures(degree = 3)),\n",
        "    ('scaler_', StandardScaler()),\n",
        "    ('model_', LGBMRegressor())])"
      ]
    },
    {
      "cell_type": "code",
      "execution_count": null,
      "metadata": {
        "id": "2nfQ6XQtJQZs"
      },
      "outputs": [],
      "source": [
        "for i,p in enumerate([p25,p26,p27,p28,p29,p30]):\n",
        "    print(i+25, cross_val_score(p, X, y, cv=3, scoring='r2', n_jobs=-1).mean())"
      ]
    },
    {
      "cell_type": "markdown",
      "metadata": {
        "id": "qq_ZNCQoK87S"
      },
      "source": [
        "Результат в среднем улучшился."
      ]
    },
    {
      "cell_type": "markdown",
      "metadata": {
        "id": "qWiqAygz1_w6"
      },
      "source": [
        "## Подбор гиперпараметров модели"
      ]
    },
    {
      "cell_type": "markdown",
      "metadata": {
        "id": "r09QTIjp3gco"
      },
      "source": [
        "Будем использовать LeaveOneOutEncoder, StadartScaler и PolynomialFeatures(degree = 3). CatBoost обучим без предварительной обработки данных.\n",
        "\n",
        "Метрику качества будем вычислять по кросс-валидации."
      ]
    },
    {
      "cell_type": "markdown",
      "metadata": {
        "id": "mg3ZvkfLBbnG"
      },
      "source": [
        "Подберем гиперпараметры RandomForestRegressor"
      ]
    },
    {
      "cell_type": "code",
      "execution_count": null,
      "metadata": {
        "id": "MwWXq7Og3-gm"
      },
      "outputs": [],
      "source": [
        "data_pipeline = Pipeline([\n",
        "        ('encoder_',LeaveOneOutEncoder(cols=[\"Company Location\", \"Specific Bean Origin\", \"Broad Bean Origin\"])),\n",
        "        ('features', PolynomialFeatures(degree = 3)),\n",
        "        ('scaler_', StandardScaler())\n",
        "])\n",
        "\n",
        "X_train_good = data_pipeline.fit_transform(X_train, y_train)\n",
        "X_test_good = data_pipeline.transform(X_test)"
      ]
    },
    {
      "cell_type": "code",
      "execution_count": null,
      "metadata": {
        "id": "KU-rYHQQ1guQ"
      },
      "outputs": [],
      "source": [
        "def objective(trial):\n",
        "\n",
        "    param = {\n",
        "        \"n_estimators\": trial.suggest_int(\"n_estimators\", 200, 1500, 50),\n",
        "        \"max_features\": trial.suggest_float(\"max_features\", 0.1, 1.),\n",
        "        \"criterion\": trial.suggest_categorical('criterion', ['squared_error', 'absolute_error', 'friedman_mse', 'poisson']),\n",
        "        \"max_depth\": trial.suggest_int(\"max_depth\", 5, 50),\n",
        "        \"min_samples_split\": trial.suggest_int(\"min_samples_split\", 2, 21),\n",
        "        \"min_samples_leaf\": trial.suggest_int('min_samples_leaf', 2, 21)\n",
        "    }\n",
        "\n",
        "    score = cross_val_score(RandomForestRegressor(**param, verbose=False, n_jobs=-1),\n",
        "                            X_train_good, y_train, cv=3, scoring='r2', n_jobs=-1).mean()\n",
        "    return score\n",
        "\n",
        "\n",
        "\n",
        "study = optuna.create_study(direction=\"maximize\")\n",
        "study.optimize(objective, n_trials=200)\n",
        "print(study.best_trial)"
      ]
    },
    {
      "cell_type": "code",
      "execution_count": null,
      "metadata": {
        "colab": {
          "base_uri": "https://localhost:8080/"
        },
        "id": "C3ppcUSX_PKk",
        "outputId": "2b8d40d5-0eb8-4ef9-d3e0-882d89c79b73"
      },
      "outputs": [
        {
          "output_type": "execute_result",
          "data": {
            "text/plain": [
              "0.012688515838291115"
            ]
          },
          "metadata": {},
          "execution_count": 200
        }
      ],
      "source": [
        "RF_model = RandomForestRegressor(**{'n_estimators': 1000, 'max_features': 0.6446291672999823, 'criterion': 'squared_error', 'max_depth': 30, 'min_samples_split': 20, 'min_samples_leaf': 20}).fit(X_train_good, y_train)\n",
        "r2_score(y_test,RF_model.predict(X_test_good))"
      ]
    },
    {
      "cell_type": "code",
      "source": [
        "r2_score(y_train,RF_model.predict(X_train_good))"
      ],
      "metadata": {
        "colab": {
          "base_uri": "https://localhost:8080/"
        },
        "id": "vYYF7c0O48rv",
        "outputId": "2667e90e-1e3f-4b85-aba5-efc8f14c3012"
      },
      "execution_count": null,
      "outputs": [
        {
          "output_type": "execute_result",
          "data": {
            "text/plain": [
              "0.22314646432704177"
            ]
          },
          "metadata": {},
          "execution_count": 199
        }
      ]
    },
    {
      "cell_type": "markdown",
      "source": [
        "Качество модели на тестовых данных получилось не очень хорошее, но модель не переобучилась. Видимо, она плохо предсказывает зависимость, а, может быть, ей не хватило выборки."
      ],
      "metadata": {
        "id": "lnXJi-hS5Et9"
      }
    },
    {
      "cell_type": "markdown",
      "metadata": {
        "id": "dOa-FoWGBnkX"
      },
      "source": [
        "Теперь подберем гиперпараметры для CatBoostRegressor."
      ]
    },
    {
      "cell_type": "code",
      "execution_count": null,
      "metadata": {
        "id": "rHcixTDtGKJr"
      },
      "outputs": [],
      "source": [
        "def objective(trial):\n",
        "    param = {\n",
        "        \"max_depth\": trial.suggest_int(\"max_depth\", 2, 10),\n",
        "        \"n_estimators\": trial.suggest_int(\"n_estimators\", 50, 1000),\n",
        "        'l2_leaf_reg':trial.suggest_int('l2_leaf_reg',4,30),\n",
        "        'learning_rate':trial.suggest_float('learning_rate', 0.001, 0.3),\n",
        "        'random_strength': trial.suggest_float('random_strength', 1, 3),\n",
        "        'bagging_temperature': trial.suggest_float('bagging_temperature', 0.01, 0.5)\n",
        "    }\n",
        "    model = CatBoostRegressor(**param, early_stopping_rounds= 30, verbose=0, cat_features = [0,3,4])\n",
        "    score = cross_val_score(model, X_train, y_train, cv=3, scoring='r2', n_jobs=-1,).mean()\n",
        "    return score\n",
        "\n",
        "study = optuna.create_study(direction=\"maximize\")\n",
        "study.optimize(objective, n_trials=200)\n",
        "print(study.best_trial)"
      ]
    },
    {
      "cell_type": "code",
      "execution_count": null,
      "metadata": {
        "colab": {
          "base_uri": "https://localhost:8080/"
        },
        "id": "kIDxAISzJmiY",
        "outputId": "903740a1-d097-4c67-ce6a-276d4cb98c78"
      },
      "outputs": [
        {
          "output_type": "execute_result",
          "data": {
            "text/plain": [
              "0.22214919898043395"
            ]
          },
          "metadata": {},
          "execution_count": 163
        }
      ],
      "source": [
        "CB_model = CatBoostRegressor(**{'max_depth': 6, 'n_estimators': 1000, 'l2_leaf_reg': 20, 'learning_rate': 0.019740703132738093, 'random_strength': 2.210649111513943, 'bagging_temperature': 0.02730216355143037},early_stopping_rounds= 30,verbose = 0).fit(X_train, y_train,cat_features = [0,3,4])\n",
        "r2_score(y_test,CB_model.predict(X_test))"
      ]
    },
    {
      "cell_type": "code",
      "source": [
        "r2_score(y_train,CB_model.predict(X_train))"
      ],
      "metadata": {
        "colab": {
          "base_uri": "https://localhost:8080/"
        },
        "id": "qhI8zk21_hBp",
        "outputId": "dd748eb0-8607-43b1-88ee-7c2e86ca05bc"
      },
      "execution_count": null,
      "outputs": [
        {
          "output_type": "execute_result",
          "data": {
            "text/plain": [
              "0.49187874415046573"
            ]
          },
          "metadata": {},
          "execution_count": 164
        }
      ]
    },
    {
      "cell_type": "markdown",
      "source": [
        "Catboost справился лучше."
      ],
      "metadata": {
        "id": "Il480q3j_lu9"
      }
    },
    {
      "cell_type": "markdown",
      "metadata": {
        "id": "Xhw-_ptSumPb"
      },
      "source": [
        "Теперь подберем гиперпараметры для LGBMRegressor."
      ]
    },
    {
      "cell_type": "code",
      "execution_count": null,
      "metadata": {
        "id": "cVX1vxvnrpkU"
      },
      "outputs": [],
      "source": [
        "def objective(trial):\n",
        "    param = {\n",
        "        'max_depth': trial.suggest_int('max_depth', 2, 10),\n",
        "        'n_estimators': trial.suggest_int('n_estimators', 100, 1000),\n",
        "        'num_leaves': trial.suggest_int('num_leaves', 10, 100),\n",
        "        'max_bin': trial.suggest_int('max_bin', 100, 260),\n",
        "        'learning_rate': trial.suggest_float('learning_rate', 0.01, 1.0),\n",
        "        'min_data_in_leaf': trial.suggest_int('min_data_in_leaf', 20, 100),\n",
        "        'bagging_fraction': trial.suggest_float('bagging_fraction', 0.5, 1.0),\n",
        "        'lambda_l1': trial.suggest_float('lambda_l1', 1, 100),\n",
        "        'lambda_l2': trial.suggest_float('lambda_l2', 1, 100),\n",
        "        'extra_trees': trial.suggest_categorical('extra_trees', [True, False])\n",
        "    }\n",
        "    model = LGBMRegressor(**param)\n",
        "    score = cross_val_score(model, X_train_good, y_train, cv=3, scoring='r2', n_jobs=-1).mean()\n",
        "    return score\n",
        "\n",
        "study = optuna.create_study(direction=\"maximize\")\n",
        "study.optimize(objective, n_trials=500)\n",
        "print(study.best_trial)"
      ]
    },
    {
      "cell_type": "code",
      "execution_count": null,
      "metadata": {
        "colab": {
          "base_uri": "https://localhost:8080/"
        },
        "id": "2uqI18IdvJ5-",
        "outputId": "9bbf53a8-2931-4a68-eb87-054c7a0df95e"
      },
      "outputs": [
        {
          "output_type": "execute_result",
          "data": {
            "text/plain": [
              "0.04914853246549067"
            ]
          },
          "metadata": {},
          "execution_count": 165
        }
      ],
      "source": [
        "LGBM_model = LGBMRegressor(**{'max_depth': 10, 'n_estimators': 542, 'num_leaves': 10, 'max_bin': 140, 'learning_rate': 0.29922861263815465, 'min_data_in_leaf': 98, 'bagging_fraction': 0.9657783349821436, 'lambda_l1': 2.637278986288845, 'lambda_l2': 90.28728061398172, 'extra_trees': False}, verbose = -1).fit(X_train_good, y_train)\n",
        "r2_score(y_test,LGBM_model.predict(X_test_good))"
      ]
    },
    {
      "cell_type": "code",
      "source": [
        "r2_score(y_train,LGBM_model.predict(X_train_good))"
      ],
      "metadata": {
        "colab": {
          "base_uri": "https://localhost:8080/"
        },
        "id": "TJacxv3_KqSE",
        "outputId": "b55015db-5b0b-4201-99fb-9f5e8409741e"
      },
      "execution_count": null,
      "outputs": [
        {
          "output_type": "execute_result",
          "data": {
            "text/plain": [
              "0.7061139222852093"
            ]
          },
          "metadata": {},
          "execution_count": 166
        }
      ]
    },
    {
      "cell_type": "markdown",
      "source": [
        "Видим, что модель сильно переобучилась (Буду благодарен, если подскажете, почему это могло произойти). Попробуем самостоятельно поперебирать гиперпараметры, чтобы снизить переобучение."
      ],
      "metadata": {
        "id": "fYgbGgYIO_eB"
      }
    },
    {
      "cell_type": "code",
      "execution_count": null,
      "metadata": {
        "colab": {
          "base_uri": "https://localhost:8080/"
        },
        "outputId": "4a3e4107-6bf2-4551-bdd1-2b60710b4788",
        "id": "GsBcOAt6ObUy"
      },
      "outputs": [
        {
          "output_type": "execute_result",
          "data": {
            "text/plain": [
              "0.1605884322155019"
            ]
          },
          "metadata": {},
          "execution_count": 167
        }
      ],
      "source": [
        "LGBM_model = LGBMRegressor(**{'n_estimators': 1100,'num_leaves': 10, 'max_depth': 8,'lambda_l1': 12.5, 'lambda_l2': 12.5,'min_data_in_leaf': 40, 'learning_rate': 0.015, 'extra_trees': True}, verbose = -1).fit(X_train_good, y_train)\n",
        "r2_score(y_test,LGBM_model.predict(X_test_good))"
      ]
    },
    {
      "cell_type": "code",
      "source": [
        "r2_score(y_train,LGBM_model.predict(X_train_good))"
      ],
      "metadata": {
        "colab": {
          "base_uri": "https://localhost:8080/"
        },
        "outputId": "72e3874e-f0a0-4705-a781-d9faacdf4d7f",
        "id": "tdQFwpuCObUz"
      },
      "execution_count": null,
      "outputs": [
        {
          "output_type": "execute_result",
          "data": {
            "text/plain": [
              "0.21337109595517778"
            ]
          },
          "metadata": {},
          "execution_count": 168
        }
      ]
    },
    {
      "cell_type": "markdown",
      "source": [
        "Уже лучше"
      ],
      "metadata": {
        "id": "t709h4POPXWX"
      }
    },
    {
      "cell_type": "markdown",
      "metadata": {
        "id": "MBZSgVQu0l9s"
      },
      "source": [
        "Посмотрим, какое получится качество, если смешать модели."
      ]
    },
    {
      "cell_type": "code",
      "execution_count": null,
      "metadata": {
        "colab": {
          "base_uri": "https://localhost:8080/"
        },
        "id": "VANtmgi82I8K",
        "outputId": "cf5075fc-eef5-4ba5-9814-a0f0700a9b25"
      },
      "outputs": [
        {
          "output_type": "execute_result",
          "data": {
            "text/plain": [
              "0.22132131136201683"
            ]
          },
          "metadata": {},
          "execution_count": 175
        }
      ],
      "source": [
        "LGBM_pred = LGBM_model.predict(X_test_good)\n",
        "CB_pred = CB_model.predict(X_test)\n",
        "RF_pred = RF_model.predict(X_test_good)\n",
        "\n",
        "pred_final = 0.7*CB_pred + 0.1*RF_pred + 0.2*LGBM_pred\n",
        "\n",
        "r2_score(y_test, pred_final)"
      ]
    },
    {
      "cell_type": "markdown",
      "metadata": {
        "id": "nN865bLvw1aA"
      },
      "source": [
        "##Финальный этап"
      ]
    },
    {
      "cell_type": "markdown",
      "metadata": {
        "id": "8H55oRbn0bhF"
      },
      "source": [
        "Повторим обработку для тестовых данных"
      ]
    },
    {
      "cell_type": "code",
      "execution_count": null,
      "metadata": {
        "id": "PUFHLY2N3X1s"
      },
      "outputs": [],
      "source": [
        "test_df = pd.read_csv(TEST)"
      ]
    },
    {
      "cell_type": "code",
      "execution_count": null,
      "metadata": {
        "colab": {
          "base_uri": "https://localhost:8080/",
          "height": 423
        },
        "id": "wF2CdjZH3jDP",
        "outputId": "e5ee1701-2721-466f-c73c-ac8daa10e7eb"
      },
      "outputs": [
        {
          "output_type": "execute_result",
          "data": {
            "text/plain": [
              "                   Company         Specific Bean Origin   REF  Review  \\\n",
              "0                    Ohiyo  San Juan Estate, Gran Couva  1594    2015   \n",
              "1                 Blanxart                 Organic Dark   322    2009   \n",
              "2                   Brazen                Maya Mountain  1518    2015   \n",
              "3                   Patric                   Madagascar   439    2009   \n",
              "4                  Potomac              Upala, Batch 12   607    2010   \n",
              "..                     ...                          ...   ...     ...   \n",
              "535        Monsieur Truffe            Papaua New Guinea  1391    2014   \n",
              "536          Cacao Hunters                      Macondo  1816    2016   \n",
              "537                 Bonnat                     Maragnam  1038    2013   \n",
              "538  Altus aka Cao Artisan                     Acopagro  1728    2016   \n",
              "539             Holy Cacao                   San Martin   431    2009   \n",
              "\n",
              "    Cocoa Percent Company Location   Bean Type Broad Bean Origin  \n",
              "0             70%           U.S.A.  Trinitario          Trinidad  \n",
              "1             72%            Spain                                \n",
              "2             80%           U.S.A.  Trinitario            Belize  \n",
              "3             67%           U.S.A.  Trinitario        Madagascar  \n",
              "4             82%           U.S.A.      Matina        Costa Rica  \n",
              "..            ...              ...         ...               ...  \n",
              "535           70%        Australia              Papua New Guinea  \n",
              "536           71%         Colombia                      Colombia  \n",
              "537           75%           France                        Brazil  \n",
              "538           60%           U.S.A.                          Peru  \n",
              "539           70%           Israel                          Peru  \n",
              "\n",
              "[540 rows x 8 columns]"
            ],
            "text/html": [
              "\n",
              "  <div id=\"df-8aebbd4a-469c-4e3e-abe5-1bc4143b43c1\" class=\"colab-df-container\">\n",
              "    <div>\n",
              "<style scoped>\n",
              "    .dataframe tbody tr th:only-of-type {\n",
              "        vertical-align: middle;\n",
              "    }\n",
              "\n",
              "    .dataframe tbody tr th {\n",
              "        vertical-align: top;\n",
              "    }\n",
              "\n",
              "    .dataframe thead th {\n",
              "        text-align: right;\n",
              "    }\n",
              "</style>\n",
              "<table border=\"1\" class=\"dataframe\">\n",
              "  <thead>\n",
              "    <tr style=\"text-align: right;\">\n",
              "      <th></th>\n",
              "      <th>Company</th>\n",
              "      <th>Specific Bean Origin</th>\n",
              "      <th>REF</th>\n",
              "      <th>Review</th>\n",
              "      <th>Cocoa Percent</th>\n",
              "      <th>Company Location</th>\n",
              "      <th>Bean Type</th>\n",
              "      <th>Broad Bean Origin</th>\n",
              "    </tr>\n",
              "  </thead>\n",
              "  <tbody>\n",
              "    <tr>\n",
              "      <th>0</th>\n",
              "      <td>Ohiyo</td>\n",
              "      <td>San Juan Estate, Gran Couva</td>\n",
              "      <td>1594</td>\n",
              "      <td>2015</td>\n",
              "      <td>70%</td>\n",
              "      <td>U.S.A.</td>\n",
              "      <td>Trinitario</td>\n",
              "      <td>Trinidad</td>\n",
              "    </tr>\n",
              "    <tr>\n",
              "      <th>1</th>\n",
              "      <td>Blanxart</td>\n",
              "      <td>Organic Dark</td>\n",
              "      <td>322</td>\n",
              "      <td>2009</td>\n",
              "      <td>72%</td>\n",
              "      <td>Spain</td>\n",
              "      <td></td>\n",
              "      <td></td>\n",
              "    </tr>\n",
              "    <tr>\n",
              "      <th>2</th>\n",
              "      <td>Brazen</td>\n",
              "      <td>Maya Mountain</td>\n",
              "      <td>1518</td>\n",
              "      <td>2015</td>\n",
              "      <td>80%</td>\n",
              "      <td>U.S.A.</td>\n",
              "      <td>Trinitario</td>\n",
              "      <td>Belize</td>\n",
              "    </tr>\n",
              "    <tr>\n",
              "      <th>3</th>\n",
              "      <td>Patric</td>\n",
              "      <td>Madagascar</td>\n",
              "      <td>439</td>\n",
              "      <td>2009</td>\n",
              "      <td>67%</td>\n",
              "      <td>U.S.A.</td>\n",
              "      <td>Trinitario</td>\n",
              "      <td>Madagascar</td>\n",
              "    </tr>\n",
              "    <tr>\n",
              "      <th>4</th>\n",
              "      <td>Potomac</td>\n",
              "      <td>Upala, Batch 12</td>\n",
              "      <td>607</td>\n",
              "      <td>2010</td>\n",
              "      <td>82%</td>\n",
              "      <td>U.S.A.</td>\n",
              "      <td>Matina</td>\n",
              "      <td>Costa Rica</td>\n",
              "    </tr>\n",
              "    <tr>\n",
              "      <th>...</th>\n",
              "      <td>...</td>\n",
              "      <td>...</td>\n",
              "      <td>...</td>\n",
              "      <td>...</td>\n",
              "      <td>...</td>\n",
              "      <td>...</td>\n",
              "      <td>...</td>\n",
              "      <td>...</td>\n",
              "    </tr>\n",
              "    <tr>\n",
              "      <th>535</th>\n",
              "      <td>Monsieur Truffe</td>\n",
              "      <td>Papaua New Guinea</td>\n",
              "      <td>1391</td>\n",
              "      <td>2014</td>\n",
              "      <td>70%</td>\n",
              "      <td>Australia</td>\n",
              "      <td></td>\n",
              "      <td>Papua New Guinea</td>\n",
              "    </tr>\n",
              "    <tr>\n",
              "      <th>536</th>\n",
              "      <td>Cacao Hunters</td>\n",
              "      <td>Macondo</td>\n",
              "      <td>1816</td>\n",
              "      <td>2016</td>\n",
              "      <td>71%</td>\n",
              "      <td>Colombia</td>\n",
              "      <td></td>\n",
              "      <td>Colombia</td>\n",
              "    </tr>\n",
              "    <tr>\n",
              "      <th>537</th>\n",
              "      <td>Bonnat</td>\n",
              "      <td>Maragnam</td>\n",
              "      <td>1038</td>\n",
              "      <td>2013</td>\n",
              "      <td>75%</td>\n",
              "      <td>France</td>\n",
              "      <td></td>\n",
              "      <td>Brazil</td>\n",
              "    </tr>\n",
              "    <tr>\n",
              "      <th>538</th>\n",
              "      <td>Altus aka Cao Artisan</td>\n",
              "      <td>Acopagro</td>\n",
              "      <td>1728</td>\n",
              "      <td>2016</td>\n",
              "      <td>60%</td>\n",
              "      <td>U.S.A.</td>\n",
              "      <td></td>\n",
              "      <td>Peru</td>\n",
              "    </tr>\n",
              "    <tr>\n",
              "      <th>539</th>\n",
              "      <td>Holy Cacao</td>\n",
              "      <td>San Martin</td>\n",
              "      <td>431</td>\n",
              "      <td>2009</td>\n",
              "      <td>70%</td>\n",
              "      <td>Israel</td>\n",
              "      <td></td>\n",
              "      <td>Peru</td>\n",
              "    </tr>\n",
              "  </tbody>\n",
              "</table>\n",
              "<p>540 rows × 8 columns</p>\n",
              "</div>\n",
              "    <div class=\"colab-df-buttons\">\n",
              "\n",
              "  <div class=\"colab-df-container\">\n",
              "    <button class=\"colab-df-convert\" onclick=\"convertToInteractive('df-8aebbd4a-469c-4e3e-abe5-1bc4143b43c1')\"\n",
              "            title=\"Convert this dataframe to an interactive table.\"\n",
              "            style=\"display:none;\">\n",
              "\n",
              "  <svg xmlns=\"http://www.w3.org/2000/svg\" height=\"24px\" viewBox=\"0 -960 960 960\">\n",
              "    <path d=\"M120-120v-720h720v720H120Zm60-500h600v-160H180v160Zm220 220h160v-160H400v160Zm0 220h160v-160H400v160ZM180-400h160v-160H180v160Zm440 0h160v-160H620v160ZM180-180h160v-160H180v160Zm440 0h160v-160H620v160Z\"/>\n",
              "  </svg>\n",
              "    </button>\n",
              "\n",
              "  <style>\n",
              "    .colab-df-container {\n",
              "      display:flex;\n",
              "      gap: 12px;\n",
              "    }\n",
              "\n",
              "    .colab-df-convert {\n",
              "      background-color: #E8F0FE;\n",
              "      border: none;\n",
              "      border-radius: 50%;\n",
              "      cursor: pointer;\n",
              "      display: none;\n",
              "      fill: #1967D2;\n",
              "      height: 32px;\n",
              "      padding: 0 0 0 0;\n",
              "      width: 32px;\n",
              "    }\n",
              "\n",
              "    .colab-df-convert:hover {\n",
              "      background-color: #E2EBFA;\n",
              "      box-shadow: 0px 1px 2px rgba(60, 64, 67, 0.3), 0px 1px 3px 1px rgba(60, 64, 67, 0.15);\n",
              "      fill: #174EA6;\n",
              "    }\n",
              "\n",
              "    .colab-df-buttons div {\n",
              "      margin-bottom: 4px;\n",
              "    }\n",
              "\n",
              "    [theme=dark] .colab-df-convert {\n",
              "      background-color: #3B4455;\n",
              "      fill: #D2E3FC;\n",
              "    }\n",
              "\n",
              "    [theme=dark] .colab-df-convert:hover {\n",
              "      background-color: #434B5C;\n",
              "      box-shadow: 0px 1px 3px 1px rgba(0, 0, 0, 0.15);\n",
              "      filter: drop-shadow(0px 1px 2px rgba(0, 0, 0, 0.3));\n",
              "      fill: #FFFFFF;\n",
              "    }\n",
              "  </style>\n",
              "\n",
              "    <script>\n",
              "      const buttonEl =\n",
              "        document.querySelector('#df-8aebbd4a-469c-4e3e-abe5-1bc4143b43c1 button.colab-df-convert');\n",
              "      buttonEl.style.display =\n",
              "        google.colab.kernel.accessAllowed ? 'block' : 'none';\n",
              "\n",
              "      async function convertToInteractive(key) {\n",
              "        const element = document.querySelector('#df-8aebbd4a-469c-4e3e-abe5-1bc4143b43c1');\n",
              "        const dataTable =\n",
              "          await google.colab.kernel.invokeFunction('convertToInteractive',\n",
              "                                                    [key], {});\n",
              "        if (!dataTable) return;\n",
              "\n",
              "        const docLinkHtml = 'Like what you see? Visit the ' +\n",
              "          '<a target=\"_blank\" href=https://colab.research.google.com/notebooks/data_table.ipynb>data table notebook</a>'\n",
              "          + ' to learn more about interactive tables.';\n",
              "        element.innerHTML = '';\n",
              "        dataTable['output_type'] = 'display_data';\n",
              "        await google.colab.output.renderOutput(dataTable, element);\n",
              "        const docLink = document.createElement('div');\n",
              "        docLink.innerHTML = docLinkHtml;\n",
              "        element.appendChild(docLink);\n",
              "      }\n",
              "    </script>\n",
              "  </div>\n",
              "\n",
              "\n",
              "<div id=\"df-42c3599f-a74d-46e3-b08d-616fdbe3c54a\">\n",
              "  <button class=\"colab-df-quickchart\" onclick=\"quickchart('df-42c3599f-a74d-46e3-b08d-616fdbe3c54a')\"\n",
              "            title=\"Suggest charts\"\n",
              "            style=\"display:none;\">\n",
              "\n",
              "<svg xmlns=\"http://www.w3.org/2000/svg\" height=\"24px\"viewBox=\"0 0 24 24\"\n",
              "     width=\"24px\">\n",
              "    <g>\n",
              "        <path d=\"M19 3H5c-1.1 0-2 .9-2 2v14c0 1.1.9 2 2 2h14c1.1 0 2-.9 2-2V5c0-1.1-.9-2-2-2zM9 17H7v-7h2v7zm4 0h-2V7h2v10zm4 0h-2v-4h2v4z\"/>\n",
              "    </g>\n",
              "</svg>\n",
              "  </button>\n",
              "\n",
              "<style>\n",
              "  .colab-df-quickchart {\n",
              "      --bg-color: #E8F0FE;\n",
              "      --fill-color: #1967D2;\n",
              "      --hover-bg-color: #E2EBFA;\n",
              "      --hover-fill-color: #174EA6;\n",
              "      --disabled-fill-color: #AAA;\n",
              "      --disabled-bg-color: #DDD;\n",
              "  }\n",
              "\n",
              "  [theme=dark] .colab-df-quickchart {\n",
              "      --bg-color: #3B4455;\n",
              "      --fill-color: #D2E3FC;\n",
              "      --hover-bg-color: #434B5C;\n",
              "      --hover-fill-color: #FFFFFF;\n",
              "      --disabled-bg-color: #3B4455;\n",
              "      --disabled-fill-color: #666;\n",
              "  }\n",
              "\n",
              "  .colab-df-quickchart {\n",
              "    background-color: var(--bg-color);\n",
              "    border: none;\n",
              "    border-radius: 50%;\n",
              "    cursor: pointer;\n",
              "    display: none;\n",
              "    fill: var(--fill-color);\n",
              "    height: 32px;\n",
              "    padding: 0;\n",
              "    width: 32px;\n",
              "  }\n",
              "\n",
              "  .colab-df-quickchart:hover {\n",
              "    background-color: var(--hover-bg-color);\n",
              "    box-shadow: 0 1px 2px rgba(60, 64, 67, 0.3), 0 1px 3px 1px rgba(60, 64, 67, 0.15);\n",
              "    fill: var(--button-hover-fill-color);\n",
              "  }\n",
              "\n",
              "  .colab-df-quickchart-complete:disabled,\n",
              "  .colab-df-quickchart-complete:disabled:hover {\n",
              "    background-color: var(--disabled-bg-color);\n",
              "    fill: var(--disabled-fill-color);\n",
              "    box-shadow: none;\n",
              "  }\n",
              "\n",
              "  .colab-df-spinner {\n",
              "    border: 2px solid var(--fill-color);\n",
              "    border-color: transparent;\n",
              "    border-bottom-color: var(--fill-color);\n",
              "    animation:\n",
              "      spin 1s steps(1) infinite;\n",
              "  }\n",
              "\n",
              "  @keyframes spin {\n",
              "    0% {\n",
              "      border-color: transparent;\n",
              "      border-bottom-color: var(--fill-color);\n",
              "      border-left-color: var(--fill-color);\n",
              "    }\n",
              "    20% {\n",
              "      border-color: transparent;\n",
              "      border-left-color: var(--fill-color);\n",
              "      border-top-color: var(--fill-color);\n",
              "    }\n",
              "    30% {\n",
              "      border-color: transparent;\n",
              "      border-left-color: var(--fill-color);\n",
              "      border-top-color: var(--fill-color);\n",
              "      border-right-color: var(--fill-color);\n",
              "    }\n",
              "    40% {\n",
              "      border-color: transparent;\n",
              "      border-right-color: var(--fill-color);\n",
              "      border-top-color: var(--fill-color);\n",
              "    }\n",
              "    60% {\n",
              "      border-color: transparent;\n",
              "      border-right-color: var(--fill-color);\n",
              "    }\n",
              "    80% {\n",
              "      border-color: transparent;\n",
              "      border-right-color: var(--fill-color);\n",
              "      border-bottom-color: var(--fill-color);\n",
              "    }\n",
              "    90% {\n",
              "      border-color: transparent;\n",
              "      border-bottom-color: var(--fill-color);\n",
              "    }\n",
              "  }\n",
              "</style>\n",
              "\n",
              "  <script>\n",
              "    async function quickchart(key) {\n",
              "      const quickchartButtonEl =\n",
              "        document.querySelector('#' + key + ' button');\n",
              "      quickchartButtonEl.disabled = true;  // To prevent multiple clicks.\n",
              "      quickchartButtonEl.classList.add('colab-df-spinner');\n",
              "      try {\n",
              "        const charts = await google.colab.kernel.invokeFunction(\n",
              "            'suggestCharts', [key], {});\n",
              "      } catch (error) {\n",
              "        console.error('Error during call to suggestCharts:', error);\n",
              "      }\n",
              "      quickchartButtonEl.classList.remove('colab-df-spinner');\n",
              "      quickchartButtonEl.classList.add('colab-df-quickchart-complete');\n",
              "    }\n",
              "    (() => {\n",
              "      let quickchartButtonEl =\n",
              "        document.querySelector('#df-42c3599f-a74d-46e3-b08d-616fdbe3c54a button');\n",
              "      quickchartButtonEl.style.display =\n",
              "        google.colab.kernel.accessAllowed ? 'block' : 'none';\n",
              "    })();\n",
              "  </script>\n",
              "</div>\n",
              "    </div>\n",
              "  </div>\n"
            ],
            "application/vnd.google.colaboratory.intrinsic+json": {
              "type": "dataframe",
              "variable_name": "test_df",
              "summary": "{\n  \"name\": \"test_df\",\n  \"rows\": 540,\n  \"fields\": [\n    {\n      \"column\": \"Company\",\n      \"properties\": {\n        \"dtype\": \"category\",\n        \"num_unique_values\": 244,\n        \"samples\": [\n          \"Bar Au Chocolat\",\n          \"Rozsavolgyi\",\n          \"Amano\"\n        ],\n        \"semantic_type\": \"\",\n        \"description\": \"\"\n      }\n    },\n    {\n      \"column\": \"Specific Bean Origin\",\n      \"properties\": {\n        \"dtype\": \"string\",\n        \"num_unique_values\": 385,\n        \"samples\": [\n          \"Dancing in Your Head, 5 bean blend\",\n          \"Porcelana, Tabasco, Marfil de Blanco\",\n          \"Anselmo Paraiso Estate\"\n        ],\n        \"semantic_type\": \"\",\n        \"description\": \"\"\n      }\n    },\n    {\n      \"column\": \"REF\",\n      \"properties\": {\n        \"dtype\": \"number\",\n        \"std\": 556,\n        \"min\": 5,\n        \"max\": 1952,\n        \"num_unique_values\": 338,\n        \"samples\": [\n          1129,\n          1201,\n          1626\n        ],\n        \"semantic_type\": \"\",\n        \"description\": \"\"\n      }\n    },\n    {\n      \"column\": \"Review\",\n      \"properties\": {\n        \"dtype\": \"number\",\n        \"std\": 2,\n        \"min\": 2006,\n        \"max\": 2017,\n        \"num_unique_values\": 12,\n        \"samples\": [\n          2007,\n          2013,\n          2015\n        ],\n        \"semantic_type\": \"\",\n        \"description\": \"\"\n      }\n    },\n    {\n      \"column\": \"Cocoa Percent\",\n      \"properties\": {\n        \"dtype\": \"category\",\n        \"num_unique_values\": 38,\n        \"samples\": [\n          \"91%\",\n          \"79%\",\n          \"82%\"\n        ],\n        \"semantic_type\": \"\",\n        \"description\": \"\"\n      }\n    },\n    {\n      \"column\": \"Company Location\",\n      \"properties\": {\n        \"dtype\": \"category\",\n        \"num_unique_values\": 42,\n        \"samples\": [\n          \"Nicaragua\",\n          \"Belgium\",\n          \"Denmark\"\n        ],\n        \"semantic_type\": \"\",\n        \"description\": \"\"\n      }\n    },\n    {\n      \"column\": \"Bean Type\",\n      \"properties\": {\n        \"dtype\": \"category\",\n        \"num_unique_values\": 20,\n        \"samples\": [\n          \"Trinitario\",\n          \"Nacional\",\n          \"Trinitario (Scavina)\"\n        ],\n        \"semantic_type\": \"\",\n        \"description\": \"\"\n      }\n    },\n    {\n      \"column\": \"Broad Bean Origin\",\n      \"properties\": {\n        \"dtype\": \"category\",\n        \"num_unique_values\": 60,\n        \"samples\": [\n          \"Trinidad\",\n          \"Colombia\",\n          \"Domincan Republic\"\n        ],\n        \"semantic_type\": \"\",\n        \"description\": \"\"\n      }\n    }\n  ]\n}"
            }
          },
          "metadata": {},
          "execution_count": 202
        }
      ],
      "source": [
        "test_df"
      ]
    },
    {
      "cell_type": "code",
      "execution_count": null,
      "metadata": {
        "id": "4nb7375w3wrX"
      },
      "outputs": [],
      "source": [
        "test_df = test_df.replace(\"\\xa0\", np.NAN)"
      ]
    },
    {
      "cell_type": "code",
      "execution_count": null,
      "metadata": {
        "colab": {
          "base_uri": "https://localhost:8080/"
        },
        "id": "uRXykqfo3zPh",
        "outputId": "9580cd6b-bafb-468b-e84b-2df1564508d8"
      },
      "outputs": [
        {
          "output_type": "stream",
          "name": "stdout",
          "text": [
            "<class 'pandas.core.frame.DataFrame'>\n",
            "RangeIndex: 540 entries, 0 to 539\n",
            "Data columns (total 8 columns):\n",
            " #   Column                Non-Null Count  Dtype \n",
            "---  ------                --------------  ----- \n",
            " 0   Company               540 non-null    object\n",
            " 1   Specific Bean Origin  540 non-null    object\n",
            " 2   REF                   540 non-null    int64 \n",
            " 3   Review                540 non-null    int64 \n",
            " 4   Cocoa Percent         540 non-null    object\n",
            " 5   Company Location      540 non-null    object\n",
            " 6   Bean Type             281 non-null    object\n",
            " 7   Broad Bean Origin     522 non-null    object\n",
            "dtypes: int64(2), object(6)\n",
            "memory usage: 33.9+ KB\n"
          ]
        }
      ],
      "source": [
        "test_df.info()"
      ]
    },
    {
      "cell_type": "code",
      "execution_count": null,
      "metadata": {
        "id": "tzTbE1nK3X1z"
      },
      "outputs": [],
      "source": [
        "del test_df[\"Review\"]"
      ]
    },
    {
      "cell_type": "code",
      "execution_count": null,
      "metadata": {
        "id": "av4iaicp3X1z"
      },
      "outputs": [],
      "source": [
        "del test_df[\"Bean Type\"]"
      ]
    },
    {
      "cell_type": "code",
      "source": [
        "test_df[\"Company Location\"] = test_df[\"Company\"] + \"_\" + test_df[\"Company Location\"]\n",
        "del test_df[\"Company\"]"
      ],
      "metadata": {
        "id": "xsxddPVe4AAB"
      },
      "execution_count": null,
      "outputs": []
    },
    {
      "cell_type": "code",
      "execution_count": null,
      "metadata": {
        "id": "84ryJtnS4o8M"
      },
      "outputs": [],
      "source": [
        "test_df[\"Cocoa Percent\"] = test_df[\"Cocoa Percent\"].apply(lambda x: float(x.replace(\"%\",\"\"))/100)"
      ]
    },
    {
      "cell_type": "code",
      "execution_count": null,
      "metadata": {
        "id": "W88GzQsi4trm"
      },
      "outputs": [],
      "source": [
        "def fill_broad_bean_missing(x):\n",
        "    try:\n",
        "        return x.fillna(x.mode()[0])\n",
        "    except: #Если не получилось найти моду в группе, заполняем пропуск глобальной модой\n",
        "        return x.fillna(test_df[\"Broad Bean Origin\"].mode()[0])\n"
      ]
    },
    {
      "cell_type": "code",
      "execution_count": null,
      "metadata": {
        "id": "l6HlL0sO4trn"
      },
      "outputs": [],
      "source": [
        "test_df[\"Broad Bean Origin\"] = test_df.groupby([\"Specific Bean Origin\"])[\"Broad Bean Origin\"].transform(fill_broad_bean_missing)"
      ]
    },
    {
      "cell_type": "code",
      "execution_count": null,
      "metadata": {
        "colab": {
          "base_uri": "https://localhost:8080/",
          "height": 423
        },
        "id": "L80yawIF4dsA",
        "outputId": "a0b65613-6f85-4e73-fcb9-7b40ebff467f"
      },
      "outputs": [
        {
          "output_type": "execute_result",
          "data": {
            "text/plain": [
              "            Specific Bean Origin   REF  Cocoa Percent  \\\n",
              "0    San Juan Estate, Gran Couva  1594           0.70   \n",
              "1                   Organic Dark   322           0.72   \n",
              "2                  Maya Mountain  1518           0.80   \n",
              "3                     Madagascar   439           0.67   \n",
              "4                Upala, Batch 12   607           0.82   \n",
              "..                           ...   ...            ...   \n",
              "535            Papaua New Guinea  1391           0.70   \n",
              "536                      Macondo  1816           0.71   \n",
              "537                     Maragnam  1038           0.75   \n",
              "538                     Acopagro  1728           0.60   \n",
              "539                   San Martin   431           0.70   \n",
              "\n",
              "                 Company Location Broad Bean Origin  \n",
              "0                    Ohiyo_U.S.A.          Trinidad  \n",
              "1                  Blanxart_Spain         Venezuela  \n",
              "2                   Brazen_U.S.A.            Belize  \n",
              "3                   Patric_U.S.A.        Madagascar  \n",
              "4                  Potomac_U.S.A.        Costa Rica  \n",
              "..                            ...               ...  \n",
              "535     Monsieur Truffe_Australia  Papua New Guinea  \n",
              "536        Cacao Hunters_Colombia          Colombia  \n",
              "537                 Bonnat_France            Brazil  \n",
              "538  Altus aka Cao Artisan_U.S.A.              Peru  \n",
              "539             Holy Cacao_Israel              Peru  \n",
              "\n",
              "[540 rows x 5 columns]"
            ],
            "text/html": [
              "\n",
              "  <div id=\"df-6aa75a63-9c9f-41eb-9c5f-f8802e591138\" class=\"colab-df-container\">\n",
              "    <div>\n",
              "<style scoped>\n",
              "    .dataframe tbody tr th:only-of-type {\n",
              "        vertical-align: middle;\n",
              "    }\n",
              "\n",
              "    .dataframe tbody tr th {\n",
              "        vertical-align: top;\n",
              "    }\n",
              "\n",
              "    .dataframe thead th {\n",
              "        text-align: right;\n",
              "    }\n",
              "</style>\n",
              "<table border=\"1\" class=\"dataframe\">\n",
              "  <thead>\n",
              "    <tr style=\"text-align: right;\">\n",
              "      <th></th>\n",
              "      <th>Specific Bean Origin</th>\n",
              "      <th>REF</th>\n",
              "      <th>Cocoa Percent</th>\n",
              "      <th>Company Location</th>\n",
              "      <th>Broad Bean Origin</th>\n",
              "    </tr>\n",
              "  </thead>\n",
              "  <tbody>\n",
              "    <tr>\n",
              "      <th>0</th>\n",
              "      <td>San Juan Estate, Gran Couva</td>\n",
              "      <td>1594</td>\n",
              "      <td>0.70</td>\n",
              "      <td>Ohiyo_U.S.A.</td>\n",
              "      <td>Trinidad</td>\n",
              "    </tr>\n",
              "    <tr>\n",
              "      <th>1</th>\n",
              "      <td>Organic Dark</td>\n",
              "      <td>322</td>\n",
              "      <td>0.72</td>\n",
              "      <td>Blanxart_Spain</td>\n",
              "      <td>Venezuela</td>\n",
              "    </tr>\n",
              "    <tr>\n",
              "      <th>2</th>\n",
              "      <td>Maya Mountain</td>\n",
              "      <td>1518</td>\n",
              "      <td>0.80</td>\n",
              "      <td>Brazen_U.S.A.</td>\n",
              "      <td>Belize</td>\n",
              "    </tr>\n",
              "    <tr>\n",
              "      <th>3</th>\n",
              "      <td>Madagascar</td>\n",
              "      <td>439</td>\n",
              "      <td>0.67</td>\n",
              "      <td>Patric_U.S.A.</td>\n",
              "      <td>Madagascar</td>\n",
              "    </tr>\n",
              "    <tr>\n",
              "      <th>4</th>\n",
              "      <td>Upala, Batch 12</td>\n",
              "      <td>607</td>\n",
              "      <td>0.82</td>\n",
              "      <td>Potomac_U.S.A.</td>\n",
              "      <td>Costa Rica</td>\n",
              "    </tr>\n",
              "    <tr>\n",
              "      <th>...</th>\n",
              "      <td>...</td>\n",
              "      <td>...</td>\n",
              "      <td>...</td>\n",
              "      <td>...</td>\n",
              "      <td>...</td>\n",
              "    </tr>\n",
              "    <tr>\n",
              "      <th>535</th>\n",
              "      <td>Papaua New Guinea</td>\n",
              "      <td>1391</td>\n",
              "      <td>0.70</td>\n",
              "      <td>Monsieur Truffe_Australia</td>\n",
              "      <td>Papua New Guinea</td>\n",
              "    </tr>\n",
              "    <tr>\n",
              "      <th>536</th>\n",
              "      <td>Macondo</td>\n",
              "      <td>1816</td>\n",
              "      <td>0.71</td>\n",
              "      <td>Cacao Hunters_Colombia</td>\n",
              "      <td>Colombia</td>\n",
              "    </tr>\n",
              "    <tr>\n",
              "      <th>537</th>\n",
              "      <td>Maragnam</td>\n",
              "      <td>1038</td>\n",
              "      <td>0.75</td>\n",
              "      <td>Bonnat_France</td>\n",
              "      <td>Brazil</td>\n",
              "    </tr>\n",
              "    <tr>\n",
              "      <th>538</th>\n",
              "      <td>Acopagro</td>\n",
              "      <td>1728</td>\n",
              "      <td>0.60</td>\n",
              "      <td>Altus aka Cao Artisan_U.S.A.</td>\n",
              "      <td>Peru</td>\n",
              "    </tr>\n",
              "    <tr>\n",
              "      <th>539</th>\n",
              "      <td>San Martin</td>\n",
              "      <td>431</td>\n",
              "      <td>0.70</td>\n",
              "      <td>Holy Cacao_Israel</td>\n",
              "      <td>Peru</td>\n",
              "    </tr>\n",
              "  </tbody>\n",
              "</table>\n",
              "<p>540 rows × 5 columns</p>\n",
              "</div>\n",
              "    <div class=\"colab-df-buttons\">\n",
              "\n",
              "  <div class=\"colab-df-container\">\n",
              "    <button class=\"colab-df-convert\" onclick=\"convertToInteractive('df-6aa75a63-9c9f-41eb-9c5f-f8802e591138')\"\n",
              "            title=\"Convert this dataframe to an interactive table.\"\n",
              "            style=\"display:none;\">\n",
              "\n",
              "  <svg xmlns=\"http://www.w3.org/2000/svg\" height=\"24px\" viewBox=\"0 -960 960 960\">\n",
              "    <path d=\"M120-120v-720h720v720H120Zm60-500h600v-160H180v160Zm220 220h160v-160H400v160Zm0 220h160v-160H400v160ZM180-400h160v-160H180v160Zm440 0h160v-160H620v160ZM180-180h160v-160H180v160Zm440 0h160v-160H620v160Z\"/>\n",
              "  </svg>\n",
              "    </button>\n",
              "\n",
              "  <style>\n",
              "    .colab-df-container {\n",
              "      display:flex;\n",
              "      gap: 12px;\n",
              "    }\n",
              "\n",
              "    .colab-df-convert {\n",
              "      background-color: #E8F0FE;\n",
              "      border: none;\n",
              "      border-radius: 50%;\n",
              "      cursor: pointer;\n",
              "      display: none;\n",
              "      fill: #1967D2;\n",
              "      height: 32px;\n",
              "      padding: 0 0 0 0;\n",
              "      width: 32px;\n",
              "    }\n",
              "\n",
              "    .colab-df-convert:hover {\n",
              "      background-color: #E2EBFA;\n",
              "      box-shadow: 0px 1px 2px rgba(60, 64, 67, 0.3), 0px 1px 3px 1px rgba(60, 64, 67, 0.15);\n",
              "      fill: #174EA6;\n",
              "    }\n",
              "\n",
              "    .colab-df-buttons div {\n",
              "      margin-bottom: 4px;\n",
              "    }\n",
              "\n",
              "    [theme=dark] .colab-df-convert {\n",
              "      background-color: #3B4455;\n",
              "      fill: #D2E3FC;\n",
              "    }\n",
              "\n",
              "    [theme=dark] .colab-df-convert:hover {\n",
              "      background-color: #434B5C;\n",
              "      box-shadow: 0px 1px 3px 1px rgba(0, 0, 0, 0.15);\n",
              "      filter: drop-shadow(0px 1px 2px rgba(0, 0, 0, 0.3));\n",
              "      fill: #FFFFFF;\n",
              "    }\n",
              "  </style>\n",
              "\n",
              "    <script>\n",
              "      const buttonEl =\n",
              "        document.querySelector('#df-6aa75a63-9c9f-41eb-9c5f-f8802e591138 button.colab-df-convert');\n",
              "      buttonEl.style.display =\n",
              "        google.colab.kernel.accessAllowed ? 'block' : 'none';\n",
              "\n",
              "      async function convertToInteractive(key) {\n",
              "        const element = document.querySelector('#df-6aa75a63-9c9f-41eb-9c5f-f8802e591138');\n",
              "        const dataTable =\n",
              "          await google.colab.kernel.invokeFunction('convertToInteractive',\n",
              "                                                    [key], {});\n",
              "        if (!dataTable) return;\n",
              "\n",
              "        const docLinkHtml = 'Like what you see? Visit the ' +\n",
              "          '<a target=\"_blank\" href=https://colab.research.google.com/notebooks/data_table.ipynb>data table notebook</a>'\n",
              "          + ' to learn more about interactive tables.';\n",
              "        element.innerHTML = '';\n",
              "        dataTable['output_type'] = 'display_data';\n",
              "        await google.colab.output.renderOutput(dataTable, element);\n",
              "        const docLink = document.createElement('div');\n",
              "        docLink.innerHTML = docLinkHtml;\n",
              "        element.appendChild(docLink);\n",
              "      }\n",
              "    </script>\n",
              "  </div>\n",
              "\n",
              "\n",
              "<div id=\"df-26e3ef23-164c-42b2-a9ae-c8a8015605d4\">\n",
              "  <button class=\"colab-df-quickchart\" onclick=\"quickchart('df-26e3ef23-164c-42b2-a9ae-c8a8015605d4')\"\n",
              "            title=\"Suggest charts\"\n",
              "            style=\"display:none;\">\n",
              "\n",
              "<svg xmlns=\"http://www.w3.org/2000/svg\" height=\"24px\"viewBox=\"0 0 24 24\"\n",
              "     width=\"24px\">\n",
              "    <g>\n",
              "        <path d=\"M19 3H5c-1.1 0-2 .9-2 2v14c0 1.1.9 2 2 2h14c1.1 0 2-.9 2-2V5c0-1.1-.9-2-2-2zM9 17H7v-7h2v7zm4 0h-2V7h2v10zm4 0h-2v-4h2v4z\"/>\n",
              "    </g>\n",
              "</svg>\n",
              "  </button>\n",
              "\n",
              "<style>\n",
              "  .colab-df-quickchart {\n",
              "      --bg-color: #E8F0FE;\n",
              "      --fill-color: #1967D2;\n",
              "      --hover-bg-color: #E2EBFA;\n",
              "      --hover-fill-color: #174EA6;\n",
              "      --disabled-fill-color: #AAA;\n",
              "      --disabled-bg-color: #DDD;\n",
              "  }\n",
              "\n",
              "  [theme=dark] .colab-df-quickchart {\n",
              "      --bg-color: #3B4455;\n",
              "      --fill-color: #D2E3FC;\n",
              "      --hover-bg-color: #434B5C;\n",
              "      --hover-fill-color: #FFFFFF;\n",
              "      --disabled-bg-color: #3B4455;\n",
              "      --disabled-fill-color: #666;\n",
              "  }\n",
              "\n",
              "  .colab-df-quickchart {\n",
              "    background-color: var(--bg-color);\n",
              "    border: none;\n",
              "    border-radius: 50%;\n",
              "    cursor: pointer;\n",
              "    display: none;\n",
              "    fill: var(--fill-color);\n",
              "    height: 32px;\n",
              "    padding: 0;\n",
              "    width: 32px;\n",
              "  }\n",
              "\n",
              "  .colab-df-quickchart:hover {\n",
              "    background-color: var(--hover-bg-color);\n",
              "    box-shadow: 0 1px 2px rgba(60, 64, 67, 0.3), 0 1px 3px 1px rgba(60, 64, 67, 0.15);\n",
              "    fill: var(--button-hover-fill-color);\n",
              "  }\n",
              "\n",
              "  .colab-df-quickchart-complete:disabled,\n",
              "  .colab-df-quickchart-complete:disabled:hover {\n",
              "    background-color: var(--disabled-bg-color);\n",
              "    fill: var(--disabled-fill-color);\n",
              "    box-shadow: none;\n",
              "  }\n",
              "\n",
              "  .colab-df-spinner {\n",
              "    border: 2px solid var(--fill-color);\n",
              "    border-color: transparent;\n",
              "    border-bottom-color: var(--fill-color);\n",
              "    animation:\n",
              "      spin 1s steps(1) infinite;\n",
              "  }\n",
              "\n",
              "  @keyframes spin {\n",
              "    0% {\n",
              "      border-color: transparent;\n",
              "      border-bottom-color: var(--fill-color);\n",
              "      border-left-color: var(--fill-color);\n",
              "    }\n",
              "    20% {\n",
              "      border-color: transparent;\n",
              "      border-left-color: var(--fill-color);\n",
              "      border-top-color: var(--fill-color);\n",
              "    }\n",
              "    30% {\n",
              "      border-color: transparent;\n",
              "      border-left-color: var(--fill-color);\n",
              "      border-top-color: var(--fill-color);\n",
              "      border-right-color: var(--fill-color);\n",
              "    }\n",
              "    40% {\n",
              "      border-color: transparent;\n",
              "      border-right-color: var(--fill-color);\n",
              "      border-top-color: var(--fill-color);\n",
              "    }\n",
              "    60% {\n",
              "      border-color: transparent;\n",
              "      border-right-color: var(--fill-color);\n",
              "    }\n",
              "    80% {\n",
              "      border-color: transparent;\n",
              "      border-right-color: var(--fill-color);\n",
              "      border-bottom-color: var(--fill-color);\n",
              "    }\n",
              "    90% {\n",
              "      border-color: transparent;\n",
              "      border-bottom-color: var(--fill-color);\n",
              "    }\n",
              "  }\n",
              "</style>\n",
              "\n",
              "  <script>\n",
              "    async function quickchart(key) {\n",
              "      const quickchartButtonEl =\n",
              "        document.querySelector('#' + key + ' button');\n",
              "      quickchartButtonEl.disabled = true;  // To prevent multiple clicks.\n",
              "      quickchartButtonEl.classList.add('colab-df-spinner');\n",
              "      try {\n",
              "        const charts = await google.colab.kernel.invokeFunction(\n",
              "            'suggestCharts', [key], {});\n",
              "      } catch (error) {\n",
              "        console.error('Error during call to suggestCharts:', error);\n",
              "      }\n",
              "      quickchartButtonEl.classList.remove('colab-df-spinner');\n",
              "      quickchartButtonEl.classList.add('colab-df-quickchart-complete');\n",
              "    }\n",
              "    (() => {\n",
              "      let quickchartButtonEl =\n",
              "        document.querySelector('#df-26e3ef23-164c-42b2-a9ae-c8a8015605d4 button');\n",
              "      quickchartButtonEl.style.display =\n",
              "        google.colab.kernel.accessAllowed ? 'block' : 'none';\n",
              "    })();\n",
              "  </script>\n",
              "</div>\n",
              "    </div>\n",
              "  </div>\n"
            ],
            "application/vnd.google.colaboratory.intrinsic+json": {
              "type": "dataframe",
              "variable_name": "test_df",
              "summary": "{\n  \"name\": \"test_df\",\n  \"rows\": 540,\n  \"fields\": [\n    {\n      \"column\": \"Specific Bean Origin\",\n      \"properties\": {\n        \"dtype\": \"string\",\n        \"num_unique_values\": 385,\n        \"samples\": [\n          \"Dancing in Your Head, 5 bean blend\",\n          \"Porcelana, Tabasco, Marfil de Blanco\",\n          \"Anselmo Paraiso Estate\"\n        ],\n        \"semantic_type\": \"\",\n        \"description\": \"\"\n      }\n    },\n    {\n      \"column\": \"REF\",\n      \"properties\": {\n        \"dtype\": \"number\",\n        \"std\": 556,\n        \"min\": 5,\n        \"max\": 1952,\n        \"num_unique_values\": 338,\n        \"samples\": [\n          1129,\n          1201,\n          1626\n        ],\n        \"semantic_type\": \"\",\n        \"description\": \"\"\n      }\n    },\n    {\n      \"column\": \"Cocoa Percent\",\n      \"properties\": {\n        \"dtype\": \"number\",\n        \"std\": 0.061474033620647704,\n        \"min\": 0.42,\n        \"max\": 1.0,\n        \"num_unique_values\": 38,\n        \"samples\": [\n          0.91,\n          0.79,\n          0.82\n        ],\n        \"semantic_type\": \"\",\n        \"description\": \"\"\n      }\n    },\n    {\n      \"column\": \"Company Location\",\n      \"properties\": {\n        \"dtype\": \"category\",\n        \"num_unique_values\": 244,\n        \"samples\": [\n          \"Bar Au Chocolat_U.S.A.\",\n          \"Rozsavolgyi_Hungary\",\n          \"Amano_U.S.A.\"\n        ],\n        \"semantic_type\": \"\",\n        \"description\": \"\"\n      }\n    },\n    {\n      \"column\": \"Broad Bean Origin\",\n      \"properties\": {\n        \"dtype\": \"category\",\n        \"num_unique_values\": 59,\n        \"samples\": [\n          \"Trinidad\",\n          \"Colombia\",\n          \"Australia\"\n        ],\n        \"semantic_type\": \"\",\n        \"description\": \"\"\n      }\n    }\n  ]\n}"
            }
          },
          "metadata": {},
          "execution_count": 186
        }
      ],
      "source": [
        "test_df"
      ]
    },
    {
      "cell_type": "markdown",
      "metadata": {
        "id": "lGPOOORJ5LnB"
      },
      "source": [
        "Теперь обучать модели будем на всем тренировочном датасете."
      ]
    },
    {
      "cell_type": "code",
      "execution_count": null,
      "metadata": {
        "id": "HCuavuob5TYy"
      },
      "outputs": [],
      "source": [
        "X_train = train_df.drop(\"Rating\", axis = 1)\n",
        "y_train = train_df[\"Rating\"]"
      ]
    },
    {
      "cell_type": "code",
      "execution_count": null,
      "metadata": {
        "id": "FkeHjiGx5A23"
      },
      "outputs": [],
      "source": [
        "data_pipeline = Pipeline([\n",
        "        ('encoder_',LeaveOneOutEncoder(cols=[\"Company Location\", \"Specific Bean Origin\", \"Broad Bean Origin\"])),\n",
        "        ('features', PolynomialFeatures(degree = 3)),\n",
        "        ('scaler_', StandardScaler())\n",
        "])\n",
        "\n",
        "train_df_good = data_pipeline.fit_transform(X_train, y_train)\n",
        "test_df_good = data_pipeline.transform(test_df)"
      ]
    },
    {
      "cell_type": "markdown",
      "metadata": {
        "id": "MCiYQh2uxSe4"
      },
      "source": [
        "Сначала сделаем предсказания каждой моделью по отдельности и посмотрим на результаты метрики."
      ]
    },
    {
      "cell_type": "code",
      "execution_count": null,
      "metadata": {
        "id": "xYsGzMa-xq77"
      },
      "outputs": [],
      "source": [
        "CB_model = CatBoostRegressor(**{'max_depth': 6, 'n_estimators': 1000, 'l2_leaf_reg': 20, 'learning_rate': 0.019740703132738093,\n",
        "                                'random_strength': 2.210649111513943, 'bagging_temperature': 0.02730216355143037},early_stopping_rounds= 30, verbose = 0).fit(X_train, y_train, cat_features = [0,3,4])\n",
        "\n",
        "CB_pred = CB_model.predict(test_df)\n",
        "\n",
        "data = pd.DataFrame(np.arange(0, len(test_df)), columns = ['id'])\n",
        "data['Rating'] = CB_pred\n",
        "data.to_csv(\"submission.csv\", index=False)"
      ]
    },
    {
      "cell_type": "markdown",
      "metadata": {
        "id": "Aej_2NPpyZ8Z"
      },
      "source": [
        "R2 = 0.17555"
      ]
    },
    {
      "cell_type": "code",
      "execution_count": null,
      "metadata": {
        "id": "Fmsq0DuHyhve"
      },
      "outputs": [],
      "source": [
        "LGBM_model = LGBMRegressor(**{'n_estimators': 1100,'num_leaves': 10, 'max_depth': 8,'lambda_l1': 12.5, 'lambda_l2': 12.5,\n",
        "                              'min_data_in_leaf': 40, 'learning_rate': 0.015, 'extra_trees': True}, verbose = -1).fit(train_df_good, y_train)\n",
        "\n",
        "LGBM_pred = LGBM_model.predict(test_df_good)\n",
        "\n",
        "data = pd.DataFrame(np.arange(0, len(test_df)), columns = ['id'])\n",
        "data['Rating'] = LGBM_pred\n",
        "data.to_csv(\"submission.csv\", index=False)"
      ]
    },
    {
      "cell_type": "markdown",
      "metadata": {
        "id": "11lHAO5gzPjv"
      },
      "source": [
        "R2 = 0.15225"
      ]
    },
    {
      "cell_type": "code",
      "execution_count": null,
      "metadata": {
        "id": "JEOVUknfzkXx"
      },
      "outputs": [],
      "source": [
        "RF_model = RandomForestRegressor(**{'n_estimators': 1000, 'max_features': 0.6446291672999823, 'criterion': 'squared_error', 'max_depth': 30,\n",
        "                                    'min_samples_split': 20, 'min_samples_leaf': 20}).fit(train_df_good, y_train)\n",
        "\n",
        "RF_pred = RF_model.predict(test_df_good)\n",
        "\n",
        "data = pd.DataFrame(np.arange(0, len(test_df)), columns = ['id'])\n",
        "data['Rating'] = RF_pred\n",
        "data.to_csv(\"submission.csv\", index=False)"
      ]
    },
    {
      "cell_type": "markdown",
      "metadata": {
        "id": "gZhHweLo0Fgg"
      },
      "source": [
        "R2 = 0.14212"
      ]
    },
    {
      "cell_type": "markdown",
      "metadata": {
        "id": "NvZDgUdB5wS1"
      },
      "source": [
        "Наконец, сделаем предсказания c помощью ансамбля моделей."
      ]
    },
    {
      "cell_type": "code",
      "execution_count": null,
      "metadata": {
        "id": "Z2o6QvMi5psf"
      },
      "outputs": [],
      "source": [
        "pred_final = 0.7*CB_pred + 0.1*RF_pred + 0.2*LGBM_pred"
      ]
    },
    {
      "cell_type": "code",
      "execution_count": null,
      "metadata": {
        "id": "WFZNSqWr62xI"
      },
      "outputs": [],
      "source": [
        "data = pd.DataFrame(np.arange(0, len(test_df)), columns = ['id'])\n",
        "data['Rating'] = pred_final\n",
        "data.to_csv(\"submission.csv\", index=False)"
      ]
    },
    {
      "cell_type": "markdown",
      "source": [
        "Итоговое качество модели: R2 = 0.20025"
      ],
      "metadata": {
        "id": "r1vTCZydjnYq"
      }
    }
  ],
  "metadata": {
    "colab": {
      "provenance": []
    },
    "kernelspec": {
      "display_name": "Python 3 (ipykernel)",
      "language": "python",
      "name": "python3"
    },
    "language_info": {
      "codemirror_mode": {
        "name": "ipython",
        "version": 3
      },
      "file_extension": ".py",
      "mimetype": "text/x-python",
      "name": "python",
      "nbconvert_exporter": "python",
      "pygments_lexer": "ipython3",
      "version": "3.11.5"
    }
  },
  "nbformat": 4,
  "nbformat_minor": 0
}