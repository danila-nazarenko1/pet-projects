{
  "nbformat": 4,
  "nbformat_minor": 0,
  "metadata": {
    "colab": {
      "provenance": []
    },
    "kernelspec": {
      "name": "python3",
      "display_name": "Python 3"
    },
    "language_info": {
      "name": "python"
    }
  },
  "cells": [
    {
      "cell_type": "markdown",
      "source": [
        "#Определение проблемы"
      ],
      "metadata": {
        "id": "vgZjIcdd32ja"
      }
    },
    {
      "cell_type": "markdown",
      "source": [
        "Cookie Cats — это чрезвычайно популярная мобильная головоломка, разработанная компанией Tactile Entertainment. Это классическая головоломка в стиле \"соедините три\", где игрок должен соединять плитки одного цвета, чтобы очистить поле и пройти уровень.\n",
        "\n",
        "По мере прохождения уровней игры игроки время от времени сталкиваются с воротами, которые заставляют их ждать непродолжительное время или сделать покупку внутри приложения, чтобы продолжить игру.\n",
        "\n",
        "Но где должны быть размещены ворота? Изначально первые ворота были размещены на уровне 30. **Моей задачей будет провести A/B-тест, чтобы понять улучшатся ли метрики при перемещении ворот на 40 уровень.**\n",
        "\n",
        "В частности, я рассмотрю влияние на удержание игроков."
      ],
      "metadata": {
        "id": "o0QPKOuB5dza"
      }
    },
    {
      "cell_type": "markdown",
      "source": [
        "**Основные метрики:**\n",
        "\n",
        "Удержание игроков (player retention) и увеличение длины сессии(session increase)."
      ],
      "metadata": {
        "id": "hOxSAnVp6TwK"
      }
    },
    {
      "cell_type": "markdown",
      "source": [
        "**Вопросы:**\n",
        "\n",
        "\n",
        "1. Увеличилось ли среднее количество игровых сессий на 5 сессий?\n",
        "2. Увеличилось ли удержание игроков на 2% через 1 день?\n",
        "3. Увеличилось ли удержание игроков на 5% через 7 дней?"
      ],
      "metadata": {
        "id": "gNvHWFp9660Q"
      }
    },
    {
      "cell_type": "markdown",
      "source": [
        "#Описание данных"
      ],
      "metadata": {
        "id": "j3an1H_r7S_Y"
      }
    },
    {
      "cell_type": "markdown",
      "source": [
        "**Данные для анализа A/B-теста включают:**\n",
        "\n",
        "* userid: Уникальный идентификатор игрока.\n",
        "\n",
        "* version: Группа, в которую попал игрок (контрольная группа с воротами на уровне 30 или группа с перемещенными воротами на уровне 40).\n",
        "\n",
        "* sum_gamerounds: Количество сыгранных раундов игры в течение первых 14 дней после установки.\n",
        "\n",
        "* retention_1: Возвращался ли игрок через 1 день после установки?\n",
        "\n",
        "* retention_7: Возвращался ли игрок через 7 дней после установки?"
      ],
      "metadata": {
        "id": "94Vyyi5x7Vk0"
      }
    },
    {
      "cell_type": "markdown",
      "source": [
        "#Импорт библиотек и загрузка датасета"
      ],
      "metadata": {
        "id": "9Kx38Q8P7uqy"
      }
    },
    {
      "cell_type": "code",
      "execution_count": 25,
      "metadata": {
        "colab": {
          "base_uri": "https://localhost:8080/",
          "height": 414
        },
        "id": "o43peJGT3nPt",
        "outputId": "9ef7b342-15b6-4f04-d923-76021c6eb621"
      },
      "outputs": [
        {
          "output_type": "stream",
          "name": "stdout",
          "text": [
            "<class 'pandas.core.frame.DataFrame'>\n",
            "RangeIndex: 90189 entries, 0 to 90188\n",
            "Data columns (total 5 columns):\n",
            " #   Column          Non-Null Count  Dtype \n",
            "---  ------          --------------  ----- \n",
            " 0   userid          90189 non-null  int64 \n",
            " 1   version         90189 non-null  object\n",
            " 2   sum_gamerounds  90189 non-null  int64 \n",
            " 3   retention_1     90189 non-null  bool  \n",
            " 4   retention_7     90189 non-null  bool  \n",
            "dtypes: bool(2), int64(2), object(1)\n",
            "memory usage: 2.2+ MB\n"
          ]
        },
        {
          "output_type": "execute_result",
          "data": {
            "text/plain": [
              "   userid  version  sum_gamerounds  retention_1  retention_7\n",
              "0     116  gate_30               3        False        False\n",
              "1     337  gate_30              38         True        False\n",
              "2     377  gate_40             165         True        False\n",
              "3     483  gate_40               1        False        False\n",
              "4     488  gate_40             179         True         True"
            ],
            "text/html": [
              "\n",
              "  <div id=\"df-08344b92-25cf-47be-8282-2637acbca7fc\" class=\"colab-df-container\">\n",
              "    <div>\n",
              "<style scoped>\n",
              "    .dataframe tbody tr th:only-of-type {\n",
              "        vertical-align: middle;\n",
              "    }\n",
              "\n",
              "    .dataframe tbody tr th {\n",
              "        vertical-align: top;\n",
              "    }\n",
              "\n",
              "    .dataframe thead th {\n",
              "        text-align: right;\n",
              "    }\n",
              "</style>\n",
              "<table border=\"1\" class=\"dataframe\">\n",
              "  <thead>\n",
              "    <tr style=\"text-align: right;\">\n",
              "      <th></th>\n",
              "      <th>userid</th>\n",
              "      <th>version</th>\n",
              "      <th>sum_gamerounds</th>\n",
              "      <th>retention_1</th>\n",
              "      <th>retention_7</th>\n",
              "    </tr>\n",
              "  </thead>\n",
              "  <tbody>\n",
              "    <tr>\n",
              "      <th>0</th>\n",
              "      <td>116</td>\n",
              "      <td>gate_30</td>\n",
              "      <td>3</td>\n",
              "      <td>False</td>\n",
              "      <td>False</td>\n",
              "    </tr>\n",
              "    <tr>\n",
              "      <th>1</th>\n",
              "      <td>337</td>\n",
              "      <td>gate_30</td>\n",
              "      <td>38</td>\n",
              "      <td>True</td>\n",
              "      <td>False</td>\n",
              "    </tr>\n",
              "    <tr>\n",
              "      <th>2</th>\n",
              "      <td>377</td>\n",
              "      <td>gate_40</td>\n",
              "      <td>165</td>\n",
              "      <td>True</td>\n",
              "      <td>False</td>\n",
              "    </tr>\n",
              "    <tr>\n",
              "      <th>3</th>\n",
              "      <td>483</td>\n",
              "      <td>gate_40</td>\n",
              "      <td>1</td>\n",
              "      <td>False</td>\n",
              "      <td>False</td>\n",
              "    </tr>\n",
              "    <tr>\n",
              "      <th>4</th>\n",
              "      <td>488</td>\n",
              "      <td>gate_40</td>\n",
              "      <td>179</td>\n",
              "      <td>True</td>\n",
              "      <td>True</td>\n",
              "    </tr>\n",
              "  </tbody>\n",
              "</table>\n",
              "</div>\n",
              "    <div class=\"colab-df-buttons\">\n",
              "\n",
              "  <div class=\"colab-df-container\">\n",
              "    <button class=\"colab-df-convert\" onclick=\"convertToInteractive('df-08344b92-25cf-47be-8282-2637acbca7fc')\"\n",
              "            title=\"Convert this dataframe to an interactive table.\"\n",
              "            style=\"display:none;\">\n",
              "\n",
              "  <svg xmlns=\"http://www.w3.org/2000/svg\" height=\"24px\" viewBox=\"0 -960 960 960\">\n",
              "    <path d=\"M120-120v-720h720v720H120Zm60-500h600v-160H180v160Zm220 220h160v-160H400v160Zm0 220h160v-160H400v160ZM180-400h160v-160H180v160Zm440 0h160v-160H620v160ZM180-180h160v-160H180v160Zm440 0h160v-160H620v160Z\"/>\n",
              "  </svg>\n",
              "    </button>\n",
              "\n",
              "  <style>\n",
              "    .colab-df-container {\n",
              "      display:flex;\n",
              "      gap: 12px;\n",
              "    }\n",
              "\n",
              "    .colab-df-convert {\n",
              "      background-color: #E8F0FE;\n",
              "      border: none;\n",
              "      border-radius: 50%;\n",
              "      cursor: pointer;\n",
              "      display: none;\n",
              "      fill: #1967D2;\n",
              "      height: 32px;\n",
              "      padding: 0 0 0 0;\n",
              "      width: 32px;\n",
              "    }\n",
              "\n",
              "    .colab-df-convert:hover {\n",
              "      background-color: #E2EBFA;\n",
              "      box-shadow: 0px 1px 2px rgba(60, 64, 67, 0.3), 0px 1px 3px 1px rgba(60, 64, 67, 0.15);\n",
              "      fill: #174EA6;\n",
              "    }\n",
              "\n",
              "    .colab-df-buttons div {\n",
              "      margin-bottom: 4px;\n",
              "    }\n",
              "\n",
              "    [theme=dark] .colab-df-convert {\n",
              "      background-color: #3B4455;\n",
              "      fill: #D2E3FC;\n",
              "    }\n",
              "\n",
              "    [theme=dark] .colab-df-convert:hover {\n",
              "      background-color: #434B5C;\n",
              "      box-shadow: 0px 1px 3px 1px rgba(0, 0, 0, 0.15);\n",
              "      filter: drop-shadow(0px 1px 2px rgba(0, 0, 0, 0.3));\n",
              "      fill: #FFFFFF;\n",
              "    }\n",
              "  </style>\n",
              "\n",
              "    <script>\n",
              "      const buttonEl =\n",
              "        document.querySelector('#df-08344b92-25cf-47be-8282-2637acbca7fc button.colab-df-convert');\n",
              "      buttonEl.style.display =\n",
              "        google.colab.kernel.accessAllowed ? 'block' : 'none';\n",
              "\n",
              "      async function convertToInteractive(key) {\n",
              "        const element = document.querySelector('#df-08344b92-25cf-47be-8282-2637acbca7fc');\n",
              "        const dataTable =\n",
              "          await google.colab.kernel.invokeFunction('convertToInteractive',\n",
              "                                                    [key], {});\n",
              "        if (!dataTable) return;\n",
              "\n",
              "        const docLinkHtml = 'Like what you see? Visit the ' +\n",
              "          '<a target=\"_blank\" href=https://colab.research.google.com/notebooks/data_table.ipynb>data table notebook</a>'\n",
              "          + ' to learn more about interactive tables.';\n",
              "        element.innerHTML = '';\n",
              "        dataTable['output_type'] = 'display_data';\n",
              "        await google.colab.output.renderOutput(dataTable, element);\n",
              "        const docLink = document.createElement('div');\n",
              "        docLink.innerHTML = docLinkHtml;\n",
              "        element.appendChild(docLink);\n",
              "      }\n",
              "    </script>\n",
              "  </div>\n",
              "\n",
              "\n",
              "<div id=\"df-a6ea7004-b2db-4a57-bea1-cd0c4fdb4fdd\">\n",
              "  <button class=\"colab-df-quickchart\" onclick=\"quickchart('df-a6ea7004-b2db-4a57-bea1-cd0c4fdb4fdd')\"\n",
              "            title=\"Suggest charts\"\n",
              "            style=\"display:none;\">\n",
              "\n",
              "<svg xmlns=\"http://www.w3.org/2000/svg\" height=\"24px\"viewBox=\"0 0 24 24\"\n",
              "     width=\"24px\">\n",
              "    <g>\n",
              "        <path d=\"M19 3H5c-1.1 0-2 .9-2 2v14c0 1.1.9 2 2 2h14c1.1 0 2-.9 2-2V5c0-1.1-.9-2-2-2zM9 17H7v-7h2v7zm4 0h-2V7h2v10zm4 0h-2v-4h2v4z\"/>\n",
              "    </g>\n",
              "</svg>\n",
              "  </button>\n",
              "\n",
              "<style>\n",
              "  .colab-df-quickchart {\n",
              "      --bg-color: #E8F0FE;\n",
              "      --fill-color: #1967D2;\n",
              "      --hover-bg-color: #E2EBFA;\n",
              "      --hover-fill-color: #174EA6;\n",
              "      --disabled-fill-color: #AAA;\n",
              "      --disabled-bg-color: #DDD;\n",
              "  }\n",
              "\n",
              "  [theme=dark] .colab-df-quickchart {\n",
              "      --bg-color: #3B4455;\n",
              "      --fill-color: #D2E3FC;\n",
              "      --hover-bg-color: #434B5C;\n",
              "      --hover-fill-color: #FFFFFF;\n",
              "      --disabled-bg-color: #3B4455;\n",
              "      --disabled-fill-color: #666;\n",
              "  }\n",
              "\n",
              "  .colab-df-quickchart {\n",
              "    background-color: var(--bg-color);\n",
              "    border: none;\n",
              "    border-radius: 50%;\n",
              "    cursor: pointer;\n",
              "    display: none;\n",
              "    fill: var(--fill-color);\n",
              "    height: 32px;\n",
              "    padding: 0;\n",
              "    width: 32px;\n",
              "  }\n",
              "\n",
              "  .colab-df-quickchart:hover {\n",
              "    background-color: var(--hover-bg-color);\n",
              "    box-shadow: 0 1px 2px rgba(60, 64, 67, 0.3), 0 1px 3px 1px rgba(60, 64, 67, 0.15);\n",
              "    fill: var(--button-hover-fill-color);\n",
              "  }\n",
              "\n",
              "  .colab-df-quickchart-complete:disabled,\n",
              "  .colab-df-quickchart-complete:disabled:hover {\n",
              "    background-color: var(--disabled-bg-color);\n",
              "    fill: var(--disabled-fill-color);\n",
              "    box-shadow: none;\n",
              "  }\n",
              "\n",
              "  .colab-df-spinner {\n",
              "    border: 2px solid var(--fill-color);\n",
              "    border-color: transparent;\n",
              "    border-bottom-color: var(--fill-color);\n",
              "    animation:\n",
              "      spin 1s steps(1) infinite;\n",
              "  }\n",
              "\n",
              "  @keyframes spin {\n",
              "    0% {\n",
              "      border-color: transparent;\n",
              "      border-bottom-color: var(--fill-color);\n",
              "      border-left-color: var(--fill-color);\n",
              "    }\n",
              "    20% {\n",
              "      border-color: transparent;\n",
              "      border-left-color: var(--fill-color);\n",
              "      border-top-color: var(--fill-color);\n",
              "    }\n",
              "    30% {\n",
              "      border-color: transparent;\n",
              "      border-left-color: var(--fill-color);\n",
              "      border-top-color: var(--fill-color);\n",
              "      border-right-color: var(--fill-color);\n",
              "    }\n",
              "    40% {\n",
              "      border-color: transparent;\n",
              "      border-right-color: var(--fill-color);\n",
              "      border-top-color: var(--fill-color);\n",
              "    }\n",
              "    60% {\n",
              "      border-color: transparent;\n",
              "      border-right-color: var(--fill-color);\n",
              "    }\n",
              "    80% {\n",
              "      border-color: transparent;\n",
              "      border-right-color: var(--fill-color);\n",
              "      border-bottom-color: var(--fill-color);\n",
              "    }\n",
              "    90% {\n",
              "      border-color: transparent;\n",
              "      border-bottom-color: var(--fill-color);\n",
              "    }\n",
              "  }\n",
              "</style>\n",
              "\n",
              "  <script>\n",
              "    async function quickchart(key) {\n",
              "      const quickchartButtonEl =\n",
              "        document.querySelector('#' + key + ' button');\n",
              "      quickchartButtonEl.disabled = true;  // To prevent multiple clicks.\n",
              "      quickchartButtonEl.classList.add('colab-df-spinner');\n",
              "      try {\n",
              "        const charts = await google.colab.kernel.invokeFunction(\n",
              "            'suggestCharts', [key], {});\n",
              "      } catch (error) {\n",
              "        console.error('Error during call to suggestCharts:', error);\n",
              "      }\n",
              "      quickchartButtonEl.classList.remove('colab-df-spinner');\n",
              "      quickchartButtonEl.classList.add('colab-df-quickchart-complete');\n",
              "    }\n",
              "    (() => {\n",
              "      let quickchartButtonEl =\n",
              "        document.querySelector('#df-a6ea7004-b2db-4a57-bea1-cd0c4fdb4fdd button');\n",
              "      quickchartButtonEl.style.display =\n",
              "        google.colab.kernel.accessAllowed ? 'block' : 'none';\n",
              "    })();\n",
              "  </script>\n",
              "</div>\n",
              "\n",
              "    </div>\n",
              "  </div>\n"
            ],
            "application/vnd.google.colaboratory.intrinsic+json": {
              "type": "dataframe",
              "variable_name": "df",
              "summary": "{\n  \"name\": \"df\",\n  \"rows\": 90189,\n  \"fields\": [\n    {\n      \"column\": \"userid\",\n      \"properties\": {\n        \"dtype\": \"number\",\n        \"std\": 2883285,\n        \"min\": 116,\n        \"max\": 9999861,\n        \"num_unique_values\": 90189,\n        \"samples\": [\n          3266525,\n          3937667,\n          2861986\n        ],\n        \"semantic_type\": \"\",\n        \"description\": \"\"\n      }\n    },\n    {\n      \"column\": \"version\",\n      \"properties\": {\n        \"dtype\": \"category\",\n        \"num_unique_values\": 2,\n        \"samples\": [\n          \"gate_40\",\n          \"gate_30\"\n        ],\n        \"semantic_type\": \"\",\n        \"description\": \"\"\n      }\n    },\n    {\n      \"column\": \"sum_gamerounds\",\n      \"properties\": {\n        \"dtype\": \"number\",\n        \"std\": 195,\n        \"min\": 0,\n        \"max\": 49854,\n        \"num_unique_values\": 942,\n        \"samples\": [\n          346,\n          523\n        ],\n        \"semantic_type\": \"\",\n        \"description\": \"\"\n      }\n    },\n    {\n      \"column\": \"retention_1\",\n      \"properties\": {\n        \"dtype\": \"boolean\",\n        \"num_unique_values\": 2,\n        \"samples\": [\n          true,\n          false\n        ],\n        \"semantic_type\": \"\",\n        \"description\": \"\"\n      }\n    },\n    {\n      \"column\": \"retention_7\",\n      \"properties\": {\n        \"dtype\": \"boolean\",\n        \"num_unique_values\": 2,\n        \"samples\": [\n          true,\n          false\n        ],\n        \"semantic_type\": \"\",\n        \"description\": \"\"\n      }\n    }\n  ]\n}"
            }
          },
          "metadata": {},
          "execution_count": 25
        }
      ],
      "source": [
        "import pandas as pd\n",
        "import numpy as np\n",
        "import matplotlib.pyplot as plt\n",
        "import seaborn as sns\n",
        "from scipy.stats import norm\n",
        "import scipy.stats as stats\n",
        "import statsmodels.stats.api as sms\n",
        "import statsmodels.api as sm\n",
        "df = pd.read_csv('cookie_cats.txt')\n",
        "\n",
        "df.info()\n",
        "df.head()"
      ]
    },
    {
      "cell_type": "markdown",
      "source": [
        "#Вопрос 1"
      ],
      "metadata": {
        "id": "qrXCY3Vr9O8v"
      }
    },
    {
      "cell_type": "markdown",
      "source": [
        "##Обзор данных"
      ],
      "metadata": {
        "id": "2_bZ-JKh9USJ"
      }
    },
    {
      "cell_type": "code",
      "source": [
        "import scipy.stats as stats\n",
        "\n",
        "# Разделение данных на контрольную и тестовую группы по 'version'\n",
        "df_control = df[df['version'] == 'gate_30']\n",
        "df_test = df[df['version'] == 'gate_40']\n",
        "\n",
        "continuous_var = ['sum_gamerounds']\n",
        "\n",
        "def calculate_statistics(df, continuous_var, group_name, confidence_level=0.95):\n",
        "    # Рассчёт основных статистик\n",
        "    concatenated_series = pd.concat([\n",
        "        df[continuous_var].describe().T,\n",
        "        df[continuous_var].skew().rename('Ассиметрия'),\n",
        "        df[continuous_var].kurtosis().rename('Эксцесс')\n",
        "    ], axis=1)\n",
        "\n",
        "    # Расчет доверительных интервалов для среднего значения\n",
        "    for var in continuous_var:\n",
        "        values = df[var].dropna()\n",
        "        mean = values.mean()\n",
        "        std_error = stats.sem(values)\n",
        "        if std_error != 0:\n",
        "            lower, upper = stats.t.interval(confidence_level, len(values) - 1, loc=mean, scale=std_error)\n",
        "        else:\n",
        "            lower, upper = mean, mean\n",
        "\n",
        "        concatenated_series.loc[var, f\"Нижняя граница {confidence_level}%\"] = lower\n",
        "        concatenated_series.loc[var, f\"Верхняя граница {confidence_level}%\"] = upper\n",
        "\n",
        "    concatenated_series['Группа'] = group_name\n",
        "\n",
        "    return concatenated_series\n",
        "\n",
        "# Рассчёт статистики для контрольной группы\n",
        "control_stats = calculate_statistics(df_control, continuous_var, 'control')\n",
        "\n",
        "# Рассчёт статистики для тестовой группы\n",
        "test_stats = calculate_statistics(df_test, continuous_var, 'test')\n",
        "\n",
        "# Объединение статистики для обеих групп\n",
        "combined_stats = pd.concat([control_stats, test_stats])\n",
        "\n",
        "# Сброс индекса для удобства отображения\n",
        "combined_stats.reset_index(inplace=True)\n",
        "\n",
        "combined_stats"
      ],
      "metadata": {
        "colab": {
          "base_uri": "https://localhost:8080/",
          "height": 129
        },
        "id": "3xsHaDp07-Nx",
        "outputId": "7a62a769-1afb-4082-9b98-5030063acb89"
      },
      "execution_count": 4,
      "outputs": [
        {
          "output_type": "execute_result",
          "data": {
            "text/plain": [
              "            index    count       mean         std  min  25%   50%   75%  \\\n",
              "0  sum_gamerounds  44700.0  52.456264  256.716423  0.0  5.0  17.0  50.0   \n",
              "1  sum_gamerounds  45489.0  51.298776  103.294416  0.0  5.0  16.0  52.0   \n",
              "\n",
              "       max  Ассиметрия       Эксцесс  Нижняя граница 0.95%  \\\n",
              "0  49854.0  163.709871  31688.380643             50.076358   \n",
              "1   2640.0    5.967288     63.106084             50.349520   \n",
              "\n",
              "   Верхняя граница 0.95%   Группа  \n",
              "0              54.836170  control  \n",
              "1              52.248031     test  "
            ],
            "text/html": [
              "\n",
              "  <div id=\"df-ed558fca-d450-499e-94e5-65dab17ee7aa\" class=\"colab-df-container\">\n",
              "    <div>\n",
              "<style scoped>\n",
              "    .dataframe tbody tr th:only-of-type {\n",
              "        vertical-align: middle;\n",
              "    }\n",
              "\n",
              "    .dataframe tbody tr th {\n",
              "        vertical-align: top;\n",
              "    }\n",
              "\n",
              "    .dataframe thead th {\n",
              "        text-align: right;\n",
              "    }\n",
              "</style>\n",
              "<table border=\"1\" class=\"dataframe\">\n",
              "  <thead>\n",
              "    <tr style=\"text-align: right;\">\n",
              "      <th></th>\n",
              "      <th>index</th>\n",
              "      <th>count</th>\n",
              "      <th>mean</th>\n",
              "      <th>std</th>\n",
              "      <th>min</th>\n",
              "      <th>25%</th>\n",
              "      <th>50%</th>\n",
              "      <th>75%</th>\n",
              "      <th>max</th>\n",
              "      <th>Ассиметрия</th>\n",
              "      <th>Эксцесс</th>\n",
              "      <th>Нижняя граница 0.95%</th>\n",
              "      <th>Верхняя граница 0.95%</th>\n",
              "      <th>Группа</th>\n",
              "    </tr>\n",
              "  </thead>\n",
              "  <tbody>\n",
              "    <tr>\n",
              "      <th>0</th>\n",
              "      <td>sum_gamerounds</td>\n",
              "      <td>44700.0</td>\n",
              "      <td>52.456264</td>\n",
              "      <td>256.716423</td>\n",
              "      <td>0.0</td>\n",
              "      <td>5.0</td>\n",
              "      <td>17.0</td>\n",
              "      <td>50.0</td>\n",
              "      <td>49854.0</td>\n",
              "      <td>163.709871</td>\n",
              "      <td>31688.380643</td>\n",
              "      <td>50.076358</td>\n",
              "      <td>54.836170</td>\n",
              "      <td>control</td>\n",
              "    </tr>\n",
              "    <tr>\n",
              "      <th>1</th>\n",
              "      <td>sum_gamerounds</td>\n",
              "      <td>45489.0</td>\n",
              "      <td>51.298776</td>\n",
              "      <td>103.294416</td>\n",
              "      <td>0.0</td>\n",
              "      <td>5.0</td>\n",
              "      <td>16.0</td>\n",
              "      <td>52.0</td>\n",
              "      <td>2640.0</td>\n",
              "      <td>5.967288</td>\n",
              "      <td>63.106084</td>\n",
              "      <td>50.349520</td>\n",
              "      <td>52.248031</td>\n",
              "      <td>test</td>\n",
              "    </tr>\n",
              "  </tbody>\n",
              "</table>\n",
              "</div>\n",
              "    <div class=\"colab-df-buttons\">\n",
              "\n",
              "  <div class=\"colab-df-container\">\n",
              "    <button class=\"colab-df-convert\" onclick=\"convertToInteractive('df-ed558fca-d450-499e-94e5-65dab17ee7aa')\"\n",
              "            title=\"Convert this dataframe to an interactive table.\"\n",
              "            style=\"display:none;\">\n",
              "\n",
              "  <svg xmlns=\"http://www.w3.org/2000/svg\" height=\"24px\" viewBox=\"0 -960 960 960\">\n",
              "    <path d=\"M120-120v-720h720v720H120Zm60-500h600v-160H180v160Zm220 220h160v-160H400v160Zm0 220h160v-160H400v160ZM180-400h160v-160H180v160Zm440 0h160v-160H620v160ZM180-180h160v-160H180v160Zm440 0h160v-160H620v160Z\"/>\n",
              "  </svg>\n",
              "    </button>\n",
              "\n",
              "  <style>\n",
              "    .colab-df-container {\n",
              "      display:flex;\n",
              "      gap: 12px;\n",
              "    }\n",
              "\n",
              "    .colab-df-convert {\n",
              "      background-color: #E8F0FE;\n",
              "      border: none;\n",
              "      border-radius: 50%;\n",
              "      cursor: pointer;\n",
              "      display: none;\n",
              "      fill: #1967D2;\n",
              "      height: 32px;\n",
              "      padding: 0 0 0 0;\n",
              "      width: 32px;\n",
              "    }\n",
              "\n",
              "    .colab-df-convert:hover {\n",
              "      background-color: #E2EBFA;\n",
              "      box-shadow: 0px 1px 2px rgba(60, 64, 67, 0.3), 0px 1px 3px 1px rgba(60, 64, 67, 0.15);\n",
              "      fill: #174EA6;\n",
              "    }\n",
              "\n",
              "    .colab-df-buttons div {\n",
              "      margin-bottom: 4px;\n",
              "    }\n",
              "\n",
              "    [theme=dark] .colab-df-convert {\n",
              "      background-color: #3B4455;\n",
              "      fill: #D2E3FC;\n",
              "    }\n",
              "\n",
              "    [theme=dark] .colab-df-convert:hover {\n",
              "      background-color: #434B5C;\n",
              "      box-shadow: 0px 1px 3px 1px rgba(0, 0, 0, 0.15);\n",
              "      filter: drop-shadow(0px 1px 2px rgba(0, 0, 0, 0.3));\n",
              "      fill: #FFFFFF;\n",
              "    }\n",
              "  </style>\n",
              "\n",
              "    <script>\n",
              "      const buttonEl =\n",
              "        document.querySelector('#df-ed558fca-d450-499e-94e5-65dab17ee7aa button.colab-df-convert');\n",
              "      buttonEl.style.display =\n",
              "        google.colab.kernel.accessAllowed ? 'block' : 'none';\n",
              "\n",
              "      async function convertToInteractive(key) {\n",
              "        const element = document.querySelector('#df-ed558fca-d450-499e-94e5-65dab17ee7aa');\n",
              "        const dataTable =\n",
              "          await google.colab.kernel.invokeFunction('convertToInteractive',\n",
              "                                                    [key], {});\n",
              "        if (!dataTable) return;\n",
              "\n",
              "        const docLinkHtml = 'Like what you see? Visit the ' +\n",
              "          '<a target=\"_blank\" href=https://colab.research.google.com/notebooks/data_table.ipynb>data table notebook</a>'\n",
              "          + ' to learn more about interactive tables.';\n",
              "        element.innerHTML = '';\n",
              "        dataTable['output_type'] = 'display_data';\n",
              "        await google.colab.output.renderOutput(dataTable, element);\n",
              "        const docLink = document.createElement('div');\n",
              "        docLink.innerHTML = docLinkHtml;\n",
              "        element.appendChild(docLink);\n",
              "      }\n",
              "    </script>\n",
              "  </div>\n",
              "\n",
              "\n",
              "<div id=\"df-95b03190-2e33-46b3-99a8-15f9fd98cf2f\">\n",
              "  <button class=\"colab-df-quickchart\" onclick=\"quickchart('df-95b03190-2e33-46b3-99a8-15f9fd98cf2f')\"\n",
              "            title=\"Suggest charts\"\n",
              "            style=\"display:none;\">\n",
              "\n",
              "<svg xmlns=\"http://www.w3.org/2000/svg\" height=\"24px\"viewBox=\"0 0 24 24\"\n",
              "     width=\"24px\">\n",
              "    <g>\n",
              "        <path d=\"M19 3H5c-1.1 0-2 .9-2 2v14c0 1.1.9 2 2 2h14c1.1 0 2-.9 2-2V5c0-1.1-.9-2-2-2zM9 17H7v-7h2v7zm4 0h-2V7h2v10zm4 0h-2v-4h2v4z\"/>\n",
              "    </g>\n",
              "</svg>\n",
              "  </button>\n",
              "\n",
              "<style>\n",
              "  .colab-df-quickchart {\n",
              "      --bg-color: #E8F0FE;\n",
              "      --fill-color: #1967D2;\n",
              "      --hover-bg-color: #E2EBFA;\n",
              "      --hover-fill-color: #174EA6;\n",
              "      --disabled-fill-color: #AAA;\n",
              "      --disabled-bg-color: #DDD;\n",
              "  }\n",
              "\n",
              "  [theme=dark] .colab-df-quickchart {\n",
              "      --bg-color: #3B4455;\n",
              "      --fill-color: #D2E3FC;\n",
              "      --hover-bg-color: #434B5C;\n",
              "      --hover-fill-color: #FFFFFF;\n",
              "      --disabled-bg-color: #3B4455;\n",
              "      --disabled-fill-color: #666;\n",
              "  }\n",
              "\n",
              "  .colab-df-quickchart {\n",
              "    background-color: var(--bg-color);\n",
              "    border: none;\n",
              "    border-radius: 50%;\n",
              "    cursor: pointer;\n",
              "    display: none;\n",
              "    fill: var(--fill-color);\n",
              "    height: 32px;\n",
              "    padding: 0;\n",
              "    width: 32px;\n",
              "  }\n",
              "\n",
              "  .colab-df-quickchart:hover {\n",
              "    background-color: var(--hover-bg-color);\n",
              "    box-shadow: 0 1px 2px rgba(60, 64, 67, 0.3), 0 1px 3px 1px rgba(60, 64, 67, 0.15);\n",
              "    fill: var(--button-hover-fill-color);\n",
              "  }\n",
              "\n",
              "  .colab-df-quickchart-complete:disabled,\n",
              "  .colab-df-quickchart-complete:disabled:hover {\n",
              "    background-color: var(--disabled-bg-color);\n",
              "    fill: var(--disabled-fill-color);\n",
              "    box-shadow: none;\n",
              "  }\n",
              "\n",
              "  .colab-df-spinner {\n",
              "    border: 2px solid var(--fill-color);\n",
              "    border-color: transparent;\n",
              "    border-bottom-color: var(--fill-color);\n",
              "    animation:\n",
              "      spin 1s steps(1) infinite;\n",
              "  }\n",
              "\n",
              "  @keyframes spin {\n",
              "    0% {\n",
              "      border-color: transparent;\n",
              "      border-bottom-color: var(--fill-color);\n",
              "      border-left-color: var(--fill-color);\n",
              "    }\n",
              "    20% {\n",
              "      border-color: transparent;\n",
              "      border-left-color: var(--fill-color);\n",
              "      border-top-color: var(--fill-color);\n",
              "    }\n",
              "    30% {\n",
              "      border-color: transparent;\n",
              "      border-left-color: var(--fill-color);\n",
              "      border-top-color: var(--fill-color);\n",
              "      border-right-color: var(--fill-color);\n",
              "    }\n",
              "    40% {\n",
              "      border-color: transparent;\n",
              "      border-right-color: var(--fill-color);\n",
              "      border-top-color: var(--fill-color);\n",
              "    }\n",
              "    60% {\n",
              "      border-color: transparent;\n",
              "      border-right-color: var(--fill-color);\n",
              "    }\n",
              "    80% {\n",
              "      border-color: transparent;\n",
              "      border-right-color: var(--fill-color);\n",
              "      border-bottom-color: var(--fill-color);\n",
              "    }\n",
              "    90% {\n",
              "      border-color: transparent;\n",
              "      border-bottom-color: var(--fill-color);\n",
              "    }\n",
              "  }\n",
              "</style>\n",
              "\n",
              "  <script>\n",
              "    async function quickchart(key) {\n",
              "      const quickchartButtonEl =\n",
              "        document.querySelector('#' + key + ' button');\n",
              "      quickchartButtonEl.disabled = true;  // To prevent multiple clicks.\n",
              "      quickchartButtonEl.classList.add('colab-df-spinner');\n",
              "      try {\n",
              "        const charts = await google.colab.kernel.invokeFunction(\n",
              "            'suggestCharts', [key], {});\n",
              "      } catch (error) {\n",
              "        console.error('Error during call to suggestCharts:', error);\n",
              "      }\n",
              "      quickchartButtonEl.classList.remove('colab-df-spinner');\n",
              "      quickchartButtonEl.classList.add('colab-df-quickchart-complete');\n",
              "    }\n",
              "    (() => {\n",
              "      let quickchartButtonEl =\n",
              "        document.querySelector('#df-95b03190-2e33-46b3-99a8-15f9fd98cf2f button');\n",
              "      quickchartButtonEl.style.display =\n",
              "        google.colab.kernel.accessAllowed ? 'block' : 'none';\n",
              "    })();\n",
              "  </script>\n",
              "</div>\n",
              "\n",
              "  <div id=\"id_2170ade6-7492-42b3-b363-548d4b110746\">\n",
              "    <style>\n",
              "      .colab-df-generate {\n",
              "        background-color: #E8F0FE;\n",
              "        border: none;\n",
              "        border-radius: 50%;\n",
              "        cursor: pointer;\n",
              "        display: none;\n",
              "        fill: #1967D2;\n",
              "        height: 32px;\n",
              "        padding: 0 0 0 0;\n",
              "        width: 32px;\n",
              "      }\n",
              "\n",
              "      .colab-df-generate:hover {\n",
              "        background-color: #E2EBFA;\n",
              "        box-shadow: 0px 1px 2px rgba(60, 64, 67, 0.3), 0px 1px 3px 1px rgba(60, 64, 67, 0.15);\n",
              "        fill: #174EA6;\n",
              "      }\n",
              "\n",
              "      [theme=dark] .colab-df-generate {\n",
              "        background-color: #3B4455;\n",
              "        fill: #D2E3FC;\n",
              "      }\n",
              "\n",
              "      [theme=dark] .colab-df-generate:hover {\n",
              "        background-color: #434B5C;\n",
              "        box-shadow: 0px 1px 3px 1px rgba(0, 0, 0, 0.15);\n",
              "        filter: drop-shadow(0px 1px 2px rgba(0, 0, 0, 0.3));\n",
              "        fill: #FFFFFF;\n",
              "      }\n",
              "    </style>\n",
              "    <button class=\"colab-df-generate\" onclick=\"generateWithVariable('combined_stats')\"\n",
              "            title=\"Generate code using this dataframe.\"\n",
              "            style=\"display:none;\">\n",
              "\n",
              "  <svg xmlns=\"http://www.w3.org/2000/svg\" height=\"24px\"viewBox=\"0 0 24 24\"\n",
              "       width=\"24px\">\n",
              "    <path d=\"M7,19H8.4L18.45,9,17,7.55,7,17.6ZM5,21V16.75L18.45,3.32a2,2,0,0,1,2.83,0l1.4,1.43a1.91,1.91,0,0,1,.58,1.4,1.91,1.91,0,0,1-.58,1.4L9.25,21ZM18.45,9,17,7.55Zm-12,3A5.31,5.31,0,0,0,4.9,8.1,5.31,5.31,0,0,0,1,6.5,5.31,5.31,0,0,0,4.9,4.9,5.31,5.31,0,0,0,6.5,1,5.31,5.31,0,0,0,8.1,4.9,5.31,5.31,0,0,0,12,6.5,5.46,5.46,0,0,0,6.5,12Z\"/>\n",
              "  </svg>\n",
              "    </button>\n",
              "    <script>\n",
              "      (() => {\n",
              "      const buttonEl =\n",
              "        document.querySelector('#id_2170ade6-7492-42b3-b363-548d4b110746 button.colab-df-generate');\n",
              "      buttonEl.style.display =\n",
              "        google.colab.kernel.accessAllowed ? 'block' : 'none';\n",
              "\n",
              "      buttonEl.onclick = () => {\n",
              "        google.colab.notebook.generateWithVariable('combined_stats');\n",
              "      }\n",
              "      })();\n",
              "    </script>\n",
              "  </div>\n",
              "\n",
              "    </div>\n",
              "  </div>\n"
            ],
            "application/vnd.google.colaboratory.intrinsic+json": {
              "type": "dataframe",
              "variable_name": "combined_stats",
              "summary": "{\n  \"name\": \"combined_stats\",\n  \"rows\": 2,\n  \"fields\": [\n    {\n      \"column\": \"index\",\n      \"properties\": {\n        \"dtype\": \"string\",\n        \"num_unique_values\": 1,\n        \"samples\": [\n          \"sum_gamerounds\"\n        ],\n        \"semantic_type\": \"\",\n        \"description\": \"\"\n      }\n    },\n    {\n      \"column\": \"count\",\n      \"properties\": {\n        \"dtype\": \"number\",\n        \"std\": 557.907250356186,\n        \"min\": 44700.0,\n        \"max\": 45489.0,\n        \"num_unique_values\": 2,\n        \"samples\": [\n          45489.0\n        ],\n        \"semantic_type\": \"\",\n        \"description\": \"\"\n      }\n    },\n    {\n      \"column\": \"mean\",\n      \"properties\": {\n        \"dtype\": \"number\",\n        \"std\": 0.8184679349354752,\n        \"min\": 51.29877552814966,\n        \"max\": 52.45626398210291,\n        \"num_unique_values\": 2,\n        \"samples\": [\n          51.29877552814966\n        ],\n        \"semantic_type\": \"\",\n        \"description\": \"\"\n      }\n    },\n    {\n      \"column\": \"std\",\n      \"properties\": {\n        \"dtype\": \"number\",\n        \"std\": 108.48574146189479,\n        \"min\": 103.29441621652788,\n        \"max\": 256.7164231160407,\n        \"num_unique_values\": 2,\n        \"samples\": [\n          103.29441621652788\n        ],\n        \"semantic_type\": \"\",\n        \"description\": \"\"\n      }\n    },\n    {\n      \"column\": \"min\",\n      \"properties\": {\n        \"dtype\": \"number\",\n        \"std\": 0.0,\n        \"min\": 0.0,\n        \"max\": 0.0,\n        \"num_unique_values\": 1,\n        \"samples\": [\n          0.0\n        ],\n        \"semantic_type\": \"\",\n        \"description\": \"\"\n      }\n    },\n    {\n      \"column\": \"25%\",\n      \"properties\": {\n        \"dtype\": \"number\",\n        \"std\": 0.0,\n        \"min\": 5.0,\n        \"max\": 5.0,\n        \"num_unique_values\": 1,\n        \"samples\": [\n          5.0\n        ],\n        \"semantic_type\": \"\",\n        \"description\": \"\"\n      }\n    },\n    {\n      \"column\": \"50%\",\n      \"properties\": {\n        \"dtype\": \"number\",\n        \"std\": 0.7071067811865476,\n        \"min\": 16.0,\n        \"max\": 17.0,\n        \"num_unique_values\": 2,\n        \"samples\": [\n          16.0\n        ],\n        \"semantic_type\": \"\",\n        \"description\": \"\"\n      }\n    },\n    {\n      \"column\": \"75%\",\n      \"properties\": {\n        \"dtype\": \"number\",\n        \"std\": 1.4142135623730951,\n        \"min\": 50.0,\n        \"max\": 52.0,\n        \"num_unique_values\": 2,\n        \"samples\": [\n          52.0\n        ],\n        \"semantic_type\": \"\",\n        \"description\": \"\"\n      }\n    },\n    {\n      \"column\": \"max\",\n      \"properties\": {\n        \"dtype\": \"number\",\n        \"std\": 33385.33956694166,\n        \"min\": 2640.0,\n        \"max\": 49854.0,\n        \"num_unique_values\": 2,\n        \"samples\": [\n          2640.0\n        ],\n        \"semantic_type\": \"\",\n        \"description\": \"\"\n      }\n    },\n    {\n      \"column\": \"\\u0410\\u0441\\u0441\\u0438\\u043c\\u0435\\u0442\\u0440\\u0438\\u044f\",\n      \"properties\": {\n        \"dtype\": \"number\",\n        \"std\": 111.54084992870601,\n        \"min\": 5.967287898713902,\n        \"max\": 163.70987062651201,\n        \"num_unique_values\": 2,\n        \"samples\": [\n          5.967287898713902\n        ],\n        \"semantic_type\": \"\",\n        \"description\": \"\"\n      }\n    },\n    {\n      \"column\": \"\\u042d\\u043a\\u0441\\u0446\\u0435\\u0441\\u0441\",\n      \"properties\": {\n        \"dtype\": \"number\",\n        \"std\": 22362.44609810978,\n        \"min\": 63.10608364449687,\n        \"max\": 31688.38064342865,\n        \"num_unique_values\": 2,\n        \"samples\": [\n          63.10608364449687\n        ],\n        \"semantic_type\": \"\",\n        \"description\": \"\"\n      }\n    },\n    {\n      \"column\": \"\\u041d\\u0438\\u0436\\u043d\\u044f\\u044f \\u0433\\u0440\\u0430\\u043d\\u0438\\u0446\\u0430 0.95%\",\n      \"properties\": {\n        \"dtype\": \"number\",\n        \"std\": 0.19315422575084248,\n        \"min\": 50.07635831864229,\n        \"max\": 50.34951964432881,\n        \"num_unique_values\": 2,\n        \"samples\": [\n          50.34951964432881\n        ],\n        \"semantic_type\": \"\",\n        \"description\": \"\"\n      }\n    },\n    {\n      \"column\": \"\\u0412\\u0435\\u0440\\u0445\\u043d\\u044f\\u044f \\u0433\\u0440\\u0430\\u043d\\u0438\\u0446\\u0430 0.95%\",\n      \"properties\": {\n        \"dtype\": \"number\",\n        \"std\": 1.8300900956217931,\n        \"min\": 52.248031411970516,\n        \"max\": 54.83616964556353,\n        \"num_unique_values\": 2,\n        \"samples\": [\n          52.248031411970516\n        ],\n        \"semantic_type\": \"\",\n        \"description\": \"\"\n      }\n    },\n    {\n      \"column\": \"\\u0413\\u0440\\u0443\\u043f\\u043f\\u0430\",\n      \"properties\": {\n        \"dtype\": \"string\",\n        \"num_unique_values\": 2,\n        \"samples\": [\n          \"test\"\n        ],\n        \"semantic_type\": \"\",\n        \"description\": \"\"\n      }\n    }\n  ]\n}"
            }
          },
          "metadata": {},
          "execution_count": 4
        }
      ]
    },
    {
      "cell_type": "code",
      "source": [
        "\n",
        "df_control['group'] = 'control'\n",
        "df_test['group'] = 'test'\n",
        "\n",
        "df_combined = pd.concat([df_control, df_test])\n",
        "\n",
        "#логарифмическое преобразование к 'sum_gamerounds'\n",
        "df_combined['log_sum_gamerounds'] = np.log1p(df_combined['sum_gamerounds'])  # log1p для обработки нулевых значений\n",
        "\n",
        "plt.figure(figsize=(8, 5))\n",
        "\n",
        "sns.boxplot(x='group', y='log_sum_gamerounds', data=df_combined)\n",
        "\n",
        "# Добавим заголовок и метки осей\n",
        "plt.title('График box-plot логарифма sum_gamerounds по группам')\n",
        "plt.xlabel('Группа')\n",
        "plt.ylabel('log_sum_gamerounds')\n",
        "\n",
        "# Отобразимграфик\n",
        "plt.show()"
      ],
      "metadata": {
        "colab": {
          "base_uri": "https://localhost:8080/",
          "height": 487
        },
        "id": "k4LhK591-T03",
        "outputId": "c84d9cf7-38fc-4014-bf1c-495c0a10dac3"
      },
      "execution_count": 6,
      "outputs": [
        {
          "output_type": "display_data",
          "data": {
            "text/plain": [
              "<Figure size 800x500 with 1 Axes>"
            ],
            "image/png": "[encoded data removed]"
          },
          "metadata": {}
        }
      ]
    },
    {
      "cell_type": "code",
      "source": [
        "#Удалим выброс в контрольной группе, чтобы не мешал\n",
        "max_value = df_control['sum_gamerounds'].max()\n",
        "df_control = df_control[df_control['sum_gamerounds'] != max_value]\n"
      ],
      "metadata": {
        "id": "kNgHx_18_TB5"
      },
      "execution_count": 7,
      "outputs": []
    },
    {
      "cell_type": "markdown",
      "source": [
        "##Вычисление размера выборки"
      ],
      "metadata": {
        "id": "G5IQkyou_5jS"
      }
    },
    {
      "cell_type": "code",
      "source": [
        "# Установим желаемые ошибки первого и второго рода\n",
        "alpha = 0.05\n",
        "beta = 0.2\n",
        "\n",
        "Z = (norm.ppf(1-(alpha/2), loc=0, scale=1) + norm.ppf(1-beta, loc=0, scale=1))**2\n",
        "var = pd.concat([df_control['sum_gamerounds'],df_test['sum_gamerounds']]).var()\n",
        "\n",
        "expected_effect_size = 5\n",
        "\n",
        "#Рассчитаем размер выборки\n",
        "sample_size = (Z*2*var)/(expected_effect_size**2)\n",
        "\n",
        "print(sample_size.astype('int'))"
      ],
      "metadata": {
        "colab": {
          "base_uri": "https://localhost:8080/"
        },
        "id": "SnzWPXP7_t6s",
        "outputId": "051bf244-ca3a-457a-9394-09ffcba3782c"
      },
      "execution_count": 11,
      "outputs": [
        {
          "output_type": "stream",
          "name": "stdout",
          "text": [
            "6620\n"
          ]
        }
      ]
    },
    {
      "cell_type": "markdown",
      "source": [
        "##Деление на группы"
      ],
      "metadata": {
        "id": "wzLmueWwBIIh"
      }
    },
    {
      "cell_type": "code",
      "source": [
        "def choose_random_sample(data):\n",
        "    return data.sample(n=int(sample_size), random_state=42)\n",
        "\n",
        "df_control_smpl = df_control.apply(choose_random_sample)\n",
        "df_test_smpl = df_test.apply(choose_random_sample)\n",
        "\n",
        "print(df_control_smpl)\n",
        "print(df_test_smpl)"
      ],
      "metadata": {
        "colab": {
          "base_uri": "https://localhost:8080/"
        },
        "id": "f7r33bGqA-2b",
        "outputId": "8475eb3c-4ac1-4d45-f40f-e78aec2b3847"
      },
      "execution_count": 13,
      "outputs": [
        {
          "output_type": "stream",
          "name": "stdout",
          "text": [
            "        userid  version  sum_gamerounds  retention_1  retention_7    group\n",
            "58981  6531088  gate_30              55         True        False  control\n",
            "72248  8003089  gate_30               2        False        False  control\n",
            "50215  5566807  gate_30              23         True        False  control\n",
            "609      64235  gate_30               1        False        False  control\n",
            "56038  6210551  gate_30               7        False        False  control\n",
            "...        ...      ...             ...          ...          ...      ...\n",
            "48336  5360248  gate_30               0        False        False  control\n",
            "19558  2177537  gate_30               9        False        False  control\n",
            "32381  3601437  gate_30               2         True        False  control\n",
            "30133  3356288  gate_30              71        False        False  control\n",
            "63009  6982177  gate_30               1        False        False  control\n",
            "\n",
            "[6620 rows x 6 columns]\n",
            "        userid  version  sum_gamerounds  retention_1  retention_7 group\n",
            "40554  4486568  gate_40               1        False        False  test\n",
            "83613  9265806  gate_40              10        False        False  test\n",
            "71485  7922317  gate_40              12        False        False  test\n",
            "21925  2440769  gate_40              46         True        False  test\n",
            "12383  1370609  gate_40              10        False        False  test\n",
            "...        ...      ...             ...          ...          ...   ...\n",
            "21133  2351949  gate_40               0        False        False  test\n",
            "39520  4377658  gate_40              29         True        False  test\n",
            "82553  9146679  gate_40             143         True         True  test\n",
            "30007  3339957  gate_40              49         True        False  test\n",
            "48680  5396605  gate_40               6         True         True  test\n",
            "\n",
            "[6620 rows x 6 columns]\n"
          ]
        }
      ]
    },
    {
      "cell_type": "markdown",
      "source": [
        "##Расчет статистики и результаты"
      ],
      "metadata": {
        "id": "5oL7Fy_gDLwa"
      }
    },
    {
      "cell_type": "code",
      "source": [
        "# Проведение T-теста для проверки равенства средних в двух группах\n",
        "t_stat, p_value = stats.ttest_ind(df_control_smpl['sum_gamerounds'], df_test_smpl['sum_gamerounds'], equal_var=False)\n",
        "\n",
        "# Рассчет средних значений в обеих группах\n",
        "mean_control = df_control_smpl['sum_gamerounds'].mean()\n",
        "mean_test = df_test_smpl['sum_gamerounds'].mean()\n",
        "\n",
        "# Вывод результатов\n",
        "print(f'Среднее значение в контрольной группе: {mean_control:.2f}')\n",
        "print(f'Среднее значение в тестовой группе: {mean_test:.2f}')\n",
        "print(f'Значение статистики T: {t_stat:.4f}')\n",
        "print(f'p-значение: {p_value:.4f}')\n",
        "\n",
        "# Проверка гипотезы\n",
        "alpha = 0.05\n",
        "if p_value < alpha:\n",
        "    print('Отвергнули нулевую гипотезу: средние значения в группах статистически различаются.')\n",
        "else:\n",
        "    print('Невозможно отвергнуть нулевую гипотезу: нет статистически значимого различия между средними значениями в группах.')"
      ],
      "metadata": {
        "colab": {
          "base_uri": "https://localhost:8080/"
        },
        "id": "7UXXjiqoBQQ8",
        "outputId": "512d76d3-8af3-4d1e-89aa-70e2e11cbb42"
      },
      "execution_count": 16,
      "outputs": [
        {
          "output_type": "stream",
          "name": "stdout",
          "text": [
            "Среднее значение в контрольной группе: 50.78\n",
            "Среднее значение в тестовой группе: 51.75\n",
            "Значение статистики T: -0.5589\n",
            "p-значение: 0.5762\n",
            "Невозможно отвергнуть нулевую гипотезу: нет статистически значимого различия между средними значениями в группах.\n"
          ]
        }
      ]
    },
    {
      "cell_type": "markdown",
      "source": [
        "**Резюме:** Не удалось зафиксировать значимое отклонение. Размещение ворот на уровне 40 может быть неэффективной стратегией для увеличения количества игровых сессий."
      ],
      "metadata": {
        "id": "9hiDlxnoDyUF"
      }
    },
    {
      "cell_type": "markdown",
      "source": [
        "#Вопрос 2"
      ],
      "metadata": {
        "id": "ztNO3ZbGGcyl"
      }
    },
    {
      "cell_type": "markdown",
      "source": [
        "##Создание таблицы сопряженности"
      ],
      "metadata": {
        "id": "7UmCqZUfHFKI"
      }
    },
    {
      "cell_type": "code",
      "source": [
        "# Создание таблицы сопряженности\n",
        "contingency_table = pd.crosstab(df['version'], df['retention_1'])\n",
        "\n",
        "print(\"Таблица сопряженности с частотами:\")\n",
        "print(contingency_table)\n",
        "print(\"-\"*40)\n",
        "\n",
        "# Рассчет процентного соотношения по строкам\n",
        "row_percentages = contingency_table.div(contingency_table.sum(axis=1), axis=0) * 100\n",
        "\n",
        "print(\"\\nПроцентное соотношение по строкам:\")\n",
        "print(row_percentages)"
      ],
      "metadata": {
        "colab": {
          "base_uri": "https://localhost:8080/"
        },
        "id": "GvhpzisACXKN",
        "outputId": "f8fe3017-2904-4eda-b3b2-49a26a46b7aa"
      },
      "execution_count": 19,
      "outputs": [
        {
          "output_type": "stream",
          "name": "stdout",
          "text": [
            "Таблица сопряженности с частотами:\n",
            "retention_1  False  True \n",
            "version                  \n",
            "gate_30      24666  20034\n",
            "gate_40      25370  20119\n",
            "----------------------------------------\n",
            "\n",
            "Процентное соотношение по строкам:\n",
            "retention_1      False      True \n",
            "version                          \n",
            "gate_30      55.181208  44.818792\n",
            "gate_40      55.771725  44.228275\n"
          ]
        }
      ]
    },
    {
      "cell_type": "markdown",
      "source": [
        "**Промежуточный вывод:** По таблице сопряженности видно, что изменение не дало результатов. Я продолжу исследование, хотя результат уже очевиден."
      ],
      "metadata": {
        "id": "quvMSuy9GtQ0"
      }
    },
    {
      "cell_type": "markdown",
      "source": [
        "##Рассчет размера выборки"
      ],
      "metadata": {
        "id": "iymbfI90HRpo"
      }
    },
    {
      "cell_type": "code",
      "source": [
        "\n",
        "alpha = 0.05        # Уровень значимости\n",
        "power = 0.8        # Мощность\n",
        "\n",
        "p1 = row_percentages.iloc[0,1]\n",
        "p2 = p1 + 0.02\n",
        "\n",
        "es = sms.proportion_effectsize(p1, p2)\n",
        "\n",
        "sample_size = sms.NormalIndPower().solve_power(es, power=0.8, alpha=0.05, ratio=1)\n",
        "\n",
        "print(f\"Необходимый размер выборки: {sample_size:}\")"
      ],
      "metadata": {
        "id": "8oxYDg9HGgS2"
      },
      "execution_count": null,
      "outputs": []
    },
    {
      "cell_type": "markdown",
      "source": [
        "##Деление на группы"
      ],
      "metadata": {
        "id": "OCrvqL3fIBn6"
      }
    },
    {
      "cell_type": "code",
      "source": [
        "sample_size = 9741\n",
        "\n",
        "\n",
        "df_smpl = df.groupby('version', group_keys=False).apply(choose_random_sample)\n",
        "\n",
        "print(df_smpl)"
      ],
      "metadata": {
        "colab": {
          "base_uri": "https://localhost:8080/"
        },
        "id": "taiacIgsHtXs",
        "outputId": "309e57da-0439-4a81-cb8a-1e6bce148077"
      },
      "execution_count": 22,
      "outputs": [
        {
          "output_type": "stream",
          "name": "stdout",
          "text": [
            "        userid  version  sum_gamerounds  retention_1  retention_7\n",
            "58980  6531033  gate_30              35        False        False\n",
            "72247  8003009  gate_30               4        False        False\n",
            "50215  5566807  gate_30              23         True        False\n",
            "609      64235  gate_30               1        False        False\n",
            "56038  6210551  gate_30               7        False        False\n",
            "...        ...      ...             ...          ...          ...\n",
            "39239  4345769  gate_40             201        False         True\n",
            "67816  7514840  gate_40              40         True        False\n",
            "46713  5179197  gate_40              16        False        False\n",
            "60827  6740993  gate_40              26        False        False\n",
            "64794  7177645  gate_40               1        False        False\n",
            "\n",
            "[19482 rows x 5 columns]\n"
          ]
        }
      ]
    },
    {
      "cell_type": "markdown",
      "source": [
        "##Визуализируем пропорции"
      ],
      "metadata": {
        "id": "Wc2jIX7BIMAn"
      }
    },
    {
      "cell_type": "code",
      "source": [
        "fig, ax = plt.subplots(figsize=(8, 5))\n",
        "sns.countplot(df_smpl, x='version', hue='retention_1', ax=ax)\n",
        "\n",
        "plt.show()"
      ],
      "metadata": {
        "colab": {
          "base_uri": "https://localhost:8080/",
          "height": 465
        },
        "id": "nPsvhn_yIJKS",
        "outputId": "72b3aa8b-e36b-4953-d927-57701a14311d"
      },
      "execution_count": 23,
      "outputs": [
        {
          "output_type": "display_data",
          "data": {
            "text/plain": [
              "<Figure size 800x500 with 1 Axes>"
            ],
            "image/png": "[encoded data removed]"
          },
          "metadata": {}
        }
      ]
    },
    {
      "cell_type": "code",
      "source": [
        "#Проведем Z-тест\n",
        "# Создание таблицы сопряженности\n",
        "contingency_table = pd.crosstab(df_smpl['version'], df_smpl['retention_1'])\n",
        "\n",
        "print(\"Таблица сопряженности с частотами:\")\n",
        "print(contingency_table)\n",
        "print(\"-\"*40)\n",
        "\n",
        "# Рассчет процентного соотношения по строкам\n",
        "row_percentages = contingency_table.div(contingency_table.sum(axis=1), axis=0) * 100\n",
        "\n",
        "print(\"\\nПроцентное соотношение по строкам:\")\n",
        "print(row_percentages)\n",
        "print(\"-\"*40)\n",
        "\n",
        "# Подсчет количества успехов (конверсий) и испытаний в каждой группе\n",
        "success_A = contingency_table.iloc[0,1]\n",
        "trials_A = contingency_table.iloc[0,0] + contingency_table.iloc[0,1]\n",
        "\n",
        "success_B = contingency_table.iloc[1,1]\n",
        "trials_B = contingency_table.iloc[1,0] + contingency_table.iloc[1,1]\n",
        "\n",
        "# Проведение Z-теста для пропорций\n",
        "z_stat, p_value = sm.stats.proportions_ztest([success_A, success_B], [trials_A, trials_B], alternative='smaller') #  [‘two-sided’, ‘smaller’, ‘larger’]\n",
        "\n",
        "# Вывод результатов\n",
        "print(f\"Z-статистика: {z_stat:.4f}\")\n",
        "print(f\"P-значение: {p_value:.4f}\")\n",
        "\n",
        "# Интерпретация результатов\n",
        "alpha = 0.05\n",
        "if p_value < alpha:\n",
        "    print('Отвергнули нулевую гипотезу: средние значения в группах статистически различаются.')\n",
        "else:\n",
        "    print('Невозможно отвергнуть нулевую гипотезу: нет статистически значимого различия между средними значениями в группах.')"
      ],
      "metadata": {
        "colab": {
          "base_uri": "https://localhost:8080/"
        },
        "id": "RT-eeC8aIVxC",
        "outputId": "7bea5bbb-e245-4bef-eae0-d66c17c64a32"
      },
      "execution_count": 28,
      "outputs": [
        {
          "output_type": "stream",
          "name": "stdout",
          "text": [
            "Таблица сопряженности с частотами:\n",
            "retention_1  False  True \n",
            "version                  \n",
            "gate_30       5394   4347\n",
            "gate_40       5370   4371\n",
            "----------------------------------------\n",
            "\n",
            "Процентное соотношение по строкам:\n",
            "retention_1      False      True \n",
            "version                          \n",
            "gate_30      55.374192  44.625808\n",
            "gate_40      55.127810  44.872190\n",
            "----------------------------------------\n",
            "Z-статистика: -0.3458\n",
            "P-значение: 0.3647\n",
            "Невозможно отвергнуть нулевую гипотезу: нет статистически значимого различия между средними значениями в группах.\n"
          ]
        }
      ]
    },
    {
      "cell_type": "markdown",
      "source": [
        "**Резюме:** Вторую гипотезу также не удалось подтвердить."
      ],
      "metadata": {
        "id": "a3zqzGEUJfie"
      }
    },
    {
      "cell_type": "markdown",
      "source": [
        "#Вопрос 3"
      ],
      "metadata": {
        "id": "9VyyUzQjJ5Ss"
      }
    },
    {
      "cell_type": "markdown",
      "source": [
        "##Создание таблицы сопряженности"
      ],
      "metadata": {
        "id": "MWAEY9k8KAgd"
      }
    },
    {
      "cell_type": "code",
      "source": [
        "contingency_table = pd.crosstab(df['version'], df['retention_7'])\n",
        "\n",
        "print(\"Таблица сопряженности с частотами:\")\n",
        "print(contingency_table)\n",
        "print(\"-\"*40)\n",
        "\n",
        "row_percentages = contingency_table.div(contingency_table.sum(axis=1), axis=0) * 100\n",
        "\n",
        "print(\"\\nПроцентное соотношение по строкам:\")\n",
        "print(row_percentages)"
      ],
      "metadata": {
        "colab": {
          "base_uri": "https://localhost:8080/"
        },
        "id": "lS8UCqzzJs-U",
        "outputId": "422c1c6c-8ad3-4f06-fa00-462e304af5dc"
      },
      "execution_count": 29,
      "outputs": [
        {
          "output_type": "stream",
          "name": "stdout",
          "text": [
            "Таблица сопряженности с частотами:\n",
            "retention_7  False  True \n",
            "version                  \n",
            "gate_30      36198   8502\n",
            "gate_40      37210   8279\n",
            "----------------------------------------\n",
            "\n",
            "Процентное соотношение по строкам:\n",
            "retention_7      False      True \n",
            "version                          \n",
            "gate_30      80.979866  19.020134\n",
            "gate_40      81.799996  18.200004\n"
          ]
        }
      ]
    },
    {
      "cell_type": "markdown",
      "source": [
        "**Резюме:** Как и во втором вопросе, все видно уже на этапе обзора данных. Не нужно проводить A/B-тест, когда понятно, что статистически значимых отличий нет. Наше нововведение не позволило улучшить retention."
      ],
      "metadata": {
        "id": "my2YmzG8KSnJ"
      }
    }
  ]
}